{
 "cells": [
  {
   "cell_type": "code",
   "execution_count": 1,
   "metadata": {
    "ExecuteTime": {
     "end_time": "2020-05-12T07:58:52.021230Z",
     "start_time": "2020-05-12T07:58:51.600611Z"
    }
   },
   "outputs": [],
   "source": [
    "import numpy as np\n",
    "import pandas as pd\n",
    "import matplotlib.pyplot as plt\n",
    "from sklearn.metrics import f1_score"
   ]
  },
  {
   "cell_type": "code",
   "execution_count": 2,
   "metadata": {
    "ExecuteTime": {
     "end_time": "2020-05-12T07:58:53.961035Z",
     "start_time": "2020-05-12T07:58:52.022397Z"
    }
   },
   "outputs": [
    {
     "name": "stdout",
     "output_type": "stream",
     "text": [
      "(4500000, 7) (2000000, 8)\n"
     ]
    },
    {
     "data": {
      "text/html": [
       "<div>\n",
       "<style scoped>\n",
       "    .dataframe tbody tr th:only-of-type {\n",
       "        vertical-align: middle;\n",
       "    }\n",
       "\n",
       "    .dataframe tbody tr th {\n",
       "        vertical-align: top;\n",
       "    }\n",
       "\n",
       "    .dataframe thead th {\n",
       "        text-align: right;\n",
       "    }\n",
       "</style>\n",
       "<table border=\"1\" class=\"dataframe\">\n",
       "  <thead>\n",
       "    <tr style=\"text-align: right;\">\n",
       "      <th></th>\n",
       "      <th>time</th>\n",
       "      <th>signal</th>\n",
       "      <th>local_time</th>\n",
       "      <th>mini_local_time</th>\n",
       "      <th>batch</th>\n",
       "      <th>mini_batch</th>\n",
       "      <th>open_channels</th>\n",
       "      <th>group</th>\n",
       "    </tr>\n",
       "  </thead>\n",
       "  <tbody>\n",
       "    <tr>\n",
       "      <th>0</th>\n",
       "      <td>500.000092</td>\n",
       "      <td>-2.649832</td>\n",
       "      <td>0.000092</td>\n",
       "      <td>0.000092</td>\n",
       "      <td>1</td>\n",
       "      <td>1</td>\n",
       "      <td>0</td>\n",
       "      <td>1_1</td>\n",
       "    </tr>\n",
       "    <tr>\n",
       "      <th>1</th>\n",
       "      <td>500.000214</td>\n",
       "      <td>-2.849463</td>\n",
       "      <td>0.000214</td>\n",
       "      <td>0.000214</td>\n",
       "      <td>1</td>\n",
       "      <td>1</td>\n",
       "      <td>0</td>\n",
       "      <td>1_1</td>\n",
       "    </tr>\n",
       "    <tr>\n",
       "      <th>2</th>\n",
       "      <td>500.000305</td>\n",
       "      <td>-2.860094</td>\n",
       "      <td>0.000305</td>\n",
       "      <td>0.000305</td>\n",
       "      <td>1</td>\n",
       "      <td>1</td>\n",
       "      <td>0</td>\n",
       "      <td>1_1</td>\n",
       "    </tr>\n",
       "    <tr>\n",
       "      <th>3</th>\n",
       "      <td>500.000397</td>\n",
       "      <td>-2.435126</td>\n",
       "      <td>0.000397</td>\n",
       "      <td>0.000397</td>\n",
       "      <td>1</td>\n",
       "      <td>1</td>\n",
       "      <td>0</td>\n",
       "      <td>1_1</td>\n",
       "    </tr>\n",
       "    <tr>\n",
       "      <th>4</th>\n",
       "      <td>500.000488</td>\n",
       "      <td>-2.615657</td>\n",
       "      <td>0.000488</td>\n",
       "      <td>0.000488</td>\n",
       "      <td>1</td>\n",
       "      <td>1</td>\n",
       "      <td>0</td>\n",
       "      <td>1_1</td>\n",
       "    </tr>\n",
       "  </tbody>\n",
       "</table>\n",
       "</div>"
      ],
      "text/plain": [
       "         time    signal  local_time  mini_local_time  batch  mini_batch  \\\n",
       "0  500.000092 -2.649832    0.000092         0.000092      1           1   \n",
       "1  500.000214 -2.849463    0.000214         0.000214      1           1   \n",
       "2  500.000305 -2.860094    0.000305         0.000305      1           1   \n",
       "3  500.000397 -2.435126    0.000397         0.000397      1           1   \n",
       "4  500.000488 -2.615657    0.000488         0.000488      1           1   \n",
       "\n",
       "   open_channels group  \n",
       "0              0   1_1  \n",
       "1              0   1_1  \n",
       "2              0   1_1  \n",
       "3              0   1_1  \n",
       "4              0   1_1  "
      ]
     },
     "execution_count": 2,
     "metadata": {},
     "output_type": "execute_result"
    }
   ],
   "source": [
    "df_train = pd.read_pickle('../features/train_clean.pkl')\n",
    "df_test = pd.read_pickle('../features/test_clean.pkl')\n",
    "df_train[\"oof\"] = 0\n",
    "TARGET = \"open_channels\"\n",
    "df_test[TARGET] = 0\n",
    "df_test[\"group\"] = df_test[\"batch\"].astype(\"str\") + \"_\" + df_test[\"mini_batch\"].astype(\"str\")\n",
    "print(df_train.shape, df_test.shape)\n",
    "df_test.head()"
   ]
  },
  {
   "cell_type": "code",
   "execution_count": 3,
   "metadata": {
    "ExecuteTime": {
     "end_time": "2020-05-12T07:58:53.985909Z",
     "start_time": "2020-05-12T07:58:53.962049Z"
    }
   },
   "outputs": [
    {
     "data": {
      "text/plain": [
       "(1000000,)"
      ]
     },
     "execution_count": 3,
     "metadata": {},
     "output_type": "execute_result"
    }
   ],
   "source": [
    "df_train.loc[df_train.batch.isin([5,10]), \"oof\"].shape"
   ]
  },
  {
   "cell_type": "code",
   "execution_count": 4,
   "metadata": {
    "ExecuteTime": {
     "end_time": "2020-05-12T07:58:55.297777Z",
     "start_time": "2020-05-12T07:58:53.986866Z"
    }
   },
   "outputs": [
    {
     "name": "stdout",
     "output_type": "stream",
     "text": [
      "oof score is: 0.942\n"
     ]
    }
   ],
   "source": [
    "# oof\n",
    "oof_model_1 = np.load(\"oof/oof_model_1.npy\")\n",
    "oof_model_2 = np.load(\"oof/oof_model_2.npy\")\n",
    "oof_model_3 = np.load(\"oof/oof_model_3.npy\")\n",
    "# oof_model_4 = np.load(\"oof/oof_model_4.npy\")\n",
    "oof_model_4 = np.load(\"fwd_back_oof/fwd_back_oof_model_4.npy\")\n",
    "# oof_model_5 = np.load(\"oof/oof_model_5.npy\")\n",
    "oof_model_5 = np.load(\"fwd_back_oof/fwd_back_oof_model_5.npy\")\n",
    "\n",
    "df_train.loc[df_train.batch.isin([1,2]), \"oof\"] = oof_model_1\n",
    "df_train.loc[df_train.batch.isin([3,7]), \"oof\"] = oof_model_2\n",
    "df_train.loc[df_train.batch.isin([4]), \"oof\"] = oof_model_3\n",
    "df_train.loc[df_train.batch.isin([6,9]), \"oof\"] = oof_model_4\n",
    "df_train.loc[df_train.batch.isin([5,10]), \"oof\"] = oof_model_5+2\n",
    "\n",
    "print(\"oof score is:\", f1_score(df_train.open_channels, df_train.oof, average = 'macro').round(4))"
   ]
  },
  {
   "cell_type": "code",
   "execution_count": 5,
   "metadata": {
    "ExecuteTime": {
     "end_time": "2020-05-12T07:58:55.612169Z",
     "start_time": "2020-05-12T07:58:55.298860Z"
    }
   },
   "outputs": [],
   "source": [
    "# merge predictions\n",
    "pred_model_1 = np.load(\"pred/pred_model_1.npy\")\n",
    "pred_model_2 = np.load(\"pred/pred_model_2.npy\")\n",
    "pred_model_3 = np.load(\"pred/pred_model_3.npy\")\n",
    "# pred_model_4 = np.load(\"pred/pred_model_4.npy\")\n",
    "pred_model_4 = np.load(\"fwd_back_pred/fwd_back_pred_model_4.npy\")\n",
    "# pred_model_5 = np.load(\"pred/pred_model_5.npy\")\n",
    "pred_model_5 = np.load(\"fwd_back_pred/fwd_back_pred_model_5.npy\")\n",
    "pred_model_6 = np.load(\"pred/pred_model_6.npy\")\n",
    "pred_model_7 = np.load(\"pred/pred_model_7.npy\")\n",
    "\n",
    "model_1_group = [\"1_1\"]\n",
    "model_2_group = [\"1_5\"]\n",
    "model_3_group = [\"1_2\", \"2_5\"]\n",
    "model_4_group = [\"1_3\", \"2_2\"]\n",
    "model_5_group = [\"2_1\", \"2_3\"]\n",
    "model_6_group = [\"1_4\", \"2_4\", \"3_1\", \"3_2\", \"3_4\", \"3_5\", \"4_1\", \"4_2\", \"4_3\", \"4_4\", \"4_5\"]\n",
    "model_7_group = [\"3_3\"]\n",
    "\n",
    "df_test.loc[df_test.group.isin(model_1_group) , \"open_channels\"] = pred_model_1\n",
    "df_test.loc[df_test.group.isin(model_2_group) , \"open_channels\"] = pred_model_2\n",
    "df_test.loc[df_test.group.isin(model_3_group) , \"open_channels\"] = pred_model_3\n",
    "df_test.loc[df_test.group.isin(model_4_group) , \"open_channels\"] = pred_model_4\n",
    "df_test.loc[df_test.group.isin(model_5_group) , \"open_channels\"] = pred_model_5+2\n",
    "df_test.loc[df_test.group.isin(model_6_group) , \"open_channels\"] = pred_model_6\n",
    "df_test.loc[df_test.group.isin(model_7_group) , \"open_channels\"] = pred_model_7"
   ]
  },
  {
   "cell_type": "code",
   "execution_count": 6,
   "metadata": {
    "ExecuteTime": {
     "end_time": "2020-05-12T07:58:56.097818Z",
     "start_time": "2020-05-12T07:58:55.613295Z"
    }
   },
   "outputs": [],
   "source": [
    "# fix model 5 class 1 problem\n",
    "ref = pd.read_csv(\"../submissions/submission_wavenet_rfc.csv\", dtype={'time': 'str'})\n",
    "df_test[\"ref\"] = ref.open_channels\n",
    "df_test.loc[(df_test.batch == 2) & (df_test.mini_batch.isin([1,3])) & (df_test.ref <= 1), \"open_channels\"] = 1"
   ]
  },
  {
   "cell_type": "code",
   "execution_count": 7,
   "metadata": {
    "ExecuteTime": {
     "end_time": "2020-05-12T07:58:56.100568Z",
     "start_time": "2020-05-12T07:58:56.098730Z"
    }
   },
   "outputs": [],
   "source": [
    "# visualize final predictions\n",
    "color_list = [\n",
    "    \"b\", \"g\", \"r\", \"c\", \"m\", \"k\", \"y\", '#0000FF', '#8A2BE2', '#A52A2A',\n",
    "    '#DEB887', '#5F9EA0'\n",
    "]"
   ]
  },
  {
   "cell_type": "code",
   "execution_count": 8,
   "metadata": {
    "ExecuteTime": {
     "end_time": "2020-05-12T07:58:58.545641Z",
     "start_time": "2020-05-12T07:58:56.101427Z"
    }
   },
   "outputs": [
    {
     "data": {
      "image/png": "[encoded data removed]",
      "text/plain": [
       "<Figure size 864x432 with 1 Axes>"
      ]
     },
     "metadata": {
      "needs_background": "light"
     },
     "output_type": "display_data"
    }
   ],
   "source": [
    "df_test.loc[(df_test.batch.isin([2])) & (df_test.mini_batch.isin([1, 3])), \"signal\"] += 2.73\n",
    "\n",
    "fig = plt.figure(figsize=(12, 6))\n",
    "plt.grid()\n",
    "for channel_i in range(11):\n",
    "    plt.plot(df_test[df_test.open_channels == channel_i].signal,\n",
    "             \".\",\n",
    "             color=color_list[channel_i],\n",
    "             alpha=0.8)"
   ]
  },
  {
   "cell_type": "code",
   "execution_count": 9,
   "metadata": {
    "ExecuteTime": {
     "end_time": "2020-05-12T07:58:58.687186Z",
     "start_time": "2020-05-12T07:58:58.546553Z"
    }
   },
   "outputs": [],
   "source": [
    "sub  = pd.read_csv('../input/sample_submission.csv', dtype={'time': np.float32})\n",
    "sub[\"open_channels\"] = df_test.open_channels.astype(int)\n",
    "# sub.to_csv('../submissions/sub.csv', index=False, float_format='%.4f')"
   ]
  },
  {
   "cell_type": "code",
   "execution_count": null,
   "metadata": {},
   "outputs": [],
   "source": []
  },
  {
   "cell_type": "code",
   "execution_count": null,
   "metadata": {},
   "outputs": [],
   "source": []
  },
  {
   "cell_type": "code",
   "execution_count": null,
   "metadata": {
    "ExecuteTime": {
     "end_time": "2020-05-12T07:52:00.499054Z",
     "start_time": "2020-05-12T07:52:00.490929Z"
    }
   },
   "outputs": [],
   "source": []
  },
  {
   "cell_type": "code",
   "execution_count": null,
   "metadata": {},
   "outputs": [],
   "source": []
  },
  {
   "cell_type": "code",
   "execution_count": null,
   "metadata": {},
   "outputs": [],
   "source": []
  }
 ],
 "metadata": {
  "kernelspec": {
   "display_name": "Python 3",
   "language": "python",
   "name": "python3"
  },
  "language_info": {
   "codemirror_mode": {
    "name": "ipython",
    "version": 3
   },
   "file_extension": ".py",
   "mimetype": "text/x-python",
   "name": "python",
   "nbconvert_exporter": "python",
   "pygments_lexer": "ipython3",
   "version": "3.7.5"
  }
 },
 "nbformat": 4,
 "nbformat_minor": 2
}
