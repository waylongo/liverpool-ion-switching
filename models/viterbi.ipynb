{
 "cells": [
  {
   "cell_type": "code",
   "execution_count": 1,
   "metadata": {
    "ExecuteTime": {
     "end_time": "2020-05-07T16:30:15.082144Z",
     "start_time": "2020-05-07T16:30:14.068743Z"
    }
   },
   "outputs": [],
   "source": [
    "import numpy as np\n",
    "import pandas as pd\n",
    "import matplotlib.pyplot as plt\n",
    "\n",
    "from sklearn.model_selection import StratifiedKFold\n",
    "from sklearn.metrics import confusion_matrix\n",
    "from post_processing import *\n",
    "from utils_mini import *\n",
    "from fast_macro_f1_func import *\n",
    "import seaborn as sns\n",
    "\n",
    "from sklearn.metrics import f1_score, accuracy_score\n",
    "\n",
    "import lightgbm as lgb\n",
    "\n",
    "import warnings\n",
    "warnings.filterwarnings(\"ignore\")\n",
    "\n",
    "pd.set_option('display.max_columns', None)"
   ]
  },
  {
   "cell_type": "code",
   "execution_count": 2,
   "metadata": {
    "ExecuteTime": {
     "end_time": "2020-05-07T16:30:15.090056Z",
     "start_time": "2020-05-07T16:30:15.083820Z"
    }
   },
   "outputs": [],
   "source": [
    "def create_axes_grid(numplots_x, numplots_y, plotsize_x=6, plotsize_y=3):\n",
    "    fig, axes = plt.subplots(numplots_y, numplots_x)\n",
    "    fig.set_size_inches(plotsize_x * numplots_x, plotsize_y * numplots_y)\n",
    "    fig.subplots_adjust(wspace=0.05, hspace=0.05)\n",
    "    return fig, axes\n",
    "    \n",
    "def set_axes(axes, use_grid=True, x_val = [0,100,10,5], y_val = [-50,50,10,5]):\n",
    "    axes.grid(use_grid)\n",
    "    axes.tick_params(which='both', direction='inout', top=True, right=True, labelbottom=True, labelleft=True)\n",
    "    axes.set_xlim(x_val[0], x_val[1])\n",
    "    axes.set_ylim(y_val[0], y_val[1])\n",
    "    axes.set_xticks(np.linspace(x_val[0], x_val[1], np.around((x_val[1] - x_val[0]) / x_val[2] + 1).astype(int)))\n",
    "    axes.set_xticks(np.linspace(x_val[0], x_val[1], np.around((x_val[1] - x_val[0]) / x_val[3] + 1).astype(int)), minor=True)\n",
    "    axes.set_yticks(np.linspace(y_val[0], y_val[1], np.around((y_val[1] - y_val[0]) / y_val[2] + 1).astype(int)))\n",
    "    axes.set_yticks(np.linspace(y_val[0], y_val[1], np.around((y_val[1] - y_val[0]) / y_val[3] + 1).astype(int)), minor=True)"
   ]
  },
  {
   "cell_type": "code",
   "execution_count": 3,
   "metadata": {
    "ExecuteTime": {
     "end_time": "2020-05-07T16:30:15.197918Z",
     "start_time": "2020-05-07T16:30:15.091069Z"
    }
   },
   "outputs": [
    {
     "name": "stdout",
     "output_type": "stream",
     "text": [
      "(4500000, 6) (2000000, 6)\n"
     ]
    },
    {
     "data": {
      "text/html": [
       "<div>\n",
       "<style scoped>\n",
       "    .dataframe tbody tr th:only-of-type {\n",
       "        vertical-align: middle;\n",
       "    }\n",
       "\n",
       "    .dataframe tbody tr th {\n",
       "        vertical-align: top;\n",
       "    }\n",
       "\n",
       "    .dataframe thead th {\n",
       "        text-align: right;\n",
       "    }\n",
       "</style>\n",
       "<table border=\"1\" class=\"dataframe\">\n",
       "  <thead>\n",
       "    <tr style=\"text-align: right;\">\n",
       "      <th></th>\n",
       "      <th>time</th>\n",
       "      <th>signal</th>\n",
       "      <th>open_channels</th>\n",
       "      <th>local_time</th>\n",
       "      <th>batch</th>\n",
       "      <th>mini_batch</th>\n",
       "    </tr>\n",
       "  </thead>\n",
       "  <tbody>\n",
       "    <tr>\n",
       "      <th>0</th>\n",
       "      <td>0.0001</td>\n",
       "      <td>-2.7600</td>\n",
       "      <td>0</td>\n",
       "      <td>0.0001</td>\n",
       "      <td>1</td>\n",
       "      <td>1</td>\n",
       "    </tr>\n",
       "    <tr>\n",
       "      <th>1</th>\n",
       "      <td>0.0002</td>\n",
       "      <td>-2.8557</td>\n",
       "      <td>0</td>\n",
       "      <td>0.0002</td>\n",
       "      <td>1</td>\n",
       "      <td>1</td>\n",
       "    </tr>\n",
       "    <tr>\n",
       "      <th>2</th>\n",
       "      <td>0.0003</td>\n",
       "      <td>-2.4074</td>\n",
       "      <td>0</td>\n",
       "      <td>0.0003</td>\n",
       "      <td>1</td>\n",
       "      <td>1</td>\n",
       "    </tr>\n",
       "    <tr>\n",
       "      <th>3</th>\n",
       "      <td>0.0004</td>\n",
       "      <td>-3.1404</td>\n",
       "      <td>0</td>\n",
       "      <td>0.0004</td>\n",
       "      <td>1</td>\n",
       "      <td>1</td>\n",
       "    </tr>\n",
       "    <tr>\n",
       "      <th>4</th>\n",
       "      <td>0.0005</td>\n",
       "      <td>-3.1525</td>\n",
       "      <td>0</td>\n",
       "      <td>0.0005</td>\n",
       "      <td>1</td>\n",
       "      <td>1</td>\n",
       "    </tr>\n",
       "  </tbody>\n",
       "</table>\n",
       "</div>"
      ],
      "text/plain": [
       "     time  signal  open_channels  local_time  batch  mini_batch\n",
       "0  0.0001 -2.7600              0      0.0001      1           1\n",
       "1  0.0002 -2.8557              0      0.0002      1           1\n",
       "2  0.0003 -2.4074              0      0.0003      1           1\n",
       "3  0.0004 -3.1404              0      0.0004      1           1\n",
       "4  0.0005 -3.1525              0      0.0005      1           1"
      ]
     },
     "execution_count": 3,
     "metadata": {},
     "output_type": "execute_result"
    }
   ],
   "source": [
    "df_train = pd.read_pickle('../features/train_clean.pkl')\n",
    "df_test = pd.read_pickle('../features/test_clean.pkl')\n",
    "TARGET = \"open_channels\"\n",
    "\n",
    "print(df_train.shape, df_test.shape)\n",
    "df_train.head()"
   ]
  },
  {
   "cell_type": "code",
   "execution_count": 4,
   "metadata": {
    "ExecuteTime": {
     "end_time": "2020-05-07T16:30:15.292398Z",
     "start_time": "2020-05-07T16:30:15.198807Z"
    }
   },
   "outputs": [],
   "source": [
    "BATCH_GROUP = [6]\n",
    "TEST_GROUP = [9]\n",
    "\n",
    "signal = df_train[df_train.batch.isin(BATCH_GROUP)]['signal'].values\n",
    "signal_test = df_train[df_train.batch.isin(TEST_GROUP)]['signal'].values\n",
    "\n",
    "true_state = df_train[df_train.batch.isin(BATCH_GROUP)]['open_channels'].values\n",
    "true_state_test= df_train[df_train.batch.isin(TEST_GROUP)]['open_channels'].values"
   ]
  },
  {
   "cell_type": "code",
   "execution_count": 5,
   "metadata": {
    "ExecuteTime": {
     "end_time": "2020-05-07T16:30:15.296919Z",
     "start_time": "2020-05-07T16:30:15.293281Z"
    }
   },
   "outputs": [],
   "source": [
    "def viterbi(p_trans, p_signal, p_in, signal):\n",
    "\n",
    "    offset = 10**(-20) # added to values to avoid problems with log2(0)\n",
    "\n",
    "    p_trans_tlog  = np.transpose(np.log2(p_trans  + offset)) # p_trans, logarithm + transposed\n",
    "    p_signal_tlog = np.transpose(np.log2(p_signal + offset)) # p_signal, logarithm + transposed\n",
    "    p_in_log      =              np.log2(p_in     + offset)  # p_in, logarithm\n",
    "\n",
    "    p_state_log = [ p_in_log + p_signal_tlog[signal[0]] ] # initial state probabilities for signal element 0 \n",
    "\n",
    "    for s in signal[1:]:\n",
    "        p_state_log.append(np.max(p_state_log[-1] + p_trans_tlog, axis=1) + p_signal_tlog[s]) # the Viterbi algorithm\n",
    "\n",
    "    states = np.argmax(p_state_log, axis=1) # finding the most probable states\n",
    "    \n",
    "    return np.array(p_state_log), states"
   ]
  },
  {
   "cell_type": "code",
   "execution_count": 6,
   "metadata": {
    "ExecuteTime": {
     "end_time": "2020-05-07T16:30:15.317535Z",
     "start_time": "2020-05-07T16:30:15.297758Z"
    }
   },
   "outputs": [],
   "source": [
    "def calc_markov_p_trans(states):\n",
    "    max_state = np.max(states)\n",
    "    states_next = np.roll(states, -1)\n",
    "    matrix = []\n",
    "    for i in range(max_state + 1):\n",
    "        current_row = np.histogram(states_next[states == i], bins=np.arange(max_state + 2))[0]\n",
    "        if np.sum(current_row) == 0: # if a state doesn't appear in states...\n",
    "            current_row = np.ones(max_state + 1) / (max_state + 1) # ...use uniform probability\n",
    "        else:\n",
    "            current_row = current_row / np.sum(current_row) # normalize to 1\n",
    "        matrix.append(current_row)\n",
    "    return np.array(matrix)\n",
    "\n",
    "p_trans = calc_markov_p_trans(true_state)"
   ]
  },
  {
   "cell_type": "code",
   "execution_count": 7,
   "metadata": {
    "ExecuteTime": {
     "end_time": "2020-05-07T16:30:15.519556Z",
     "start_time": "2020-05-07T16:30:15.318922Z"
    }
   },
   "outputs": [
    {
     "data": {
      "text/plain": [
       "(6.0, 0.0)"
      ]
     },
     "execution_count": 7,
     "metadata": {},
     "output_type": "execute_result"
    },
    {
     "data": {
      "image/png": "[encoded data removed]",
      "text/plain": [
       "<Figure size 432x288 with 2 Axes>"
      ]
     },
     "metadata": {
      "needs_background": "light"
     },
     "output_type": "display_data"
    }
   ],
   "source": [
    "f, ax = plt.subplots(figsize=(6, 4))\n",
    "sns.heatmap(p_trans, annot=True, fmt=\".3f\", linewidths=.5, ax=ax)\n",
    "bottom, top = ax.get_ylim()\n",
    "ax.set_ylim(bottom + 0.5, top - 0.5)"
   ]
  },
  {
   "cell_type": "code",
   "execution_count": 8,
   "metadata": {
    "ExecuteTime": {
     "end_time": "2020-05-07T16:30:15.554780Z",
     "start_time": "2020-05-07T16:30:15.520742Z"
    }
   },
   "outputs": [],
   "source": [
    "def calc_markov_p_signal(state, signal, num_bins = 1000):\n",
    "    states_range = np.arange(state.min(), state.max() + 1)\n",
    "    signal_bins = np.linspace(signal.min(), signal.max(), num_bins + 1)\n",
    "    p_signal = np.array([ np.histogram(signal[state == s], bins=signal_bins)[0] for s in states_range ])\n",
    "    p_signal = np.array([ p / np.sum(p) for p in p_signal ]) # normalize to 1\n",
    "    return p_signal, signal_bins\n",
    "\n",
    "p_signal, signal_bins = calc_markov_p_signal(true_state, signal)"
   ]
  },
  {
   "cell_type": "code",
   "execution_count": 9,
   "metadata": {
    "ExecuteTime": {
     "end_time": "2020-05-07T16:30:15.605095Z",
     "start_time": "2020-05-07T16:30:15.555723Z"
    }
   },
   "outputs": [
    {
     "name": "stdout",
     "output_type": "stream",
     "text": [
      "Signal bin values: [774 802 853 ... 862 833 839]\n"
     ]
    }
   ],
   "source": [
    "def digitize_signal(signal, signal_bins):\n",
    "    signal_dig = np.digitize(signal, bins=signal_bins) - 1 # these -1 and -2 are necessary because of the way...\n",
    "    signal_dig = np.minimum(signal_dig, len(signal_bins) - 2) # ... numpy.digitize works\n",
    "    return signal_dig\n",
    "\n",
    "signal_dig = digitize_signal(signal, signal_bins)\n",
    "signal_dig_test = digitize_signal(signal_test, signal_bins)\n",
    "print (\"Signal bin values:\", signal_dig)"
   ]
  },
  {
   "cell_type": "code",
   "execution_count": 10,
   "metadata": {
    "ExecuteTime": {
     "end_time": "2020-05-07T16:30:15.608508Z",
     "start_time": "2020-05-07T16:30:15.605998Z"
    }
   },
   "outputs": [
    {
     "name": "stdout",
     "output_type": "stream",
     "text": [
      "Initial probability p_in = [0.16666667 0.16666667 0.16666667 0.16666667 0.16666667 0.16666667]\n"
     ]
    }
   ],
   "source": [
    "p_in = np.ones(len(p_trans)) / len(p_trans)\n",
    "print(\"Initial probability p_in =\", p_in)"
   ]
  },
  {
   "cell_type": "code",
   "execution_count": 11,
   "metadata": {
    "ExecuteTime": {
     "end_time": "2020-05-07T16:30:19.699969Z",
     "start_time": "2020-05-07T16:30:15.609376Z"
    }
   },
   "outputs": [
    {
     "name": "stdout",
     "output_type": "stream",
     "text": [
      "State sequence as predicted by Viterbi algorithm : [5 5 5 ... 5 5 5]\n"
     ]
    }
   ],
   "source": [
    "viterbi_arr, viterbi_state = viterbi(p_trans, p_signal, p_in, signal_dig)\n",
    "print(\"State sequence as predicted by Viterbi algorithm :\", viterbi_state)"
   ]
  },
  {
   "cell_type": "code",
   "execution_count": 12,
   "metadata": {
    "ExecuteTime": {
     "end_time": "2020-05-07T16:30:23.722306Z",
     "start_time": "2020-05-07T16:30:19.700982Z"
    }
   },
   "outputs": [
    {
     "name": "stdout",
     "output_type": "stream",
     "text": [
      "State sequence as predicted by Viterbi algorithm : [5 5 5 ... 4 4 3]\n"
     ]
    }
   ],
   "source": [
    "viterbi_arr_test, viterbi_state_test = viterbi(p_trans, p_signal, p_in, signal_dig_test)\n",
    "print(\"State sequence as predicted by Viterbi algorithm :\", viterbi_state_test)"
   ]
  },
  {
   "cell_type": "code",
   "execution_count": 13,
   "metadata": {
    "ExecuteTime": {
     "end_time": "2020-05-07T16:30:24.039552Z",
     "start_time": "2020-05-07T16:30:23.723200Z"
    }
   },
   "outputs": [
    {
     "data": {
      "image/png": "[encoded data removed]",
      "text/plain": [
       "<Figure size 2160x360 with 1 Axes>"
      ]
     },
     "metadata": {
      "needs_background": "light"
     },
     "output_type": "display_data"
    }
   ],
   "source": [
    "fig, axes = create_axes_grid(1,1,30,5)\n",
    "set_axes(axes, x_val=[0,1000,100,10], y_val=[0,11,1,1])\n",
    "\n",
    "axes.plot(true_state[10000:11000], label=\"True state\", lw=5);\n",
    "axes.plot(viterbi_state[10000:11000], label=\"Viterbi prediction\", lw=3);\n",
    "axes.legend();"
   ]
  },
  {
   "cell_type": "code",
   "execution_count": 14,
   "metadata": {
    "ExecuteTime": {
     "end_time": "2020-05-07T16:30:24.146062Z",
     "start_time": "2020-05-07T16:30:24.040444Z"
    }
   },
   "outputs": [
    {
     "name": "stdout",
     "output_type": "stream",
     "text": [
      "F1 macro = 0.9679121104731019\n"
     ]
    }
   ],
   "source": [
    "# print(\"Accuracy =\", accuracy_score(y_pred=viterbi_state, y_true=true_state))\n",
    "print(\"F1 macro =\", f1_score(y_pred=viterbi_state, y_true=true_state, average='macro'))"
   ]
  },
  {
   "cell_type": "code",
   "execution_count": 15,
   "metadata": {
    "ExecuteTime": {
     "end_time": "2020-05-07T16:30:24.267807Z",
     "start_time": "2020-05-07T16:30:24.147062Z"
    }
   },
   "outputs": [
    {
     "name": "stdout",
     "output_type": "stream",
     "text": [
      "F1 macro = 0.965720329155839\n"
     ]
    }
   ],
   "source": [
    "# print(\"Accuracy =\", accuracy_score(y_pred=viterbi_state_test, y_true=true_state_test))\n",
    "print(\"F1 macro =\", f1_score(y_pred=viterbi_state_test, y_true=true_state_test, average='macro'))"
   ]
  },
  {
   "cell_type": "code",
   "execution_count": 16,
   "metadata": {
    "ExecuteTime": {
     "end_time": "2020-05-07T16:30:24.270735Z",
     "start_time": "2020-05-07T16:30:24.268712Z"
    }
   },
   "outputs": [
    {
     "name": "stdout",
     "output_type": "stream",
     "text": [
      "(500000, 6)\n"
     ]
    }
   ],
   "source": [
    "print(viterbi_arr.shape)"
   ]
  },
  {
   "cell_type": "code",
   "execution_count": 17,
   "metadata": {
    "ExecuteTime": {
     "end_time": "2020-05-07T16:30:24.337944Z",
     "start_time": "2020-05-07T16:30:24.271552Z"
    }
   },
   "outputs": [
    {
     "name": "stdout",
     "output_type": "stream",
     "text": [
      "(500000, 6)\n"
     ]
    }
   ],
   "source": [
    "viterbi_arr_norm = (viterbi_arr - viterbi_arr.min(axis=1).reshape([-1, 1])) / (\n",
    "    viterbi_arr.max(axis=1).reshape([-1, 1]) -\n",
    "    viterbi_arr.min(axis=1).reshape([-1, 1]))\n",
    "\n",
    "print(viterbi_arr_norm.shape)"
   ]
  },
  {
   "cell_type": "code",
   "execution_count": 18,
   "metadata": {
    "ExecuteTime": {
     "end_time": "2020-05-07T16:30:24.402981Z",
     "start_time": "2020-05-07T16:30:24.338772Z"
    }
   },
   "outputs": [
    {
     "name": "stdout",
     "output_type": "stream",
     "text": [
      "(500000, 6)\n"
     ]
    }
   ],
   "source": [
    "viterbi_arr_test_norm = (viterbi_arr_test - viterbi_arr_test.min(axis=1).reshape([-1, 1])) / (\n",
    "    viterbi_arr_test.max(axis=1).reshape([-1, 1]) -\n",
    "    viterbi_arr_test.min(axis=1).reshape([-1, 1]))\n",
    "\n",
    "print(viterbi_arr_test_norm.shape)"
   ]
  },
  {
   "cell_type": "code",
   "execution_count": null,
   "metadata": {},
   "outputs": [],
   "source": []
  },
  {
   "cell_type": "code",
   "execution_count": 19,
   "metadata": {
    "ExecuteTime": {
     "end_time": "2020-05-07T16:30:24.415839Z",
     "start_time": "2020-05-07T16:30:24.404023Z"
    }
   },
   "outputs": [
    {
     "data": {
      "text/html": [
       "<div>\n",
       "<style scoped>\n",
       "    .dataframe tbody tr th:only-of-type {\n",
       "        vertical-align: middle;\n",
       "    }\n",
       "\n",
       "    .dataframe tbody tr th {\n",
       "        vertical-align: top;\n",
       "    }\n",
       "\n",
       "    .dataframe thead th {\n",
       "        text-align: right;\n",
       "    }\n",
       "</style>\n",
       "<table border=\"1\" class=\"dataframe\">\n",
       "  <thead>\n",
       "    <tr style=\"text-align: right;\">\n",
       "      <th></th>\n",
       "      <th>0</th>\n",
       "      <th>1</th>\n",
       "      <th>2</th>\n",
       "      <th>3</th>\n",
       "      <th>4</th>\n",
       "      <th>5</th>\n",
       "      <th>signal</th>\n",
       "      <th>shift</th>\n",
       "    </tr>\n",
       "  </thead>\n",
       "  <tbody>\n",
       "    <tr>\n",
       "      <th>0</th>\n",
       "      <td>0.0</td>\n",
       "      <td>0.000000</td>\n",
       "      <td>0.000000</td>\n",
       "      <td>0.000000</td>\n",
       "      <td>0.992932</td>\n",
       "      <td>1.0</td>\n",
       "      <td>2.8555</td>\n",
       "      <td>NaN</td>\n",
       "    </tr>\n",
       "    <tr>\n",
       "      <th>1</th>\n",
       "      <td>0.0</td>\n",
       "      <td>0.062926</td>\n",
       "      <td>0.119125</td>\n",
       "      <td>0.160788</td>\n",
       "      <td>0.913743</td>\n",
       "      <td>1.0</td>\n",
       "      <td>3.0907</td>\n",
       "      <td>2.8555</td>\n",
       "    </tr>\n",
       "    <tr>\n",
       "      <th>2</th>\n",
       "      <td>0.0</td>\n",
       "      <td>0.098266</td>\n",
       "      <td>0.153245</td>\n",
       "      <td>0.200066</td>\n",
       "      <td>0.232092</td>\n",
       "      <td>1.0</td>\n",
       "      <td>3.5277</td>\n",
       "      <td>3.0907</td>\n",
       "    </tr>\n",
       "    <tr>\n",
       "      <th>3</th>\n",
       "      <td>0.0</td>\n",
       "      <td>0.436876</td>\n",
       "      <td>0.472387</td>\n",
       "      <td>0.502629</td>\n",
       "      <td>0.523315</td>\n",
       "      <td>1.0</td>\n",
       "      <td>3.9822</td>\n",
       "      <td>3.5277</td>\n",
       "    </tr>\n",
       "    <tr>\n",
       "      <th>4</th>\n",
       "      <td>0.0</td>\n",
       "      <td>0.428564</td>\n",
       "      <td>0.463399</td>\n",
       "      <td>0.493065</td>\n",
       "      <td>0.902112</td>\n",
       "      <td>1.0</td>\n",
       "      <td>3.3368</td>\n",
       "      <td>3.9822</td>\n",
       "    </tr>\n",
       "  </tbody>\n",
       "</table>\n",
       "</div>"
      ],
      "text/plain": [
       "     0         1         2         3         4    5  signal   shift\n",
       "0  0.0  0.000000  0.000000  0.000000  0.992932  1.0  2.8555     NaN\n",
       "1  0.0  0.062926  0.119125  0.160788  0.913743  1.0  3.0907  2.8555\n",
       "2  0.0  0.098266  0.153245  0.200066  0.232092  1.0  3.5277  3.0907\n",
       "3  0.0  0.436876  0.472387  0.502629  0.523315  1.0  3.9822  3.5277\n",
       "4  0.0  0.428564  0.463399  0.493065  0.902112  1.0  3.3368  3.9822"
      ]
     },
     "execution_count": 19,
     "metadata": {},
     "output_type": "execute_result"
    }
   ],
   "source": [
    "# df \n",
    "df_viterbi = pd.DataFrame(viterbi_arr_norm)\n",
    "df_viterbi[\"signal\"] = signal\n",
    "df_viterbi[\"shift\"] = df_viterbi[\"signal\"].shift(1)\n",
    "df_viterbi.head()"
   ]
  },
  {
   "cell_type": "code",
   "execution_count": 20,
   "metadata": {
    "ExecuteTime": {
     "end_time": "2020-05-07T16:30:24.426371Z",
     "start_time": "2020-05-07T16:30:24.417210Z"
    }
   },
   "outputs": [
    {
     "data": {
      "text/html": [
       "<div>\n",
       "<style scoped>\n",
       "    .dataframe tbody tr th:only-of-type {\n",
       "        vertical-align: middle;\n",
       "    }\n",
       "\n",
       "    .dataframe tbody tr th {\n",
       "        vertical-align: top;\n",
       "    }\n",
       "\n",
       "    .dataframe thead th {\n",
       "        text-align: right;\n",
       "    }\n",
       "</style>\n",
       "<table border=\"1\" class=\"dataframe\">\n",
       "  <thead>\n",
       "    <tr style=\"text-align: right;\">\n",
       "      <th></th>\n",
       "      <th>0</th>\n",
       "      <th>1</th>\n",
       "      <th>2</th>\n",
       "      <th>3</th>\n",
       "      <th>4</th>\n",
       "      <th>5</th>\n",
       "      <th>signal</th>\n",
       "      <th>shift</th>\n",
       "    </tr>\n",
       "  </thead>\n",
       "  <tbody>\n",
       "    <tr>\n",
       "      <th>0</th>\n",
       "      <td>0.0</td>\n",
       "      <td>0.000000</td>\n",
       "      <td>0.000000</td>\n",
       "      <td>0.000000</td>\n",
       "      <td>0.000000</td>\n",
       "      <td>1.0</td>\n",
       "      <td>3.560969</td>\n",
       "      <td>NaN</td>\n",
       "    </tr>\n",
       "    <tr>\n",
       "      <th>1</th>\n",
       "      <td>0.0</td>\n",
       "      <td>0.404783</td>\n",
       "      <td>0.441081</td>\n",
       "      <td>0.471994</td>\n",
       "      <td>0.493139</td>\n",
       "      <td>1.0</td>\n",
       "      <td>3.376637</td>\n",
       "      <td>3.560969</td>\n",
       "    </tr>\n",
       "    <tr>\n",
       "      <th>2</th>\n",
       "      <td>0.0</td>\n",
       "      <td>0.433390</td>\n",
       "      <td>0.468618</td>\n",
       "      <td>0.498619</td>\n",
       "      <td>0.519139</td>\n",
       "      <td>1.0</td>\n",
       "      <td>3.857606</td>\n",
       "      <td>3.376637</td>\n",
       "    </tr>\n",
       "    <tr>\n",
       "      <th>3</th>\n",
       "      <td>0.0</td>\n",
       "      <td>0.429025</td>\n",
       "      <td>0.463897</td>\n",
       "      <td>0.493596</td>\n",
       "      <td>0.513910</td>\n",
       "      <td>1.0</td>\n",
       "      <td>3.598474</td>\n",
       "      <td>3.857606</td>\n",
       "    </tr>\n",
       "    <tr>\n",
       "      <th>4</th>\n",
       "      <td>0.0</td>\n",
       "      <td>0.435325</td>\n",
       "      <td>0.470710</td>\n",
       "      <td>0.500844</td>\n",
       "      <td>0.521457</td>\n",
       "      <td>1.0</td>\n",
       "      <td>3.918743</td>\n",
       "      <td>3.598474</td>\n",
       "    </tr>\n",
       "  </tbody>\n",
       "</table>\n",
       "</div>"
      ],
      "text/plain": [
       "     0         1         2         3         4    5    signal     shift\n",
       "0  0.0  0.000000  0.000000  0.000000  0.000000  1.0  3.560969       NaN\n",
       "1  0.0  0.404783  0.441081  0.471994  0.493139  1.0  3.376637  3.560969\n",
       "2  0.0  0.433390  0.468618  0.498619  0.519139  1.0  3.857606  3.376637\n",
       "3  0.0  0.429025  0.463897  0.493596  0.513910  1.0  3.598474  3.857606\n",
       "4  0.0  0.435325  0.470710  0.500844  0.521457  1.0  3.918743  3.598474"
      ]
     },
     "execution_count": 20,
     "metadata": {},
     "output_type": "execute_result"
    }
   ],
   "source": [
    "# df test\n",
    "df_viterbi_test = pd.DataFrame(viterbi_arr_test_norm)\n",
    "df_viterbi_test[\"signal\"] = signal_test\n",
    "df_viterbi_test[\"shift\"] = df_viterbi_test[\"signal\"].shift(1)\n",
    "df_viterbi_test.head()"
   ]
  },
  {
   "cell_type": "code",
   "execution_count": 21,
   "metadata": {
    "ExecuteTime": {
     "end_time": "2020-05-07T16:30:24.459928Z",
     "start_time": "2020-05-07T16:30:24.427193Z"
    }
   },
   "outputs": [],
   "source": [
    "def fe(df):\n",
    "    for col in range(6):\n",
    "        df[f\"shift_{col}\"] = df[col].shift(1)\n",
    "        \n",
    "    return df\n",
    "df_viterbi = fe(df_viterbi)\n",
    "df_viterbi_test = fe(df_viterbi_test)"
   ]
  },
  {
   "cell_type": "code",
   "execution_count": 22,
   "metadata": {
    "ExecuteTime": {
     "end_time": "2020-05-07T16:30:25.350283Z",
     "start_time": "2020-05-07T16:30:24.462806Z"
    }
   },
   "outputs": [
    {
     "data": {
      "text/plain": [
       "DecisionTreeClassifier(ccp_alpha=0.0, class_weight=None, criterion='gini',\n",
       "                       max_depth=None, max_features=None, max_leaf_nodes=None,\n",
       "                       min_impurity_decrease=0.0, min_impurity_split=None,\n",
       "                       min_samples_leaf=1, min_samples_split=2,\n",
       "                       min_weight_fraction_leaf=0.0, presort='deprecated',\n",
       "                       random_state=42, splitter='best')"
      ]
     },
     "execution_count": 22,
     "metadata": {},
     "output_type": "execute_result"
    }
   ],
   "source": [
    "from sklearn.tree import DecisionTreeClassifier\n",
    "\n",
    "# Make a decision tree and train\n",
    "tree = DecisionTreeClassifier(random_state=42)\n",
    "tree.fit(viterbi_arr_norm, true_state)"
   ]
  },
  {
   "cell_type": "code",
   "execution_count": 23,
   "metadata": {
    "ExecuteTime": {
     "end_time": "2020-05-07T16:30:25.626954Z",
     "start_time": "2020-05-07T16:30:25.351255Z"
    }
   },
   "outputs": [
    {
     "name": "stdout",
     "output_type": "stream",
     "text": [
      "train F1 macro = 0.9740282610309926\n",
      "test F1 macro = 0.9636720547663451\n"
     ]
    }
   ],
   "source": [
    "print(\"train F1 macro =\", f1_score(y_pred=tree.predict(viterbi_arr_norm), y_true=true_state, average='macro'))\n",
    "print(\"test F1 macro =\", f1_score(y_pred=tree.predict(viterbi_arr_test_norm), y_true=true_state_test, average='macro'))"
   ]
  },
  {
   "cell_type": "code",
   "execution_count": 24,
   "metadata": {
    "ExecuteTime": {
     "end_time": "2020-05-07T16:30:25.707312Z",
     "start_time": "2020-05-07T16:30:25.627894Z"
    }
   },
   "outputs": [
    {
     "name": "stdout",
     "output_type": "stream",
     "text": [
      "4\n"
     ]
    },
    {
     "data": {
      "image/png": "[encoded data removed]",
      "text/plain": [
       "<Figure size 432x288 with 1 Axes>"
      ]
     },
     "metadata": {
      "needs_background": "light"
     },
     "output_type": "display_data"
    }
   ],
   "source": [
    "idx = np.random.randint(500000)\n",
    "plt.plot(viterbi_arr_norm[idx,:])\n",
    "print(true_state[idx])"
   ]
  },
  {
   "cell_type": "code",
   "execution_count": null,
   "metadata": {
    "ExecuteTime": {
     "end_time": "2020-04-06T22:41:35.159113Z",
     "start_time": "2020-04-06T22:41:35.149328Z"
    }
   },
   "outputs": [],
   "source": []
  },
  {
   "cell_type": "code",
   "execution_count": null,
   "metadata": {},
   "outputs": [],
   "source": []
  },
  {
   "cell_type": "code",
   "execution_count": null,
   "metadata": {},
   "outputs": [],
   "source": []
  }
 ],
 "metadata": {
  "kernelspec": {
   "display_name": "Python 3",
   "language": "python",
   "name": "python3"
  },
  "language_info": {
   "codemirror_mode": {
    "name": "ipython",
    "version": 3
   },
   "file_extension": ".py",
   "mimetype": "text/x-python",
   "name": "python",
   "nbconvert_exporter": "python",
   "pygments_lexer": "ipython3",
   "version": "3.7.5"
  }
 },
 "nbformat": 4,
 "nbformat_minor": 2
}
