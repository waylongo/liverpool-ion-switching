{
 "cells": [
  {
   "cell_type": "code",
   "execution_count": 1,
   "metadata": {
    "ExecuteTime": {
     "end_time": "2020-02-28T01:59:06.526037Z",
     "start_time": "2020-02-28T01:59:06.080939Z"
    }
   },
   "outputs": [],
   "source": [
    "import numpy as np\n",
    "import pandas as pd\n",
    "import matplotlib.pyplot as plt\n",
    "from sklearn.linear_model import LinearRegression\n",
    "from sklearn.preprocessing import PolynomialFeatures\n",
    "from sklearn.mixture import GaussianMixture"
   ]
  },
  {
   "cell_type": "code",
   "execution_count": 2,
   "metadata": {
    "ExecuteTime": {
     "end_time": "2020-02-28T01:59:07.476028Z",
     "start_time": "2020-02-28T01:59:06.527152Z"
    }
   },
   "outputs": [
    {
     "name": "stdout",
     "output_type": "stream",
     "text": [
      "(5000000, 3) (2000000, 2) (2000000, 2)\n"
     ]
    }
   ],
   "source": [
    "train = pd.read_csv(\"../input/train.csv\")\n",
    "test = pd.read_csv(\"../input/test.csv\")\n",
    "sub = pd.read_csv(\"../input/sample_submission.csv\")\n",
    "\n",
    "print(train.shape, test.shape, sub.shape)\n",
    "\n",
    "# data = np.array_split(train, train.shape[0] / 500000)\n",
    "# data_test = np.array_split(test, test.shape[0] / 500000)"
   ]
  },
  {
   "cell_type": "code",
   "execution_count": 3,
   "metadata": {
    "ExecuteTime": {
     "end_time": "2020-02-28T01:59:07.574456Z",
     "start_time": "2020-02-28T01:59:07.477023Z"
    }
   },
   "outputs": [],
   "source": [
    "train[\"local_time\"] = train.time % 50\n",
    "train.loc[train.local_time == 0.0000, \"local_time\"] = 50"
   ]
  },
  {
   "cell_type": "code",
   "execution_count": 4,
   "metadata": {
    "ExecuteTime": {
     "end_time": "2020-02-28T01:59:08.187260Z",
     "start_time": "2020-02-28T01:59:07.575363Z"
    }
   },
   "outputs": [],
   "source": [
    "BATCH_SIZE = 500000\n",
    "for batch_i in range(10):\n",
    "    train.loc[BATCH_SIZE * batch_i:BATCH_SIZE * batch_i + 500000, 'batch'] = batch_i + 1\n",
    "\n",
    "    train.loc[BATCH_SIZE * batch_i:BATCH_SIZE * batch_i + 100000, 'mini_batch'] = 1\n",
    "    train.loc[BATCH_SIZE * batch_i + 100000:BATCH_SIZE * batch_i + 200000, 'mini_batch'] = 2\n",
    "    train.loc[BATCH_SIZE * batch_i + 200000:BATCH_SIZE * batch_i + 300000, 'mini_batch'] = 3\n",
    "    train.loc[BATCH_SIZE * batch_i + 300000:BATCH_SIZE * batch_i + 400000, 'mini_batch'] = 4\n",
    "    train.loc[BATCH_SIZE * batch_i + 400000:BATCH_SIZE * batch_i + 500000, 'mini_batch'] = 5"
   ]
  },
  {
   "cell_type": "code",
   "execution_count": 5,
   "metadata": {
    "ExecuteTime": {
     "end_time": "2020-02-28T01:59:08.197541Z",
     "start_time": "2020-02-28T01:59:08.188143Z"
    }
   },
   "outputs": [
    {
     "data": {
      "text/html": [
       "<div>\n",
       "<style scoped>\n",
       "    .dataframe tbody tr th:only-of-type {\n",
       "        vertical-align: middle;\n",
       "    }\n",
       "\n",
       "    .dataframe tbody tr th {\n",
       "        vertical-align: top;\n",
       "    }\n",
       "\n",
       "    .dataframe thead th {\n",
       "        text-align: right;\n",
       "    }\n",
       "</style>\n",
       "<table border=\"1\" class=\"dataframe\">\n",
       "  <thead>\n",
       "    <tr style=\"text-align: right;\">\n",
       "      <th></th>\n",
       "      <th>time</th>\n",
       "      <th>signal</th>\n",
       "      <th>open_channels</th>\n",
       "      <th>local_time</th>\n",
       "      <th>batch</th>\n",
       "      <th>mini_batch</th>\n",
       "    </tr>\n",
       "  </thead>\n",
       "  <tbody>\n",
       "    <tr>\n",
       "      <th>4999995</th>\n",
       "      <td>499.9996</td>\n",
       "      <td>2.9194</td>\n",
       "      <td>7</td>\n",
       "      <td>49.9996</td>\n",
       "      <td>10.0</td>\n",
       "      <td>5.0</td>\n",
       "    </tr>\n",
       "    <tr>\n",
       "      <th>4999996</th>\n",
       "      <td>499.9997</td>\n",
       "      <td>2.6980</td>\n",
       "      <td>7</td>\n",
       "      <td>49.9997</td>\n",
       "      <td>10.0</td>\n",
       "      <td>5.0</td>\n",
       "    </tr>\n",
       "    <tr>\n",
       "      <th>4999997</th>\n",
       "      <td>499.9998</td>\n",
       "      <td>4.5164</td>\n",
       "      <td>8</td>\n",
       "      <td>49.9998</td>\n",
       "      <td>10.0</td>\n",
       "      <td>5.0</td>\n",
       "    </tr>\n",
       "    <tr>\n",
       "      <th>4999998</th>\n",
       "      <td>499.9999</td>\n",
       "      <td>5.6397</td>\n",
       "      <td>9</td>\n",
       "      <td>49.9999</td>\n",
       "      <td>10.0</td>\n",
       "      <td>5.0</td>\n",
       "    </tr>\n",
       "    <tr>\n",
       "      <th>4999999</th>\n",
       "      <td>500.0000</td>\n",
       "      <td>5.3792</td>\n",
       "      <td>9</td>\n",
       "      <td>50.0000</td>\n",
       "      <td>10.0</td>\n",
       "      <td>5.0</td>\n",
       "    </tr>\n",
       "  </tbody>\n",
       "</table>\n",
       "</div>"
      ],
      "text/plain": [
       "             time  signal  open_channels  local_time  batch  mini_batch\n",
       "4999995  499.9996  2.9194              7     49.9996   10.0         5.0\n",
       "4999996  499.9997  2.6980              7     49.9997   10.0         5.0\n",
       "4999997  499.9998  4.5164              8     49.9998   10.0         5.0\n",
       "4999998  499.9999  5.6397              9     49.9999   10.0         5.0\n",
       "4999999  500.0000  5.3792              9     50.0000   10.0         5.0"
      ]
     },
     "execution_count": 5,
     "metadata": {},
     "output_type": "execute_result"
    }
   ],
   "source": [
    "train.tail()"
   ]
  },
  {
   "cell_type": "markdown",
   "metadata": {
    "ExecuteTime": {
     "end_time": "2020-02-27T23:55:35.357652Z",
     "start_time": "2020-02-27T23:55:35.292903Z"
    }
   },
   "source": [
    "### drift"
   ]
  },
  {
   "cell_type": "code",
   "execution_count": 6,
   "metadata": {
    "ExecuteTime": {
     "end_time": "2020-02-28T01:59:08.230869Z",
     "start_time": "2020-02-28T01:59:08.199574Z"
    }
   },
   "outputs": [
    {
     "data": {
      "text/html": [
       "<div>\n",
       "<style scoped>\n",
       "    .dataframe tbody tr th:only-of-type {\n",
       "        vertical-align: middle;\n",
       "    }\n",
       "\n",
       "    .dataframe tbody tr th {\n",
       "        vertical-align: top;\n",
       "    }\n",
       "\n",
       "    .dataframe thead th {\n",
       "        text-align: right;\n",
       "    }\n",
       "</style>\n",
       "<table border=\"1\" class=\"dataframe\">\n",
       "  <thead>\n",
       "    <tr style=\"text-align: right;\">\n",
       "      <th></th>\n",
       "      <th>time</th>\n",
       "      <th>signal</th>\n",
       "      <th>open_channels</th>\n",
       "      <th>local_time</th>\n",
       "      <th>batch</th>\n",
       "      <th>mini_batch</th>\n",
       "    </tr>\n",
       "  </thead>\n",
       "  <tbody>\n",
       "    <tr>\n",
       "      <th>500000</th>\n",
       "      <td>50.0001</td>\n",
       "      <td>-3.1094</td>\n",
       "      <td>0</td>\n",
       "      <td>0.0001</td>\n",
       "      <td>2.0</td>\n",
       "      <td>1.0</td>\n",
       "    </tr>\n",
       "    <tr>\n",
       "      <th>500001</th>\n",
       "      <td>50.0002</td>\n",
       "      <td>-3.2726</td>\n",
       "      <td>0</td>\n",
       "      <td>0.0002</td>\n",
       "      <td>2.0</td>\n",
       "      <td>1.0</td>\n",
       "    </tr>\n",
       "    <tr>\n",
       "      <th>500002</th>\n",
       "      <td>50.0003</td>\n",
       "      <td>-3.2302</td>\n",
       "      <td>0</td>\n",
       "      <td>0.0003</td>\n",
       "      <td>2.0</td>\n",
       "      <td>1.0</td>\n",
       "    </tr>\n",
       "    <tr>\n",
       "      <th>500003</th>\n",
       "      <td>50.0004</td>\n",
       "      <td>-3.0486</td>\n",
       "      <td>0</td>\n",
       "      <td>0.0004</td>\n",
       "      <td>2.0</td>\n",
       "      <td>1.0</td>\n",
       "    </tr>\n",
       "    <tr>\n",
       "      <th>500004</th>\n",
       "      <td>50.0005</td>\n",
       "      <td>-3.0789</td>\n",
       "      <td>0</td>\n",
       "      <td>0.0005</td>\n",
       "      <td>2.0</td>\n",
       "      <td>1.0</td>\n",
       "    </tr>\n",
       "  </tbody>\n",
       "</table>\n",
       "</div>"
      ],
      "text/plain": [
       "           time  signal  open_channels  local_time  batch  mini_batch\n",
       "500000  50.0001 -3.1094              0      0.0001    2.0         1.0\n",
       "500001  50.0002 -3.2726              0      0.0002    2.0         1.0\n",
       "500002  50.0003 -3.2302              0      0.0003    2.0         1.0\n",
       "500003  50.0004 -3.0486              0      0.0004    2.0         1.0\n",
       "500004  50.0005 -3.0789              0      0.0005    2.0         1.0"
      ]
     },
     "execution_count": 6,
     "metadata": {},
     "output_type": "execute_result"
    }
   ],
   "source": [
    "# drift\n",
    "tmp = train[(train.batch == 2) & (train.mini_batch == 1) &\n",
    "            (train.open_channels == 0)]\n",
    "\n",
    "tmp.head()"
   ]
  },
  {
   "cell_type": "code",
   "execution_count": 7,
   "metadata": {
    "ExecuteTime": {
     "end_time": "2020-02-28T01:59:08.434389Z",
     "start_time": "2020-02-28T01:59:08.232193Z"
    }
   },
   "outputs": [
    {
     "data": {
      "text/plain": [
       "[<matplotlib.lines.Line2D at 0x7f176fc31cd0>]"
      ]
     },
     "execution_count": 7,
     "metadata": {},
     "output_type": "execute_result"
    },
    {
     "data": {
      "image/png": "[encoded data removed]",
      "text/plain": [
       "<Figure size 432x288 with 1 Axes>"
      ]
     },
     "metadata": {
      "needs_background": "light"
     },
     "output_type": "display_data"
    }
   ],
   "source": [
    "plt.plot(tmp.signal, \".b\")"
   ]
  },
  {
   "cell_type": "code",
   "execution_count": 8,
   "metadata": {
    "ExecuteTime": {
     "end_time": "2020-02-28T01:59:08.613194Z",
     "start_time": "2020-02-28T01:59:08.435289Z"
    }
   },
   "outputs": [
    {
     "data": {
      "text/plain": [
       "[<matplotlib.lines.Line2D at 0x7f179c053d50>]"
      ]
     },
     "execution_count": 8,
     "metadata": {},
     "output_type": "execute_result"
    },
    {
     "data": {
      "image/png": "[encoded data removed]",
      "text/plain": [
       "<Figure size 432x288 with 1 Axes>"
      ]
     },
     "metadata": {
      "needs_background": "light"
     },
     "output_type": "display_data"
    }
   ],
   "source": [
    "X = np.array(tmp[\"local_time\"]).reshape([-1, 1])\n",
    "y = np.array(tmp[\"signal\"]).reshape([-1, 1])\n",
    "\n",
    "reg = LinearRegression().fit(X, y)\n",
    "\n",
    "slope, intercept = reg.coef_[0][0], reg.intercept_[0]\n",
    "y_fit = [slope * i + intercept for i in X[:,0]]\n",
    "\n",
    "plt.plot(X, y, '--')\n",
    "plt.plot(X, y_fit, 'r')"
   ]
  },
  {
   "cell_type": "code",
   "execution_count": 9,
   "metadata": {
    "ExecuteTime": {
     "end_time": "2020-02-28T01:59:08.811306Z",
     "start_time": "2020-02-28T01:59:08.614042Z"
    }
   },
   "outputs": [
    {
     "name": "stderr",
     "output_type": "stream",
     "text": [
      "/home/ww6p9/anaconda3/lib/python3.7/site-packages/ipykernel_launcher.py:1: SettingWithCopyWarning: \n",
      "A value is trying to be set on a copy of a slice from a DataFrame.\n",
      "Try using .loc[row_indexer,col_indexer] = value instead\n",
      "\n",
      "See the caveats in the documentation: http://pandas.pydata.org/pandas-docs/stable/user_guide/indexing.html#returning-a-view-versus-a-copy\n",
      "  \"\"\"Entry point for launching an IPython kernel.\n"
     ]
    },
    {
     "data": {
      "text/plain": [
       "[<matplotlib.lines.Line2D at 0x7f176f008110>]"
      ]
     },
     "execution_count": 9,
     "metadata": {},
     "output_type": "execute_result"
    },
    {
     "data": {
      "image/png": "[encoded data removed]",
      "text/plain": [
       "<Figure size 432x288 with 1 Axes>"
      ]
     },
     "metadata": {
      "needs_background": "light"
     },
     "output_type": "display_data"
    }
   ],
   "source": [
    "tmp[\"signal_recover\"] = tmp.signal - y_fit + intercept\n",
    "plt.plot(tmp.signal_recover, \".b\")"
   ]
  },
  {
   "cell_type": "code",
   "execution_count": null,
   "metadata": {},
   "outputs": [],
   "source": []
  },
  {
   "cell_type": "markdown",
   "metadata": {},
   "source": [
    "### half circle"
   ]
  },
  {
   "cell_type": "code",
   "execution_count": 10,
   "metadata": {
    "ExecuteTime": {
     "end_time": "2020-02-28T01:59:08.831843Z",
     "start_time": "2020-02-28T01:59:08.812215Z"
    }
   },
   "outputs": [
    {
     "data": {
      "text/html": [
       "<div>\n",
       "<style scoped>\n",
       "    .dataframe tbody tr th:only-of-type {\n",
       "        vertical-align: middle;\n",
       "    }\n",
       "\n",
       "    .dataframe tbody tr th {\n",
       "        vertical-align: top;\n",
       "    }\n",
       "\n",
       "    .dataframe thead th {\n",
       "        text-align: right;\n",
       "    }\n",
       "</style>\n",
       "<table border=\"1\" class=\"dataframe\">\n",
       "  <thead>\n",
       "    <tr style=\"text-align: right;\">\n",
       "      <th></th>\n",
       "      <th>time</th>\n",
       "      <th>signal</th>\n",
       "      <th>open_channels</th>\n",
       "      <th>local_time</th>\n",
       "      <th>batch</th>\n",
       "      <th>mini_batch</th>\n",
       "    </tr>\n",
       "  </thead>\n",
       "  <tbody>\n",
       "    <tr>\n",
       "      <th>3000690</th>\n",
       "      <td>300.0691</td>\n",
       "      <td>-2.4658</td>\n",
       "      <td>0</td>\n",
       "      <td>0.0691</td>\n",
       "      <td>7.0</td>\n",
       "      <td>1.0</td>\n",
       "    </tr>\n",
       "    <tr>\n",
       "      <th>3000691</th>\n",
       "      <td>300.0692</td>\n",
       "      <td>-2.6617</td>\n",
       "      <td>0</td>\n",
       "      <td>0.0692</td>\n",
       "      <td>7.0</td>\n",
       "      <td>1.0</td>\n",
       "    </tr>\n",
       "    <tr>\n",
       "      <th>3000692</th>\n",
       "      <td>300.0693</td>\n",
       "      <td>-2.7685</td>\n",
       "      <td>0</td>\n",
       "      <td>0.0693</td>\n",
       "      <td>7.0</td>\n",
       "      <td>1.0</td>\n",
       "    </tr>\n",
       "    <tr>\n",
       "      <th>3000693</th>\n",
       "      <td>300.0694</td>\n",
       "      <td>-3.1067</td>\n",
       "      <td>0</td>\n",
       "      <td>0.0694</td>\n",
       "      <td>7.0</td>\n",
       "      <td>1.0</td>\n",
       "    </tr>\n",
       "    <tr>\n",
       "      <th>3000694</th>\n",
       "      <td>300.0695</td>\n",
       "      <td>-2.7286</td>\n",
       "      <td>0</td>\n",
       "      <td>0.0695</td>\n",
       "      <td>7.0</td>\n",
       "      <td>1.0</td>\n",
       "    </tr>\n",
       "  </tbody>\n",
       "</table>\n",
       "</div>"
      ],
      "text/plain": [
       "             time  signal  open_channels  local_time  batch  mini_batch\n",
       "3000690  300.0691 -2.4658              0      0.0691    7.0         1.0\n",
       "3000691  300.0692 -2.6617              0      0.0692    7.0         1.0\n",
       "3000692  300.0693 -2.7685              0      0.0693    7.0         1.0\n",
       "3000693  300.0694 -3.1067              0      0.0694    7.0         1.0\n",
       "3000694  300.0695 -2.7286              0      0.0695    7.0         1.0"
      ]
     },
     "execution_count": 10,
     "metadata": {},
     "output_type": "execute_result"
    }
   ],
   "source": [
    "# half circle\n",
    "tmp = train[(train.batch == 7) & (train.open_channels == 0)]\n",
    "\n",
    "tmp.head()"
   ]
  },
  {
   "cell_type": "code",
   "execution_count": 11,
   "metadata": {
    "ExecuteTime": {
     "end_time": "2020-02-28T01:59:09.063357Z",
     "start_time": "2020-02-28T01:59:08.832727Z"
    }
   },
   "outputs": [
    {
     "data": {
      "text/plain": [
       "[<matplotlib.lines.Line2D at 0x7f176eff0490>]"
      ]
     },
     "execution_count": 11,
     "metadata": {},
     "output_type": "execute_result"
    },
    {
     "data": {
      "image/png": "[encoded data removed]",
      "text/plain": [
       "<Figure size 432x288 with 1 Axes>"
      ]
     },
     "metadata": {
      "needs_background": "light"
     },
     "output_type": "display_data"
    }
   ],
   "source": [
    "plt.plot(tmp.signal, \".b\")"
   ]
  },
  {
   "cell_type": "code",
   "execution_count": 12,
   "metadata": {
    "ExecuteTime": {
     "end_time": "2020-02-28T01:59:09.203507Z",
     "start_time": "2020-02-28T01:59:09.064251Z"
    }
   },
   "outputs": [
    {
     "data": {
      "text/plain": [
       "[<matplotlib.lines.Line2D at 0x7f176efa5810>]"
      ]
     },
     "execution_count": 12,
     "metadata": {},
     "output_type": "execute_result"
    },
    {
     "data": {
      "image/png": "[encoded data removed]",
      "text/plain": [
       "<Figure size 432x288 with 1 Axes>"
      ]
     },
     "metadata": {
      "needs_background": "light"
     },
     "output_type": "display_data"
    }
   ],
   "source": [
    "X = np.array(tmp[\"local_time\"]).reshape([-1, 1])\n",
    "y = np.array(tmp[\"signal\"]).reshape([-1, 1])\n",
    "\n",
    "polynomial_features= PolynomialFeatures(degree=4)\n",
    "x_poly = polynomial_features.fit_transform(X)\n",
    "\n",
    "\n",
    "reg = LinearRegression().fit(x_poly, y)\n",
    "y_fit = reg.predict(x_poly)\n",
    "\n",
    "plt.plot(X, y, '--')\n",
    "plt.plot(X, y_fit, 'r')"
   ]
  },
  {
   "cell_type": "code",
   "execution_count": 13,
   "metadata": {
    "ExecuteTime": {
     "end_time": "2020-02-28T01:59:09.440477Z",
     "start_time": "2020-02-28T01:59:09.204339Z"
    }
   },
   "outputs": [
    {
     "name": "stderr",
     "output_type": "stream",
     "text": [
      "/home/ww6p9/anaconda3/lib/python3.7/site-packages/ipykernel_launcher.py:1: SettingWithCopyWarning: \n",
      "A value is trying to be set on a copy of a slice from a DataFrame.\n",
      "Try using .loc[row_indexer,col_indexer] = value instead\n",
      "\n",
      "See the caveats in the documentation: http://pandas.pydata.org/pandas-docs/stable/user_guide/indexing.html#returning-a-view-versus-a-copy\n",
      "  \"\"\"Entry point for launching an IPython kernel.\n"
     ]
    },
    {
     "data": {
      "text/plain": [
       "[<matplotlib.lines.Line2D at 0x7f176fb8e810>]"
      ]
     },
     "execution_count": 13,
     "metadata": {},
     "output_type": "execute_result"
    },
    {
     "data": {
      "image/png": "[encoded data removed]",
      "text/plain": [
       "<Figure size 432x288 with 1 Axes>"
      ]
     },
     "metadata": {
      "needs_background": "light"
     },
     "output_type": "display_data"
    }
   ],
   "source": [
    "tmp[\"signal_recover\"] = tmp.signal - y_fit.reshape(-1) + reg.intercept_\n",
    "plt.plot(tmp.signal_recover, \".b\")"
   ]
  },
  {
   "cell_type": "code",
   "execution_count": null,
   "metadata": {},
   "outputs": [],
   "source": []
  },
  {
   "cell_type": "code",
   "execution_count": null,
   "metadata": {},
   "outputs": [],
   "source": []
  },
  {
   "cell_type": "code",
   "execution_count": null,
   "metadata": {},
   "outputs": [],
   "source": []
  },
  {
   "cell_type": "code",
   "execution_count": null,
   "metadata": {},
   "outputs": [],
   "source": []
  }
 ],
 "metadata": {
  "kernelspec": {
   "display_name": "Python 3",
   "language": "python",
   "name": "python3"
  },
  "language_info": {
   "codemirror_mode": {
    "name": "ipython",
    "version": 3
   },
   "file_extension": ".py",
   "mimetype": "text/x-python",
   "name": "python",
   "nbconvert_exporter": "python",
   "pygments_lexer": "ipython3",
   "version": "3.7.5"
  }
 },
 "nbformat": 4,
 "nbformat_minor": 2
}
