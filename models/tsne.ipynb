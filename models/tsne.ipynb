{
 "cells": [
  {
   "cell_type": "code",
   "execution_count": 1,
   "metadata": {
    "ExecuteTime": {
     "end_time": "2020-03-22T01:28:19.360988Z",
     "start_time": "2020-03-22T01:28:18.370173Z"
    }
   },
   "outputs": [],
   "source": [
    "import numpy as np\n",
    "import pandas as pd\n",
    "import matplotlib.pyplot as plt\n",
    "\n",
    "from sklearn.model_selection import StratifiedKFold\n",
    "from sklearn.metrics import confusion_matrix\n",
    "from post_processing import *\n",
    "from utils import *\n",
    "# from fast_macro_f1_func import *\n",
    "from sklearn.metrics import f1_score\n",
    "from sklearn.mixture import GaussianMixture\n",
    "from sklearn.manifold import TSNE\n",
    "\n",
    "import warnings\n",
    "warnings.filterwarnings(\"ignore\")"
   ]
  },
  {
   "cell_type": "code",
   "execution_count": 2,
   "metadata": {
    "ExecuteTime": {
     "end_time": "2020-03-22T01:28:21.499757Z",
     "start_time": "2020-03-22T01:28:19.362243Z"
    }
   },
   "outputs": [],
   "source": [
    "# chris clean dataset\n",
    "df_train = pd.read_csv(\"../input/train_clean.csv\")\n",
    "df_test = pd.read_csv(\"../input/test_clean.csv\")\n",
    "\n",
    "df_train[\"local_time\"] = df_train.time % 50\n",
    "df_train.loc[df_train.local_time == 0.0000, \"local_time\"] = 50\n",
    "\n",
    "df_test[\"local_time\"] = df_test.time % 50\n",
    "df_test.loc[df_test.local_time == 0.0000, \"local_time\"] = 50\n",
    "\n",
    "df_test[\"mini_local_time\"] = df_test.time % 10\n",
    "df_test.loc[df_test.local_time == 0.0000, \"mini_local_time\"] = 10\n",
    "\n",
    "BATCH_SIZE = 500000\n",
    "\n",
    "# train\n",
    "for batch_i in range(10):\n",
    "    df_train.loc[BATCH_SIZE * batch_i:BATCH_SIZE * batch_i + 500000, 'batch'] = batch_i + 1\n",
    "\n",
    "    df_train.loc[BATCH_SIZE * batch_i:BATCH_SIZE * batch_i + 100000, 'mini_batch'] = 1\n",
    "    df_train.loc[BATCH_SIZE * batch_i + 100000:BATCH_SIZE * batch_i + 200000, 'mini_batch'] = 2\n",
    "    df_train.loc[BATCH_SIZE * batch_i + 200000:BATCH_SIZE * batch_i + 300000, 'mini_batch'] = 3\n",
    "    df_train.loc[BATCH_SIZE * batch_i + 300000:BATCH_SIZE * batch_i + 400000, 'mini_batch'] = 4\n",
    "    df_train.loc[BATCH_SIZE * batch_i + 400000:BATCH_SIZE * batch_i + 500000, 'mini_batch'] = 5\n",
    "# test\n",
    "for batch_i in range(4):\n",
    "    df_test.loc[BATCH_SIZE * batch_i:BATCH_SIZE * batch_i + 500000, 'batch'] = batch_i + 1\n",
    "\n",
    "    df_test.loc[BATCH_SIZE * batch_i:BATCH_SIZE * batch_i + 100000, 'mini_batch'] = 1\n",
    "    df_test.loc[BATCH_SIZE * batch_i + 100000:BATCH_SIZE * batch_i + 200000, 'mini_batch'] = 2\n",
    "    df_test.loc[BATCH_SIZE * batch_i + 200000:BATCH_SIZE * batch_i + 300000, 'mini_batch'] = 3\n",
    "    df_test.loc[BATCH_SIZE * batch_i + 300000:BATCH_SIZE * batch_i + 400000, 'mini_batch'] = 4\n",
    "    df_test.loc[BATCH_SIZE * batch_i + 400000:BATCH_SIZE * batch_i + 500000, 'mini_batch'] = 5\n",
    "    \n",
    "df_train = df_train.drop(df_train[(df_train.batch.isin([8]))].index)\n"
   ]
  },
  {
   "cell_type": "code",
   "execution_count": 3,
   "metadata": {
    "ExecuteTime": {
     "end_time": "2020-03-22T01:28:21.548324Z",
     "start_time": "2020-03-22T01:28:21.500793Z"
    }
   },
   "outputs": [],
   "source": [
    "# channel 0 - batch 1\n",
    "channel_0_batch_1 = df_train[(df_train.batch == 1) & (df_train.open_channels == 0)]\n",
    "channel_0_batch_1_threshold = channel_0_batch_1.signal.quantile(0.99999)\n",
    "channel_0_batch_1.loc[channel_0_batch_1.signal > channel_0_batch_1_threshold, \"signal\"] = channel_0_batch_1_threshold\n",
    "df_train.loc[(df_train.batch == 1) & (df_train.open_channels == 0), \"signal\"] = channel_0_batch_1.signal"
   ]
  },
  {
   "cell_type": "code",
   "execution_count": 4,
   "metadata": {
    "ExecuteTime": {
     "end_time": "2020-03-22T01:28:21.596538Z",
     "start_time": "2020-03-22T01:28:21.549312Z"
    }
   },
   "outputs": [],
   "source": [
    "df_train.loc[(df_train.batch.isin([5, 10])), \"signal\"] += 2.726\n",
    "df_test.loc[(df_test.batch.isin([2])) & (df_test.mini_batch.isin([1, 3])),\n",
    "            \"signal\"] += 2.726"
   ]
  },
  {
   "cell_type": "code",
   "execution_count": 5,
   "metadata": {
    "ExecuteTime": {
     "end_time": "2020-03-22T01:28:30.353646Z",
     "start_time": "2020-03-22T01:28:21.597587Z"
    }
   },
   "outputs": [
    {
     "name": "stdout",
     "output_type": "stream",
     "text": [
      "(4500000, 6) (2000000, 6) (2000000, 2)\n"
     ]
    },
    {
     "data": {
      "text/html": [
       "<div>\n",
       "<style scoped>\n",
       "    .dataframe tbody tr th:only-of-type {\n",
       "        vertical-align: middle;\n",
       "    }\n",
       "\n",
       "    .dataframe tbody tr th {\n",
       "        vertical-align: top;\n",
       "    }\n",
       "\n",
       "    .dataframe thead th {\n",
       "        text-align: right;\n",
       "    }\n",
       "</style>\n",
       "<table border=\"1\" class=\"dataframe\">\n",
       "  <thead>\n",
       "    <tr style=\"text-align: right;\">\n",
       "      <th></th>\n",
       "      <th>time</th>\n",
       "      <th>signal</th>\n",
       "      <th>open_channels</th>\n",
       "      <th>local_time</th>\n",
       "      <th>batch</th>\n",
       "      <th>mini_batch</th>\n",
       "    </tr>\n",
       "  </thead>\n",
       "  <tbody>\n",
       "    <tr>\n",
       "      <th>0</th>\n",
       "      <td>0.0001</td>\n",
       "      <td>-2.7600</td>\n",
       "      <td>0</td>\n",
       "      <td>0.0001</td>\n",
       "      <td>1.0</td>\n",
       "      <td>1.0</td>\n",
       "    </tr>\n",
       "    <tr>\n",
       "      <th>1</th>\n",
       "      <td>0.0002</td>\n",
       "      <td>-2.8557</td>\n",
       "      <td>0</td>\n",
       "      <td>0.0002</td>\n",
       "      <td>1.0</td>\n",
       "      <td>1.0</td>\n",
       "    </tr>\n",
       "    <tr>\n",
       "      <th>2</th>\n",
       "      <td>0.0003</td>\n",
       "      <td>-2.4074</td>\n",
       "      <td>0</td>\n",
       "      <td>0.0003</td>\n",
       "      <td>1.0</td>\n",
       "      <td>1.0</td>\n",
       "    </tr>\n",
       "    <tr>\n",
       "      <th>3</th>\n",
       "      <td>0.0004</td>\n",
       "      <td>-3.1404</td>\n",
       "      <td>0</td>\n",
       "      <td>0.0004</td>\n",
       "      <td>1.0</td>\n",
       "      <td>1.0</td>\n",
       "    </tr>\n",
       "    <tr>\n",
       "      <th>4</th>\n",
       "      <td>0.0005</td>\n",
       "      <td>-3.1525</td>\n",
       "      <td>0</td>\n",
       "      <td>0.0005</td>\n",
       "      <td>1.0</td>\n",
       "      <td>1.0</td>\n",
       "    </tr>\n",
       "  </tbody>\n",
       "</table>\n",
       "</div>"
      ],
      "text/plain": [
       "     time  signal  open_channels  local_time  batch  mini_batch\n",
       "0  0.0001 -2.7600              0      0.0001    1.0         1.0\n",
       "1  0.0002 -2.8557              0      0.0002    1.0         1.0\n",
       "2  0.0003 -2.4074              0      0.0003    1.0         1.0\n",
       "3  0.0004 -3.1404              0      0.0004    1.0         1.0\n",
       "4  0.0005 -3.1525              0      0.0005    1.0         1.0"
      ]
     },
     "execution_count": 5,
     "metadata": {},
     "output_type": "execute_result"
    }
   ],
   "source": [
    "# df_train = pd.read_pickle('../features/train_v2.pkl')\n",
    "# df_test = pd.read_pickle('../features/test_v2.pkl')\n",
    "\n",
    "sub = pd.read_csv(\"../input/sample_submission.csv\")\n",
    "sub['time'] = [format(sub.time.values[x], '.4f') for x in range(2000000)]\n",
    "TARGET = \"open_channels\"\n",
    "\n",
    "print(df_train.shape, df_test.shape, sub.shape)\n",
    "df_train.head()"
   ]
  },
  {
   "cell_type": "code",
   "execution_count": 6,
   "metadata": {
    "ExecuteTime": {
     "end_time": "2020-03-22T01:28:31.249144Z",
     "start_time": "2020-03-22T01:28:30.354523Z"
    }
   },
   "outputs": [
    {
     "name": "stdout",
     "output_type": "stream",
     "text": [
      "feature engineering on training data ...\n",
      "feature engineering on testing data ...\n",
      "feature engineering is done ...\n"
     ]
    }
   ],
   "source": [
    "shift = 1\n",
    "\n",
    "def fe(df):\n",
    "    \n",
    "    for shift_val in range(1, shift + 1):\n",
    "    \n",
    "        df[f'shift+{shift_val}'] = df.groupby(['batch']).shift(shift_val)['signal']\n",
    "#         df[f'shift_{shift_val}'] = df.groupby(['batch']).shift(-shift_val)['signal']\n",
    "        \n",
    "#         df[f'diff+{shift_val}'] = df[f'shift+{shift_val}'] - df['signal']\n",
    "#         df[f'diff_{shift_val}'] = df[f'shift_{shift_val}'] - df['signal']\n",
    "        \n",
    "#         df[f'add+{shift_val}'] = df[f'shift+{shift_val}'] + df['signal']\n",
    "#         df[f'add_{shift_val}'] = df[f'shift_{shift_val}'] + df['signal']\n",
    "        \n",
    "#         df[f'mul+{shift_val}'] = df[f'shift+{shift_val}'] * df['signal']\n",
    "#         df[f'mul_{shift_val}'] = df[f'shift_{shift_val}'] * df['signal']\n",
    "\n",
    "    return df\n",
    "\n",
    "def fe_test(df):\n",
    "    \n",
    "    for shift_val in range(1, shift + 1):\n",
    "    \n",
    "        df[f'shift+{shift_val}'] = df.groupby(['batch', 'mini_batch']).shift(shift_val)['signal']\n",
    "        df[f'shift_{shift_val}'] = df.groupby(['batch', 'mini_batch']).shift(-shift_val)['signal']\n",
    "\n",
    "#         df[f'diff+{shift_val}'] = df[f'shift+{shift_val}'] - df['signal']\n",
    "#         df[f'diff_{shift_val}'] = df[f'shift_{shift_val}'] - df['signal']\n",
    "        \n",
    "#         df[f'add+{shift_val}'] = df[f'shift+{shift_val}'] + df['signal']\n",
    "#         df[f'add_{shift_val}'] = df[f'shift_{shift_val}'] + df['signal']\n",
    "\n",
    "    return df\n",
    "\n",
    "print(\"feature engineering on training data ...\")\n",
    "df_train = fe(df_train)\n",
    "print(\"feature engineering on testing data ...\")\n",
    "df_test = fe_test(df_test) # should group mini-batch ***\n",
    "\n",
    "df_train.dropna(inplace=True)\n",
    "df_test.fillna(method = \"bfill\", inplace=True)\n",
    "df_test.fillna(method = \"ffill\", inplace=True)\n",
    "\n",
    "print(\"feature engineering is done ...\")"
   ]
  },
  {
   "cell_type": "code",
   "execution_count": 7,
   "metadata": {
    "ExecuteTime": {
     "end_time": "2020-03-22T01:28:31.269076Z",
     "start_time": "2020-03-22T01:28:31.250484Z"
    }
   },
   "outputs": [
    {
     "name": "stdout",
     "output_type": "stream",
     "text": [
      "train/test shape is: (4499991, 7) (2000000, 8)\n",
      "features used # is 2\n"
     ]
    },
    {
     "data": {
      "text/html": [
       "<div>\n",
       "<style scoped>\n",
       "    .dataframe tbody tr th:only-of-type {\n",
       "        vertical-align: middle;\n",
       "    }\n",
       "\n",
       "    .dataframe tbody tr th {\n",
       "        vertical-align: top;\n",
       "    }\n",
       "\n",
       "    .dataframe thead th {\n",
       "        text-align: right;\n",
       "    }\n",
       "</style>\n",
       "<table border=\"1\" class=\"dataframe\">\n",
       "  <thead>\n",
       "    <tr style=\"text-align: right;\">\n",
       "      <th></th>\n",
       "      <th>signal</th>\n",
       "      <th>shift+1</th>\n",
       "    </tr>\n",
       "  </thead>\n",
       "  <tbody>\n",
       "    <tr>\n",
       "      <th>1</th>\n",
       "      <td>-2.8557</td>\n",
       "      <td>-2.7600</td>\n",
       "    </tr>\n",
       "    <tr>\n",
       "      <th>2</th>\n",
       "      <td>-2.4074</td>\n",
       "      <td>-2.8557</td>\n",
       "    </tr>\n",
       "    <tr>\n",
       "      <th>3</th>\n",
       "      <td>-3.1404</td>\n",
       "      <td>-2.4074</td>\n",
       "    </tr>\n",
       "    <tr>\n",
       "      <th>4</th>\n",
       "      <td>-3.1525</td>\n",
       "      <td>-3.1404</td>\n",
       "    </tr>\n",
       "    <tr>\n",
       "      <th>5</th>\n",
       "      <td>-2.6418</td>\n",
       "      <td>-3.1525</td>\n",
       "    </tr>\n",
       "  </tbody>\n",
       "</table>\n",
       "</div>"
      ],
      "text/plain": [
       "   signal  shift+1\n",
       "1 -2.8557  -2.7600\n",
       "2 -2.4074  -2.8557\n",
       "3 -3.1404  -2.4074\n",
       "4 -3.1525  -3.1404\n",
       "5 -2.6418  -3.1525"
      ]
     },
     "execution_count": 7,
     "metadata": {},
     "output_type": "execute_result"
    }
   ],
   "source": [
    "color_list = [\n",
    "    \"b\", \"g\", \"r\", \"c\", \"m\", \"k\", \"y\", '#0000FF', '#8A2BE2', '#A52A2A',\n",
    "    '#DEB887', '#5F9EA0'\n",
    "]\n",
    "\n",
    "# drop useless features\n",
    "drop_features = [\n",
    "    \"time\",\n",
    "    \"open_channels\",\n",
    "    \"local_time\",\n",
    "    \"batch\",\n",
    "    \"mini_batch\",\n",
    "    \"oof\",\n",
    "]\n",
    "all_features = [col for col in df_train.columns if col not in drop_features]\n",
    "D = len(all_features)\n",
    "\n",
    "print(\"train/test shape is:\", df_train.shape, df_test.shape)\n",
    "print(\"features used # is\", len(all_features))\n",
    "df_train[all_features].head()"
   ]
  },
  {
   "cell_type": "markdown",
   "metadata": {},
   "source": [
    "### model 1 - batch 1&2"
   ]
  },
  {
   "cell_type": "code",
   "execution_count": 16,
   "metadata": {
    "ExecuteTime": {
     "end_time": "2020-03-22T01:31:01.692239Z",
     "start_time": "2020-03-22T01:31:01.678136Z"
    }
   },
   "outputs": [],
   "source": [
    "# model 1: batch 1&2\n",
    "BATCH_GROUP_1 = [6]\n",
    "df_train_1 = df_train[df_train.batch.isin(BATCH_GROUP_1)]"
   ]
  },
  {
   "cell_type": "code",
   "execution_count": 20,
   "metadata": {
    "ExecuteTime": {
     "end_time": "2020-03-22T01:33:31.423735Z",
     "start_time": "2020-03-22T01:33:31.407814Z"
    }
   },
   "outputs": [],
   "source": [
    "df_train_1_sam = df_train_1.sample(50000)\n",
    "df_train_1_sam = df_train_1_sam[df_train_1_sam.open_channels == 4]"
   ]
  },
  {
   "cell_type": "code",
   "execution_count": 21,
   "metadata": {
    "ExecuteTime": {
     "end_time": "2020-03-22T01:33:58.373175Z",
     "start_time": "2020-03-22T01:33:31.847166Z"
    }
   },
   "outputs": [],
   "source": [
    "df_train_1_embedded = TSNE(n_components=2).fit_transform(df_train_1_sam[all_features])"
   ]
  },
  {
   "cell_type": "code",
   "execution_count": 22,
   "metadata": {
    "ExecuteTime": {
     "end_time": "2020-03-22T01:33:58.560676Z",
     "start_time": "2020-03-22T01:33:58.379423Z"
    }
   },
   "outputs": [
    {
     "data": {
      "text/plain": [
       "[<matplotlib.lines.Line2D at 0x7f8e2e4cb7d0>]"
      ]
     },
     "execution_count": 22,
     "metadata": {},
     "output_type": "execute_result"
    },
    {
     "data": {
      "image/png": "[encoded data removed]",
      "text/plain": [
       "<Figure size 432x288 with 1 Axes>"
      ]
     },
     "metadata": {
      "needs_background": "light"
     },
     "output_type": "display_data"
    }
   ],
   "source": [
    "plt.plot(df_train_1_embedded[df_train_1_sam.open_channels == 0][:, 0],\n",
    "         df_train_1_embedded[df_train_1_sam.open_channels == 0][:, 1], \".b\")\n",
    "\n",
    "plt.plot(df_train_1_embedded[df_train_1_sam.open_channels == 1][:, 0],\n",
    "         df_train_1_embedded[df_train_1_sam.open_channels == 1][:, 1], \".r\")\n",
    "\n",
    "plt.plot(df_train_1_embedded[df_train_1_sam.open_channels == 2][:, 0],\n",
    "         df_train_1_embedded[df_train_1_sam.open_channels == 2][:, 1], \".m\")\n",
    "\n",
    "plt.plot(df_train_1_embedded[df_train_1_sam.open_channels == 3][:, 0],\n",
    "         df_train_1_embedded[df_train_1_sam.open_channels == 3][:, 1], \".g\")\n",
    "\n",
    "plt.plot(df_train_1_embedded[df_train_1_sam.open_channels == 4][:, 0],\n",
    "         df_train_1_embedded[df_train_1_sam.open_channels == 4][:, 1], \".k\")\n",
    "\n",
    "plt.plot(df_train_1_embedded[df_train_1_sam.open_channels == 5][:, 0],\n",
    "         df_train_1_embedded[df_train_1_sam.open_channels == 5][:, 1], \".c\")"
   ]
  },
  {
   "cell_type": "code",
   "execution_count": null,
   "metadata": {},
   "outputs": [],
   "source": []
  },
  {
   "cell_type": "code",
   "execution_count": null,
   "metadata": {},
   "outputs": [],
   "source": []
  },
  {
   "cell_type": "code",
   "execution_count": null,
   "metadata": {},
   "outputs": [],
   "source": []
  },
  {
   "cell_type": "code",
   "execution_count": null,
   "metadata": {},
   "outputs": [],
   "source": []
  },
  {
   "cell_type": "code",
   "execution_count": null,
   "metadata": {},
   "outputs": [],
   "source": []
  },
  {
   "cell_type": "code",
   "execution_count": null,
   "metadata": {},
   "outputs": [],
   "source": []
  },
  {
   "cell_type": "code",
   "execution_count": null,
   "metadata": {},
   "outputs": [],
   "source": []
  },
  {
   "cell_type": "code",
   "execution_count": null,
   "metadata": {},
   "outputs": [],
   "source": []
  },
  {
   "cell_type": "code",
   "execution_count": null,
   "metadata": {},
   "outputs": [],
   "source": []
  },
  {
   "cell_type": "code",
   "execution_count": null,
   "metadata": {},
   "outputs": [],
   "source": []
  },
  {
   "cell_type": "code",
   "execution_count": null,
   "metadata": {},
   "outputs": [],
   "source": []
  },
  {
   "cell_type": "code",
   "execution_count": null,
   "metadata": {},
   "outputs": [],
   "source": []
  },
  {
   "cell_type": "code",
   "execution_count": null,
   "metadata": {},
   "outputs": [],
   "source": []
  },
  {
   "cell_type": "code",
   "execution_count": null,
   "metadata": {},
   "outputs": [],
   "source": []
  },
  {
   "cell_type": "code",
   "execution_count": null,
   "metadata": {},
   "outputs": [],
   "source": []
  },
  {
   "cell_type": "code",
   "execution_count": null,
   "metadata": {},
   "outputs": [],
   "source": []
  },
  {
   "cell_type": "code",
   "execution_count": null,
   "metadata": {},
   "outputs": [],
   "source": []
  },
  {
   "cell_type": "code",
   "execution_count": null,
   "metadata": {},
   "outputs": [],
   "source": []
  },
  {
   "cell_type": "code",
   "execution_count": null,
   "metadata": {},
   "outputs": [],
   "source": []
  },
  {
   "cell_type": "code",
   "execution_count": null,
   "metadata": {},
   "outputs": [],
   "source": []
  },
  {
   "cell_type": "code",
   "execution_count": null,
   "metadata": {},
   "outputs": [],
   "source": []
  },
  {
   "cell_type": "code",
   "execution_count": null,
   "metadata": {},
   "outputs": [],
   "source": []
  },
  {
   "cell_type": "code",
   "execution_count": null,
   "metadata": {},
   "outputs": [],
   "source": []
  },
  {
   "cell_type": "code",
   "execution_count": null,
   "metadata": {},
   "outputs": [],
   "source": []
  },
  {
   "cell_type": "code",
   "execution_count": null,
   "metadata": {},
   "outputs": [],
   "source": []
  },
  {
   "cell_type": "code",
   "execution_count": null,
   "metadata": {},
   "outputs": [],
   "source": []
  },
  {
   "cell_type": "code",
   "execution_count": null,
   "metadata": {},
   "outputs": [],
   "source": []
  },
  {
   "cell_type": "code",
   "execution_count": null,
   "metadata": {},
   "outputs": [],
   "source": []
  }
 ],
 "metadata": {
  "kernelspec": {
   "display_name": "Python 3",
   "language": "python",
   "name": "python3"
  },
  "language_info": {
   "codemirror_mode": {
    "name": "ipython",
    "version": 3
   },
   "file_extension": ".py",
   "mimetype": "text/x-python",
   "name": "python",
   "nbconvert_exporter": "python",
   "pygments_lexer": "ipython3",
   "version": "3.7.5"
  }
 },
 "nbformat": 4,
 "nbformat_minor": 2
}
