{
 "cells": [
  {
   "cell_type": "code",
   "execution_count": 1,
   "metadata": {
    "ExecuteTime": {
     "end_time": "2020-04-24T04:23:49.558171Z",
     "start_time": "2020-04-24T04:23:48.588781Z"
    }
   },
   "outputs": [],
   "source": [
    "import numpy as np\n",
    "import pandas as pd\n",
    "import matplotlib.pyplot as plt\n",
    "\n",
    "from sklearn.model_selection import StratifiedKFold\n",
    "from sklearn.metrics import confusion_matrix\n",
    "from post_processing import *\n",
    "from utils import *\n",
    "from fast_macro_f1_func import *\n",
    "\n",
    "import lightgbm as lgb\n",
    "\n",
    "import warnings\n",
    "warnings.filterwarnings(\"ignore\")\n",
    "\n",
    "pd.set_option('display.max_columns', None)"
   ]
  },
  {
   "cell_type": "code",
   "execution_count": 2,
   "metadata": {
    "ExecuteTime": {
     "end_time": "2020-04-24T04:23:51.433815Z",
     "start_time": "2020-04-24T04:23:49.559395Z"
    }
   },
   "outputs": [],
   "source": [
    "# chris clean dataset\n",
    "df_train = pd.read_csv(\"../input/train_clean.csv\")\n",
    "df_test = pd.read_csv(\"../input/test_clean.csv\")\n",
    "\n",
    "df_train[\"local_time\"] = df_train.time % 50\n",
    "df_train.loc[df_train.local_time == 0.0000, \"local_time\"] = 50\n",
    "\n",
    "df_test[\"local_time\"] = df_test.time % 50\n",
    "df_test.loc[df_test.local_time == 0.0000, \"local_time\"] = 50\n",
    "\n",
    "df_test[\"mini_local_time\"] = df_test.time % 10\n",
    "df_test.loc[df_test.local_time == 0.0000, \"mini_local_time\"] = 10\n",
    "\n",
    "BATCH_SIZE = 500000\n",
    "\n",
    "# train\n",
    "for batch_i in range(10):\n",
    "    df_train.loc[BATCH_SIZE * batch_i:BATCH_SIZE * batch_i + 500000, 'batch'] = batch_i + 1\n",
    "\n",
    "    df_train.loc[BATCH_SIZE * batch_i:BATCH_SIZE * batch_i + 100000, 'mini_batch'] = 1\n",
    "    df_train.loc[BATCH_SIZE * batch_i + 100000:BATCH_SIZE * batch_i + 200000, 'mini_batch'] = 2\n",
    "    df_train.loc[BATCH_SIZE * batch_i + 200000:BATCH_SIZE * batch_i + 300000, 'mini_batch'] = 3\n",
    "    df_train.loc[BATCH_SIZE * batch_i + 300000:BATCH_SIZE * batch_i + 400000, 'mini_batch'] = 4\n",
    "    df_train.loc[BATCH_SIZE * batch_i + 400000:BATCH_SIZE * batch_i + 500000, 'mini_batch'] = 5\n",
    "# test\n",
    "for batch_i in range(4):\n",
    "    df_test.loc[BATCH_SIZE * batch_i:BATCH_SIZE * batch_i + 500000, 'batch'] = batch_i + 1\n",
    "\n",
    "    df_test.loc[BATCH_SIZE * batch_i:BATCH_SIZE * batch_i + 100000, 'mini_batch'] = 1\n",
    "    df_test.loc[BATCH_SIZE * batch_i + 100000:BATCH_SIZE * batch_i + 200000, 'mini_batch'] = 2\n",
    "    df_test.loc[BATCH_SIZE * batch_i + 200000:BATCH_SIZE * batch_i + 300000, 'mini_batch'] = 3\n",
    "    df_test.loc[BATCH_SIZE * batch_i + 300000:BATCH_SIZE * batch_i + 400000, 'mini_batch'] = 4\n",
    "    df_test.loc[BATCH_SIZE * batch_i + 400000:BATCH_SIZE * batch_i + 500000, 'mini_batch'] = 5"
   ]
  },
  {
   "cell_type": "code",
   "execution_count": 3,
   "metadata": {
    "ExecuteTime": {
     "end_time": "2020-04-24T04:23:51.483011Z",
     "start_time": "2020-04-24T04:23:51.434788Z"
    }
   },
   "outputs": [],
   "source": [
    "# channel 0 - batch 1\n",
    "channel_0_batch_1 = df_train[(df_train.batch == 1) & (df_train.open_channels == 0)]\n",
    "channel_0_batch_1_threshold = channel_0_batch_1.signal.quantile(0.99999)\n",
    "channel_0_batch_1.loc[channel_0_batch_1.signal > channel_0_batch_1_threshold, \"signal\"] = channel_0_batch_1_threshold\n",
    "df_train.loc[(df_train.batch == 1) & (df_train.open_channels == 0), \"signal\"] = channel_0_batch_1.signal"
   ]
  },
  {
   "cell_type": "code",
   "execution_count": 4,
   "metadata": {
    "ExecuteTime": {
     "end_time": "2020-04-24T04:23:51.530149Z",
     "start_time": "2020-04-24T04:23:51.483923Z"
    }
   },
   "outputs": [],
   "source": [
    "shift_val = 2.726\n",
    "df_train.loc[(df_train.batch.isin([5, 10])), \"signal\"] += shift_val\n",
    "df_test.loc[(df_test.batch.isin([2])) & (df_test.mini_batch.isin([1, 3])),\n",
    "            \"signal\"] += shift_val"
   ]
  },
  {
   "cell_type": "code",
   "execution_count": 5,
   "metadata": {
    "ExecuteTime": {
     "end_time": "2020-04-24T04:24:00.652854Z",
     "start_time": "2020-04-24T04:23:51.531039Z"
    }
   },
   "outputs": [
    {
     "name": "stdout",
     "output_type": "stream",
     "text": [
      "(5000000, 6) (2000000, 6) (2000000, 2)\n"
     ]
    },
    {
     "data": {
      "text/html": [
       "<div>\n",
       "<style scoped>\n",
       "    .dataframe tbody tr th:only-of-type {\n",
       "        vertical-align: middle;\n",
       "    }\n",
       "\n",
       "    .dataframe tbody tr th {\n",
       "        vertical-align: top;\n",
       "    }\n",
       "\n",
       "    .dataframe thead th {\n",
       "        text-align: right;\n",
       "    }\n",
       "</style>\n",
       "<table border=\"1\" class=\"dataframe\">\n",
       "  <thead>\n",
       "    <tr style=\"text-align: right;\">\n",
       "      <th></th>\n",
       "      <th>time</th>\n",
       "      <th>signal</th>\n",
       "      <th>open_channels</th>\n",
       "      <th>local_time</th>\n",
       "      <th>batch</th>\n",
       "      <th>mini_batch</th>\n",
       "    </tr>\n",
       "  </thead>\n",
       "  <tbody>\n",
       "    <tr>\n",
       "      <th>0</th>\n",
       "      <td>0.0001</td>\n",
       "      <td>-2.7600</td>\n",
       "      <td>0</td>\n",
       "      <td>0.0001</td>\n",
       "      <td>1.0</td>\n",
       "      <td>1.0</td>\n",
       "    </tr>\n",
       "    <tr>\n",
       "      <th>1</th>\n",
       "      <td>0.0002</td>\n",
       "      <td>-2.8557</td>\n",
       "      <td>0</td>\n",
       "      <td>0.0002</td>\n",
       "      <td>1.0</td>\n",
       "      <td>1.0</td>\n",
       "    </tr>\n",
       "    <tr>\n",
       "      <th>2</th>\n",
       "      <td>0.0003</td>\n",
       "      <td>-2.4074</td>\n",
       "      <td>0</td>\n",
       "      <td>0.0003</td>\n",
       "      <td>1.0</td>\n",
       "      <td>1.0</td>\n",
       "    </tr>\n",
       "    <tr>\n",
       "      <th>3</th>\n",
       "      <td>0.0004</td>\n",
       "      <td>-3.1404</td>\n",
       "      <td>0</td>\n",
       "      <td>0.0004</td>\n",
       "      <td>1.0</td>\n",
       "      <td>1.0</td>\n",
       "    </tr>\n",
       "    <tr>\n",
       "      <th>4</th>\n",
       "      <td>0.0005</td>\n",
       "      <td>-3.1525</td>\n",
       "      <td>0</td>\n",
       "      <td>0.0005</td>\n",
       "      <td>1.0</td>\n",
       "      <td>1.0</td>\n",
       "    </tr>\n",
       "  </tbody>\n",
       "</table>\n",
       "</div>"
      ],
      "text/plain": [
       "     time  signal  open_channels  local_time  batch  mini_batch\n",
       "0  0.0001 -2.7600              0      0.0001    1.0         1.0\n",
       "1  0.0002 -2.8557              0      0.0002    1.0         1.0\n",
       "2  0.0003 -2.4074              0      0.0003    1.0         1.0\n",
       "3  0.0004 -3.1404              0      0.0004    1.0         1.0\n",
       "4  0.0005 -3.1525              0      0.0005    1.0         1.0"
      ]
     },
     "execution_count": 5,
     "metadata": {},
     "output_type": "execute_result"
    }
   ],
   "source": [
    "# df_train = pd.read_pickle('../features/train_v2.pkl')\n",
    "# df_test = pd.read_pickle('../features/test_v2.pkl')\n",
    "\n",
    "sub = pd.read_csv(\"../input/sample_submission.csv\")\n",
    "sub['time'] = [format(sub.time.values[x], '.4f') for x in range(2000000)]\n",
    "TARGET = \"open_channels\"\n",
    "\n",
    "print(df_train.shape, df_test.shape, sub.shape)\n",
    "df_train.head()"
   ]
  },
  {
   "cell_type": "code",
   "execution_count": 21,
   "metadata": {
    "ExecuteTime": {
     "end_time": "2020-04-24T04:33:54.808625Z",
     "start_time": "2020-04-24T04:33:54.699100Z"
    }
   },
   "outputs": [],
   "source": [
    "import pywt\n",
    "def denoise_signal_simple(x, wavelet='db4', level=1):\n",
    "    coeff = pywt.wavedec(x[\"signal\"], wavelet, mode=\"constant\")\n",
    "    #univeral threshold\n",
    "    uthresh = level\n",
    "    coeff[1:] = (pywt.threshold(i, value=uthresh, mode='hard') for i in coeff[1:])\n",
    "    # Reconstruct the signal using the thresholded coefficients\n",
    "    x[f\"signal_fil_{level}\"] = pywt.waverec(coeff, wavelet, mode='constant')\n",
    "    return x\n",
    "\n",
    "# den_sample_simple = denoise_signal_simple(sig.signal)\n",
    "# print(sig.signal.values[:5])\n",
    "# print(den_sample_simple[:5].round(4))\n",
    "# plt.plot(sig.signal)\n",
    "# plt.plot(den_sample_simple)\n",
    "level=1\n",
    "df_train[\"signal_fil\"] = denoise_signal_simple(df_train)[f\"signal_fil_{level}\"]\n",
    "df_test[\"signal_fil\"] = denoise_signal_simple(df_test)[f\"signal_fil_{level}\"]"
   ]
  },
  {
   "cell_type": "code",
   "execution_count": 17,
   "metadata": {
    "ExecuteTime": {
     "end_time": "2020-04-24T04:32:13.975565Z",
     "start_time": "2020-04-24T04:32:13.406087Z"
    }
   },
   "outputs": [],
   "source": [
    "level = 10\n",
    "df_train[f\"signal_fil_{level}\"] = df_train.groupby([\"batch\"]).apply(denoise_signal_simple, level=level)[f\"signal_fil_{level}\"]"
   ]
  },
  {
   "cell_type": "code",
   "execution_count": 18,
   "metadata": {
    "ExecuteTime": {
     "end_time": "2020-04-24T04:32:14.856738Z",
     "start_time": "2020-04-24T04:32:14.849382Z"
    }
   },
   "outputs": [
    {
     "data": {
      "text/html": [
       "<div>\n",
       "<style scoped>\n",
       "    .dataframe tbody tr th:only-of-type {\n",
       "        vertical-align: middle;\n",
       "    }\n",
       "\n",
       "    .dataframe tbody tr th {\n",
       "        vertical-align: top;\n",
       "    }\n",
       "\n",
       "    .dataframe thead th {\n",
       "        text-align: right;\n",
       "    }\n",
       "</style>\n",
       "<table border=\"1\" class=\"dataframe\">\n",
       "  <thead>\n",
       "    <tr style=\"text-align: right;\">\n",
       "      <th></th>\n",
       "      <th>time</th>\n",
       "      <th>signal</th>\n",
       "      <th>open_channels</th>\n",
       "      <th>local_time</th>\n",
       "      <th>batch</th>\n",
       "      <th>mini_batch</th>\n",
       "      <th>signal_fil_1</th>\n",
       "      <th>signal_fil</th>\n",
       "      <th>signal_fil_10</th>\n",
       "    </tr>\n",
       "  </thead>\n",
       "  <tbody>\n",
       "    <tr>\n",
       "      <th>0</th>\n",
       "      <td>0.0001</td>\n",
       "      <td>-2.7600</td>\n",
       "      <td>0</td>\n",
       "      <td>0.0001</td>\n",
       "      <td>1.0</td>\n",
       "      <td>1.0</td>\n",
       "      <td>-2.698278</td>\n",
       "      <td>-2.698278</td>\n",
       "      <td>-2.70447</td>\n",
       "    </tr>\n",
       "    <tr>\n",
       "      <th>1</th>\n",
       "      <td>0.0002</td>\n",
       "      <td>-2.8557</td>\n",
       "      <td>0</td>\n",
       "      <td>0.0002</td>\n",
       "      <td>1.0</td>\n",
       "      <td>1.0</td>\n",
       "      <td>-2.698278</td>\n",
       "      <td>-2.698278</td>\n",
       "      <td>-2.70447</td>\n",
       "    </tr>\n",
       "    <tr>\n",
       "      <th>2</th>\n",
       "      <td>0.0003</td>\n",
       "      <td>-2.4074</td>\n",
       "      <td>0</td>\n",
       "      <td>0.0003</td>\n",
       "      <td>1.0</td>\n",
       "      <td>1.0</td>\n",
       "      <td>-2.698278</td>\n",
       "      <td>-2.698278</td>\n",
       "      <td>-2.70447</td>\n",
       "    </tr>\n",
       "    <tr>\n",
       "      <th>3</th>\n",
       "      <td>0.0004</td>\n",
       "      <td>-3.1404</td>\n",
       "      <td>0</td>\n",
       "      <td>0.0004</td>\n",
       "      <td>1.0</td>\n",
       "      <td>1.0</td>\n",
       "      <td>-2.698278</td>\n",
       "      <td>-2.698278</td>\n",
       "      <td>-2.70447</td>\n",
       "    </tr>\n",
       "    <tr>\n",
       "      <th>4</th>\n",
       "      <td>0.0005</td>\n",
       "      <td>-3.1525</td>\n",
       "      <td>0</td>\n",
       "      <td>0.0005</td>\n",
       "      <td>1.0</td>\n",
       "      <td>1.0</td>\n",
       "      <td>-2.698278</td>\n",
       "      <td>-2.698278</td>\n",
       "      <td>-2.70447</td>\n",
       "    </tr>\n",
       "  </tbody>\n",
       "</table>\n",
       "</div>"
      ],
      "text/plain": [
       "     time  signal  open_channels  local_time  batch  mini_batch  signal_fil_1  \\\n",
       "0  0.0001 -2.7600              0      0.0001    1.0         1.0     -2.698278   \n",
       "1  0.0002 -2.8557              0      0.0002    1.0         1.0     -2.698278   \n",
       "2  0.0003 -2.4074              0      0.0003    1.0         1.0     -2.698278   \n",
       "3  0.0004 -3.1404              0      0.0004    1.0         1.0     -2.698278   \n",
       "4  0.0005 -3.1525              0      0.0005    1.0         1.0     -2.698278   \n",
       "\n",
       "   signal_fil  signal_fil_10  \n",
       "0   -2.698278       -2.70447  \n",
       "1   -2.698278       -2.70447  \n",
       "2   -2.698278       -2.70447  \n",
       "3   -2.698278       -2.70447  \n",
       "4   -2.698278       -2.70447  "
      ]
     },
     "execution_count": 18,
     "metadata": {},
     "output_type": "execute_result"
    }
   ],
   "source": [
    "df_train.head()"
   ]
  },
  {
   "cell_type": "code",
   "execution_count": 19,
   "metadata": {
    "ExecuteTime": {
     "end_time": "2020-04-24T04:32:23.187370Z",
     "start_time": "2020-04-24T04:32:22.193623Z"
    }
   },
   "outputs": [
    {
     "data": {
      "text/plain": [
       "[<matplotlib.lines.Line2D at 0x7efd50be1310>]"
      ]
     },
     "execution_count": 19,
     "metadata": {},
     "output_type": "execute_result"
    },
    {
     "data": {
      "image/png": "[encoded data removed]",
      "text/plain": [
       "<Figure size 432x288 with 1 Axes>"
      ]
     },
     "metadata": {
      "needs_background": "light"
     },
     "output_type": "display_data"
    }
   ],
   "source": [
    "plt.plot(df_train.signal)\n",
    "plt.plot(df_train[f\"signal_fil_{level}\"])"
   ]
  },
  {
   "cell_type": "code",
   "execution_count": 15,
   "metadata": {
    "ExecuteTime": {
     "end_time": "2020-04-24T04:28:53.910089Z",
     "start_time": "2020-04-24T04:28:52.967666Z"
    }
   },
   "outputs": [
    {
     "data": {
      "text/plain": [
       "[<matplotlib.lines.Line2D at 0x7efd50b670d0>]"
      ]
     },
     "execution_count": 15,
     "metadata": {},
     "output_type": "execute_result"
    },
    {
     "data": {
      "image/png": "[encoded data removed]",
      "text/plain": [
       "<Figure size 432x288 with 1 Axes>"
      ]
     },
     "metadata": {
      "needs_background": "light"
     },
     "output_type": "display_data"
    }
   ],
   "source": [
    "plt.plot(df_train.signal)\n",
    "plt.plot(df_train[f\"signal_fil_{level}\"])"
   ]
  },
  {
   "cell_type": "code",
   "execution_count": null,
   "metadata": {},
   "outputs": [],
   "source": []
  },
  {
   "cell_type": "code",
   "execution_count": null,
   "metadata": {},
   "outputs": [],
   "source": []
  }
 ],
 "metadata": {
  "kernelspec": {
   "display_name": "Python 3",
   "language": "python",
   "name": "python3"
  },
  "language_info": {
   "codemirror_mode": {
    "name": "ipython",
    "version": 3
   },
   "file_extension": ".py",
   "mimetype": "text/x-python",
   "name": "python",
   "nbconvert_exporter": "python",
   "pygments_lexer": "ipython3",
   "version": "3.7.5"
  }
 },
 "nbformat": 4,
 "nbformat_minor": 2
}
