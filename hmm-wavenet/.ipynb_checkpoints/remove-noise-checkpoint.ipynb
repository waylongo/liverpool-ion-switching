{
 "cells": [
  {
   "cell_type": "code",
   "execution_count": 1,
   "metadata": {
    "ExecuteTime": {
     "end_time": "2020-05-13T06:38:25.056201Z",
     "start_time": "2020-05-13T06:38:24.626643Z"
    }
   },
   "outputs": [],
   "source": [
    "import numpy as np\n",
    "import pandas as pd\n",
    "import matplotlib.pyplot as plt\n",
    "\n",
    "import numpy.fft as fft\n",
    "from scipy import signal as scisig\n",
    "from viterbi_utils import *\n",
    "import warnings\n",
    "warnings.simplefilter('ignore')\n",
    "warnings.filterwarnings('ignore')\n",
    "pd.set_option('display.max_columns', 1000)\n",
    "pd.set_option('display.max_rows', 500)"
   ]
  },
  {
   "cell_type": "code",
   "execution_count": 2,
   "metadata": {
    "ExecuteTime": {
     "end_time": "2020-05-13T06:38:25.160469Z",
     "start_time": "2020-05-13T06:38:25.057331Z"
    }
   },
   "outputs": [
    {
     "name": "stdout",
     "output_type": "stream",
     "text": [
      "train size:(4500000, 6), test size:(2000000, 7)\n"
     ]
    },
    {
     "data": {
      "text/html": [
       "<div>\n",
       "<style scoped>\n",
       "    .dataframe tbody tr th:only-of-type {\n",
       "        vertical-align: middle;\n",
       "    }\n",
       "\n",
       "    .dataframe tbody tr th {\n",
       "        vertical-align: top;\n",
       "    }\n",
       "\n",
       "    .dataframe thead th {\n",
       "        text-align: right;\n",
       "    }\n",
       "</style>\n",
       "<table border=\"1\" class=\"dataframe\">\n",
       "  <thead>\n",
       "    <tr style=\"text-align: right;\">\n",
       "      <th></th>\n",
       "      <th>time</th>\n",
       "      <th>signal</th>\n",
       "      <th>open_channels</th>\n",
       "      <th>local_time</th>\n",
       "      <th>batch</th>\n",
       "      <th>mini_batch</th>\n",
       "    </tr>\n",
       "  </thead>\n",
       "  <tbody>\n",
       "    <tr>\n",
       "      <th>0</th>\n",
       "      <td>0.0001</td>\n",
       "      <td>-2.7600</td>\n",
       "      <td>0</td>\n",
       "      <td>0.0001</td>\n",
       "      <td>1</td>\n",
       "      <td>1</td>\n",
       "    </tr>\n",
       "    <tr>\n",
       "      <th>1</th>\n",
       "      <td>0.0002</td>\n",
       "      <td>-2.8557</td>\n",
       "      <td>0</td>\n",
       "      <td>0.0002</td>\n",
       "      <td>1</td>\n",
       "      <td>1</td>\n",
       "    </tr>\n",
       "    <tr>\n",
       "      <th>2</th>\n",
       "      <td>0.0003</td>\n",
       "      <td>-2.4074</td>\n",
       "      <td>0</td>\n",
       "      <td>0.0003</td>\n",
       "      <td>1</td>\n",
       "      <td>1</td>\n",
       "    </tr>\n",
       "    <tr>\n",
       "      <th>3</th>\n",
       "      <td>0.0004</td>\n",
       "      <td>-3.1404</td>\n",
       "      <td>0</td>\n",
       "      <td>0.0004</td>\n",
       "      <td>1</td>\n",
       "      <td>1</td>\n",
       "    </tr>\n",
       "    <tr>\n",
       "      <th>4</th>\n",
       "      <td>0.0005</td>\n",
       "      <td>-3.1525</td>\n",
       "      <td>0</td>\n",
       "      <td>0.0005</td>\n",
       "      <td>1</td>\n",
       "      <td>1</td>\n",
       "    </tr>\n",
       "  </tbody>\n",
       "</table>\n",
       "</div>"
      ],
      "text/plain": [
       "     time  signal  open_channels  local_time  batch  mini_batch\n",
       "0  0.0001 -2.7600              0      0.0001      1           1\n",
       "1  0.0002 -2.8557              0      0.0002      1           1\n",
       "2  0.0003 -2.4074              0      0.0003      1           1\n",
       "3  0.0004 -3.1404              0      0.0004      1           1\n",
       "4  0.0005 -3.1525              0      0.0005      1           1"
      ]
     },
     "execution_count": 2,
     "metadata": {},
     "output_type": "execute_result"
    }
   ],
   "source": [
    "df_train = pd.read_pickle('../features/train_clean.pkl')\n",
    "df_test = pd.read_pickle('../features/test_clean.pkl')\n",
    "TARGET = \"open_channels\"\n",
    "df_test[TARGET] = 0\n",
    "\n",
    "print(f\"train size:{df_train.shape}, test size:{df_test.shape}\")\n",
    "df_train.head()"
   ]
  },
  {
   "cell_type": "code",
   "execution_count": 3,
   "metadata": {
    "ExecuteTime": {
     "end_time": "2020-05-13T06:38:25.221492Z",
     "start_time": "2020-05-13T06:38:25.161487Z"
    }
   },
   "outputs": [],
   "source": [
    "BATCH_GROUP = [6]\n",
    "df_train = df_train[df_train.batch.isin(BATCH_GROUP)].reset_index(drop=True)"
   ]
  },
  {
   "cell_type": "code",
   "execution_count": 4,
   "metadata": {
    "ExecuteTime": {
     "end_time": "2020-05-13T06:38:25.228882Z",
     "start_time": "2020-05-13T06:38:25.222478Z"
    }
   },
   "outputs": [],
   "source": [
    "# remove pink noise\n",
    "import numpy.fft as fft\n",
    "from scipy import signal as scisig\n",
    "\n",
    "def bandstop(x, samplerate = 1000000, fp = np.array([4925, 5075]), fs = np.array([4800, 5200])):\n",
    "    fn = samplerate / 2   # Nyquist frequency\n",
    "    wp = fp / fn\n",
    "    ws = fs / fn\n",
    "    gpass = 1\n",
    "    gstop = 10.0\n",
    "\n",
    "    N, Wn = scisig.buttord(wp, ws, gpass, gstop)\n",
    "    b, a = scisig.butter(N, Wn, \"bandstop\")\n",
    "    y = scisig.filtfilt(b, a, x)\n",
    "    return y\n",
    "\n",
    "def bandpass(x, samplerate = 1000000, fp = np.array([4925, 5075]), fs = np.array([4800, 5200])):\n",
    "    fn = samplerate / 2   # Nyquist frequency\n",
    "    wp = fp / fn\n",
    "    ws = fs / fn\n",
    "    gpass = 1\n",
    "    gstop = 10.0\n",
    "\n",
    "    N, Wn = scisig.buttord(wp, ws, gpass, gstop)\n",
    "    b, a = scisig.butter(N, Wn, \"bandpass\")\n",
    "    y = scisig.filtfilt(b, a, x)\n",
    "    return y\n",
    "\n",
    "def Arrange_mean(signal, channels, sig_mean, channel_range):\n",
    "    signal_out = signal.copy()\n",
    "    for i in range(channel_range):\n",
    "        signal_out[channels == i] -= sig_mean[i]\n",
    "    return signal_out\n",
    "\n",
    "def Recover_mean(signal, channels, sig_mean, channel_range):\n",
    "    signal_out = signal.copy()\n",
    "    for i in range(channel_range):\n",
    "        signal_out[channels == i] += sig_mean[i]\n",
    "    return signal_out"
   ]
  },
  {
   "cell_type": "code",
   "execution_count": 5,
   "metadata": {
    "ExecuteTime": {
     "end_time": "2020-05-13T06:38:26.181706Z",
     "start_time": "2020-05-13T06:38:25.229995Z"
    }
   },
   "outputs": [],
   "source": [
    "# feature engineering here\n",
    "def fe(df, is_train):\n",
    "\n",
    "    df[\"group\"] = df[\"batch\"].astype(\"str\") + \"_\" + df[\"mini_batch\"].astype(\"str\")\n",
    "\n",
    "    return df\n",
    "\n",
    "\n",
    "df_train = fe(df_train, is_train=1)\n",
    "df_train = fe(df_train, is_train=0)"
   ]
  },
  {
   "cell_type": "code",
   "execution_count": 6,
   "metadata": {
    "ExecuteTime": {
     "end_time": "2020-05-13T06:38:26.185878Z",
     "start_time": "2020-05-13T06:38:26.183435Z"
    }
   },
   "outputs": [
    {
     "name": "stdout",
     "output_type": "stream",
     "text": [
      "Used columns is ['signal']\n"
     ]
    }
   ],
   "source": [
    "use_cols = [\n",
    "    col for col in df_train.columns if col not in\n",
    "    [\"time\", \"local_time\", \"open_channels\", \"batch\", \"mini_batch\", \"group\"]\n",
    "]\n",
    "print(\"Used columns is\", use_cols)"
   ]
  },
  {
   "cell_type": "code",
   "execution_count": 7,
   "metadata": {
    "ExecuteTime": {
     "end_time": "2020-05-13T06:38:26.209922Z",
     "start_time": "2020-05-13T06:38:26.186814Z"
    }
   },
   "outputs": [],
   "source": [
    "batch = df_train[df_train.batch.isin(BATCH_GROUP) & (df_train.mini_batch==1)]\n",
    "signal = batch.signal.values\n",
    "channel = batch.open_channels.values\n",
    "sig_mean = [-2.749, -1.517, -0.282, 0.952, 2.19, 3.429]\n",
    "sig_noise = Arrange_mean(signal, channel, sig_mean, 6)\n",
    "\n",
    "sig_filter = bandstop(sig_noise)\n",
    "sig_noise_pink = bandpass(sig_noise)\n",
    "\n",
    "sig_recover = Recover_mean(sig_filter, channel, sig_mean, 6)"
   ]
  },
  {
   "cell_type": "code",
   "execution_count": 8,
   "metadata": {
    "ExecuteTime": {
     "end_time": "2020-05-13T06:38:26.337568Z",
     "start_time": "2020-05-13T06:38:26.210879Z"
    }
   },
   "outputs": [
    {
     "data": {
      "image/png": "[encoded data removed]",
      "text/plain": [
       "<Figure size 432x288 with 1 Axes>"
      ]
     },
     "metadata": {
      "needs_background": "light"
     },
     "output_type": "display_data"
    }
   ],
   "source": [
    "plt.plot(sig_noise_pink[:500000])\n",
    "plt.grid()"
   ]
  },
  {
   "cell_type": "code",
   "execution_count": 9,
   "metadata": {
    "ExecuteTime": {
     "end_time": "2020-05-13T06:38:26.339845Z",
     "start_time": "2020-05-13T06:38:26.338402Z"
    }
   },
   "outputs": [],
   "source": [
    "# from scipy.signal import find_peaks\n",
    "# peaks, _ = find_peaks(sig_noise_pink)\n",
    "# peaks[0]"
   ]
  },
  {
   "cell_type": "code",
   "execution_count": 10,
   "metadata": {
    "ExecuteTime": {
     "end_time": "2020-05-13T06:38:26.359928Z",
     "start_time": "2020-05-13T06:38:26.340604Z"
    }
   },
   "outputs": [],
   "source": [
    "f = 50 / 10000\n",
    "t = np.array([i for i in range(len(sig_noise_pink))])"
   ]
  },
  {
   "cell_type": "code",
   "execution_count": 11,
   "metadata": {
    "ExecuteTime": {
     "end_time": "2020-05-13T06:38:34.388788Z",
     "start_time": "2020-05-13T06:38:26.360874Z"
    }
   },
   "outputs": [
    {
     "name": "stdout",
     "output_type": "stream",
     "text": [
      "F1 macro = 0.970012\n"
     ]
    }
   ],
   "source": [
    "# original\n",
    "signal_manual_filter = signal\n",
    "state = batch[TARGET].values\n",
    "viterbi = PosteriorDecoder().fit(signal_manual_filter, state)\n",
    "_, oof = viterbi.predict(signal_manual_filter)\n",
    "\n",
    "print(\"F1 macro =\", f1_score(y_pred=oof, y_true=state, average='macro').round(6))"
   ]
  },
  {
   "cell_type": "code",
   "execution_count": 12,
   "metadata": {
    "ExecuteTime": {
     "end_time": "2020-05-13T06:38:42.271486Z",
     "start_time": "2020-05-13T06:38:34.389692Z"
    }
   },
   "outputs": [
    {
     "name": "stdout",
     "output_type": "stream",
     "text": [
      "F1 macro = 0.972093\n"
     ]
    }
   ],
   "source": [
    "# recover\n",
    "signal_manual_filter = sig_recover\n",
    "state = batch[TARGET].values\n",
    "viterbi = PosteriorDecoder().fit(signal_manual_filter, state)\n",
    "_, oof = viterbi.predict(signal_manual_filter)\n",
    "\n",
    "print(\"F1 macro =\", f1_score(y_pred=oof, y_true=state, average='macro').round(6))"
   ]
  },
  {
   "cell_type": "code",
   "execution_count": 13,
   "metadata": {
    "ExecuteTime": {
     "end_time": "2020-05-13T06:38:42.273928Z",
     "start_time": "2020-05-13T06:38:42.272408Z"
    }
   },
   "outputs": [],
   "source": [
    "# b = 1.1\n",
    "# manual_noise = np.sin(2 * np.pi * f * t + b) * 0.06\n",
    "# signal_manual_filter = signal - manual_noise\n",
    "# state = batch[TARGET].values\n",
    "# viterbi = PosteriorDecoder().fit(signal_manual_filter, state)\n",
    "# _, oof = viterbi.predict(signal_manual_filter)\n",
    "\n",
    "# print(b, \"F1 macro =\", f1_score(y_pred=oof, y_true=state, average='macro').round(6))\n",
    "# # 0.973"
   ]
  },
  {
   "cell_type": "code",
   "execution_count": 14,
   "metadata": {
    "ExecuteTime": {
     "end_time": "2020-05-13T06:42:52.984206Z",
     "start_time": "2020-05-13T06:38:42.274735Z"
    }
   },
   "outputs": [
    {
     "name": "stdout",
     "output_type": "stream",
     "text": [
      "0.0 F1 macro = 0.968009\n",
      "0.1 F1 macro = 0.967558\n",
      "0.2 F1 macro = 0.967574\n",
      "0.3 F1 macro = 0.967537\n",
      "0.4 F1 macro = 0.967624\n",
      "0.5 F1 macro = 0.96763\n",
      "0.6 F1 macro = 0.96716\n",
      "0.7 F1 macro = 0.967204\n",
      "0.8 F1 macro = 0.967262\n",
      "0.9 F1 macro = 0.967451\n",
      "1.0 F1 macro = 0.967157\n",
      "1.1 F1 macro = 0.96714\n",
      "1.2 F1 macro = 0.967627\n",
      "1.3 F1 macro = 0.967596\n",
      "1.4 F1 macro = 0.96721\n",
      "1.5 F1 macro = 0.96745\n",
      "1.6 F1 macro = 0.967948\n",
      "1.7 F1 macro = 0.967969\n",
      "1.8 F1 macro = 0.968066\n",
      "1.9 F1 macro = 0.968549\n",
      "2.0 F1 macro = 0.968694\n",
      "2.1 F1 macro = 0.969296\n",
      "2.2 F1 macro = 0.969187\n",
      "2.3 F1 macro = 0.968364\n",
      "2.4 F1 macro = 0.968797\n",
      "2.5 F1 macro = 0.968847\n",
      "2.6 F1 macro = 0.96912\n",
      "2.7 F1 macro = 0.969354\n",
      "2.8 F1 macro = 0.969372\n",
      "2.9 F1 macro = 0.969421\n",
      "3.0 F1 macro = 0.969547\n",
      "3.1 F1 macro = 0.969532\n"
     ]
    }
   ],
   "source": [
    "for i in range(0,32):\n",
    "    \n",
    "    b = 0.1 * i\n",
    "    manual_noise = np.sin(2 * np.pi * f * t + b) * 0.06\n",
    "    signal_manual_filter = signal - manual_noise\n",
    "    state = batch[TARGET].values\n",
    "    viterbi = PosteriorDecoder().fit(signal_manual_filter, state)\n",
    "    _, oof = viterbi.predict(signal_manual_filter)\n",
    "\n",
    "    print(np.round(b, 2), \"F1 macro =\", f1_score(y_pred=oof, y_true=state, average='macro').round(6))"
   ]
  },
  {
   "cell_type": "code",
   "execution_count": 15,
   "metadata": {
    "ExecuteTime": {
     "end_time": "2020-05-13T06:42:53.078242Z",
     "start_time": "2020-05-13T06:42:52.985124Z"
    }
   },
   "outputs": [
    {
     "data": {
      "image/png": "[encoded data removed]",
      "text/plain": [
       "<Figure size 432x288 with 1 Axes>"
      ]
     },
     "metadata": {
      "needs_background": "light"
     },
     "output_type": "display_data"
    }
   ],
   "source": [
    "plt.plot(manual_noise[:5000])\n",
    "plt.grid()"
   ]
  },
  {
   "cell_type": "code",
   "execution_count": null,
   "metadata": {},
   "outputs": [],
   "source": []
  },
  {
   "cell_type": "code",
   "execution_count": null,
   "metadata": {},
   "outputs": [],
   "source": []
  },
  {
   "cell_type": "code",
   "execution_count": 16,
   "metadata": {
    "ExecuteTime": {
     "end_time": "2020-05-13T06:42:53.080721Z",
     "start_time": "2020-05-13T06:42:53.079114Z"
    }
   },
   "outputs": [],
   "source": [
    "# df_train.loc[df_train.batch.isin(BATCH_GROUP), \"signal\"] = sig_recover\n",
    "\n",
    "# viterbi_cols = [\"viterbi_\" + str(i) for i in range(6)]\n",
    "# for col in viterbi_cols:\n",
    "#     df_train[col] = 0\n",
    "#     df_train[col] = 0\n",
    "\n",
    "# signal = df_train[\"signal\"].values\n",
    "# state = df_train[TARGET].values\n",
    "# viterbi = PosteriorDecoder().fit(signal, state)\n",
    "\n",
    "# kf = GroupKFold(n_splits=5)\n",
    "# for index, (tr_idx, val_idx) in enumerate(kf.split(df_train[use_cols], df_train[TARGET], df_train[\"group\"])):\n",
    "#     print(\"Running folder\", index , \": Evaluate on\", np.unique(df_train[\"group\"][val_idx]))\n",
    "\n",
    "#     signal_valid = df_train.loc[val_idx][\"signal\"].values\n",
    "#     df_train.loc[val_idx, viterbi_cols], df_train.loc[val_idx, \"oof\"] = viterbi.predict(signal_valid)\n",
    "#     print(\"F1 macro =\", f1_score(y_pred=df_train.loc[val_idx, \"oof\"], y_true=df_train.loc[val_idx, TARGET], average='macro').round(4))\n",
    "\n",
    "# use_cols = viterbi_cols + use_cols\n",
    "# # original: 0.9703\n",
    "# print(\"oof F1 score is:\", f1_score(df_train[\"oof\"].values, df_train[TARGET].values,\n",
    "#          average='macro').round(4))"
   ]
  },
  {
   "cell_type": "code",
   "execution_count": null,
   "metadata": {},
   "outputs": [],
   "source": []
  },
  {
   "cell_type": "code",
   "execution_count": null,
   "metadata": {},
   "outputs": [],
   "source": []
  },
  {
   "cell_type": "code",
   "execution_count": null,
   "metadata": {},
   "outputs": [],
   "source": []
  },
  {
   "cell_type": "code",
   "execution_count": null,
   "metadata": {},
   "outputs": [],
   "source": []
  },
  {
   "cell_type": "code",
   "execution_count": null,
   "metadata": {},
   "outputs": [],
   "source": []
  },
  {
   "cell_type": "code",
   "execution_count": null,
   "metadata": {},
   "outputs": [],
   "source": []
  },
  {
   "cell_type": "code",
   "execution_count": null,
   "metadata": {},
   "outputs": [],
   "source": []
  },
  {
   "cell_type": "code",
   "execution_count": null,
   "metadata": {},
   "outputs": [],
   "source": []
  },
  {
   "cell_type": "code",
   "execution_count": null,
   "metadata": {},
   "outputs": [],
   "source": []
  }
 ],
 "metadata": {
  "kernelspec": {
   "display_name": "Python 3",
   "language": "python",
   "name": "python3"
  },
  "language_info": {
   "codemirror_mode": {
    "name": "ipython",
    "version": 3
   },
   "file_extension": ".py",
   "mimetype": "text/x-python",
   "name": "python",
   "nbconvert_exporter": "python",
   "pygments_lexer": "ipython3",
   "version": "3.7.5"
  }
 },
 "nbformat": 4,
 "nbformat_minor": 2
}
