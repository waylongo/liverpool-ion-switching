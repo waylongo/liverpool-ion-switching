{
 "cells": [
  {
   "cell_type": "code",
   "execution_count": 1,
   "metadata": {
    "ExecuteTime": {
     "end_time": "2020-05-16T14:49:28.929757Z",
     "start_time": "2020-05-16T14:49:28.476452Z"
    }
   },
   "outputs": [],
   "source": [
    "import numpy as np\n",
    "import pandas as pd\n",
    "import matplotlib.pyplot as plt\n",
    "\n",
    "import numpy.fft as fft\n",
    "from scipy import signal as scisig\n",
    "from viterbi_utils import *\n",
    "from hmmlearn.hmm import GaussianHMM\n",
    "\n",
    "import warnings\n",
    "warnings.simplefilter('ignore')\n",
    "warnings.filterwarnings('ignore')\n",
    "pd.set_option('display.max_columns', 1000)\n",
    "pd.set_option('display.max_rows', 500)"
   ]
  },
  {
   "cell_type": "code",
   "execution_count": 2,
   "metadata": {
    "ExecuteTime": {
     "end_time": "2020-05-16T14:49:35.010024Z",
     "start_time": "2020-05-16T14:49:28.930908Z"
    }
   },
   "outputs": [
    {
     "name": "stdout",
     "output_type": "stream",
     "text": [
      "train size:(4500000, 8), test size:(2000000, 9)\n"
     ]
    },
    {
     "data": {
      "text/html": [
       "<div>\n",
       "<style scoped>\n",
       "    .dataframe tbody tr th:only-of-type {\n",
       "        vertical-align: middle;\n",
       "    }\n",
       "\n",
       "    .dataframe tbody tr th {\n",
       "        vertical-align: top;\n",
       "    }\n",
       "\n",
       "    .dataframe thead th {\n",
       "        text-align: right;\n",
       "    }\n",
       "</style>\n",
       "<table border=\"1\" class=\"dataframe\">\n",
       "  <thead>\n",
       "    <tr style=\"text-align: right;\">\n",
       "      <th></th>\n",
       "      <th>time</th>\n",
       "      <th>signal</th>\n",
       "      <th>open_channels</th>\n",
       "      <th>local_time</th>\n",
       "      <th>batch</th>\n",
       "      <th>mini_batch</th>\n",
       "      <th>group</th>\n",
       "      <th>signal_original</th>\n",
       "    </tr>\n",
       "  </thead>\n",
       "  <tbody>\n",
       "    <tr>\n",
       "      <th>0</th>\n",
       "      <td>0.0001</td>\n",
       "      <td>-2.7600</td>\n",
       "      <td>0</td>\n",
       "      <td>0.0001</td>\n",
       "      <td>1</td>\n",
       "      <td>1</td>\n",
       "      <td>1_1</td>\n",
       "      <td>-2.7600</td>\n",
       "    </tr>\n",
       "    <tr>\n",
       "      <th>1</th>\n",
       "      <td>0.0002</td>\n",
       "      <td>-2.8557</td>\n",
       "      <td>0</td>\n",
       "      <td>0.0002</td>\n",
       "      <td>1</td>\n",
       "      <td>1</td>\n",
       "      <td>1_1</td>\n",
       "      <td>-2.8557</td>\n",
       "    </tr>\n",
       "    <tr>\n",
       "      <th>2</th>\n",
       "      <td>0.0003</td>\n",
       "      <td>-2.4074</td>\n",
       "      <td>0</td>\n",
       "      <td>0.0003</td>\n",
       "      <td>1</td>\n",
       "      <td>1</td>\n",
       "      <td>1_1</td>\n",
       "      <td>-2.4074</td>\n",
       "    </tr>\n",
       "    <tr>\n",
       "      <th>3</th>\n",
       "      <td>0.0004</td>\n",
       "      <td>-3.1404</td>\n",
       "      <td>0</td>\n",
       "      <td>0.0004</td>\n",
       "      <td>1</td>\n",
       "      <td>1</td>\n",
       "      <td>1_1</td>\n",
       "      <td>-3.1404</td>\n",
       "    </tr>\n",
       "    <tr>\n",
       "      <th>4</th>\n",
       "      <td>0.0005</td>\n",
       "      <td>-3.1525</td>\n",
       "      <td>0</td>\n",
       "      <td>0.0005</td>\n",
       "      <td>1</td>\n",
       "      <td>1</td>\n",
       "      <td>1_1</td>\n",
       "      <td>-3.1525</td>\n",
       "    </tr>\n",
       "  </tbody>\n",
       "</table>\n",
       "</div>"
      ],
      "text/plain": [
       "     time  signal  open_channels  local_time  batch  mini_batch group  \\\n",
       "0  0.0001 -2.7600              0      0.0001      1           1   1_1   \n",
       "1  0.0002 -2.8557              0      0.0002      1           1   1_1   \n",
       "2  0.0003 -2.4074              0      0.0003      1           1   1_1   \n",
       "3  0.0004 -3.1404              0      0.0004      1           1   1_1   \n",
       "4  0.0005 -3.1525              0      0.0005      1           1   1_1   \n",
       "\n",
       "   signal_original  \n",
       "0          -2.7600  \n",
       "1          -2.8557  \n",
       "2          -2.4074  \n",
       "3          -3.1404  \n",
       "4          -3.1525  "
      ]
     },
     "execution_count": 2,
     "metadata": {},
     "output_type": "execute_result"
    }
   ],
   "source": [
    "df_train = pd.read_pickle('../features/train_clean.pkl')\n",
    "df_test = pd.read_pickle('../features/test_clean.pkl')\n",
    "TARGET = \"open_channels\"\n",
    "df_test[TARGET] = 0\n",
    "\n",
    "df_train[\"group\"] = df_train[\"batch\"].astype(\"str\") + \"_\" + df_train[\"mini_batch\"].astype(\"str\")\n",
    "df_test[\"group\"] = df_test[\"batch\"].astype(\"str\") + \"_\" + df_test[\"mini_batch\"].astype(\"str\")\n",
    "\n",
    "df_train[\"signal_original\"] = df_train[\"signal\"].copy()\n",
    "df_test[\"signal_original\"] = df_test[\"signal\"].copy()\n",
    "\n",
    "print(f\"train size:{df_train.shape}, test size:{df_test.shape}\")\n",
    "df_train.head()"
   ]
  },
  {
   "cell_type": "code",
   "execution_count": 3,
   "metadata": {
    "ExecuteTime": {
     "end_time": "2020-05-16T14:49:35.218654Z",
     "start_time": "2020-05-16T14:49:35.011127Z"
    }
   },
   "outputs": [
    {
     "name": "stdout",
     "output_type": "stream",
     "text": [
      "train size:(1000000, 8), test size:(200000, 9)\n"
     ]
    }
   ],
   "source": [
    "# mini model\n",
    "BATCH_GROUP = [6, 9]\n",
    "df_train = df_train[df_train.batch.isin(BATCH_GROUP)].reset_index(drop=True)\n",
    "TEST_GROUP = [\"1_3\", \"2_2\"]\n",
    "df_test = df_test[df_test.group.isin(TEST_GROUP)].reset_index(drop=True)\n",
    "\n",
    "print(f\"train size:{df_train.shape}, test size:{df_test.shape}\")"
   ]
  },
  {
   "cell_type": "code",
   "execution_count": 4,
   "metadata": {
    "ExecuteTime": {
     "end_time": "2020-05-16T14:49:35.677267Z",
     "start_time": "2020-05-16T14:49:35.219533Z"
    }
   },
   "outputs": [],
   "source": [
    "# remove the 50 hz noise using notch filter\n",
    "for group_i in df_train.group.unique():\n",
    "\n",
    "    batch_i = df_train[df_train.group.isin([group_i])]\n",
    "    signal_recovered = rm_noise(batch_i, Q=60)\n",
    "    df_train.loc[df_train.group.isin([group_i]), \"signal\"] = signal_recovered"
   ]
  },
  {
   "cell_type": "code",
   "execution_count": 5,
   "metadata": {
    "ExecuteTime": {
     "end_time": "2020-05-16T14:49:35.686700Z",
     "start_time": "2020-05-16T14:49:35.678268Z"
    }
   },
   "outputs": [
    {
     "name": "stdout",
     "output_type": "stream",
     "text": [
      "(1000000, 8)\n"
     ]
    },
    {
     "data": {
      "text/html": [
       "<div>\n",
       "<style scoped>\n",
       "    .dataframe tbody tr th:only-of-type {\n",
       "        vertical-align: middle;\n",
       "    }\n",
       "\n",
       "    .dataframe tbody tr th {\n",
       "        vertical-align: top;\n",
       "    }\n",
       "\n",
       "    .dataframe thead th {\n",
       "        text-align: right;\n",
       "    }\n",
       "</style>\n",
       "<table border=\"1\" class=\"dataframe\">\n",
       "  <thead>\n",
       "    <tr style=\"text-align: right;\">\n",
       "      <th></th>\n",
       "      <th>time</th>\n",
       "      <th>signal</th>\n",
       "      <th>open_channels</th>\n",
       "      <th>local_time</th>\n",
       "      <th>batch</th>\n",
       "      <th>mini_batch</th>\n",
       "      <th>group</th>\n",
       "      <th>signal_original</th>\n",
       "    </tr>\n",
       "  </thead>\n",
       "  <tbody>\n",
       "    <tr>\n",
       "      <th>0</th>\n",
       "      <td>250.000107</td>\n",
       "      <td>2.880314</td>\n",
       "      <td>5</td>\n",
       "      <td>0.000107</td>\n",
       "      <td>6</td>\n",
       "      <td>1</td>\n",
       "      <td>6_1</td>\n",
       "      <td>2.8555</td>\n",
       "    </tr>\n",
       "    <tr>\n",
       "      <th>1</th>\n",
       "      <td>250.000198</td>\n",
       "      <td>3.114359</td>\n",
       "      <td>5</td>\n",
       "      <td>0.000198</td>\n",
       "      <td>6</td>\n",
       "      <td>1</td>\n",
       "      <td>6_1</td>\n",
       "      <td>3.0907</td>\n",
       "    </tr>\n",
       "    <tr>\n",
       "      <th>2</th>\n",
       "      <td>250.000305</td>\n",
       "      <td>3.550181</td>\n",
       "      <td>5</td>\n",
       "      <td>0.000305</td>\n",
       "      <td>6</td>\n",
       "      <td>1</td>\n",
       "      <td>6_1</td>\n",
       "      <td>3.5277</td>\n",
       "    </tr>\n",
       "    <tr>\n",
       "      <th>3</th>\n",
       "      <td>250.000397</td>\n",
       "      <td>4.003481</td>\n",
       "      <td>5</td>\n",
       "      <td>0.000397</td>\n",
       "      <td>6</td>\n",
       "      <td>1</td>\n",
       "      <td>6_1</td>\n",
       "      <td>3.9822</td>\n",
       "    </tr>\n",
       "    <tr>\n",
       "      <th>4</th>\n",
       "      <td>250.000504</td>\n",
       "      <td>3.356860</td>\n",
       "      <td>5</td>\n",
       "      <td>0.000504</td>\n",
       "      <td>6</td>\n",
       "      <td>1</td>\n",
       "      <td>6_1</td>\n",
       "      <td>3.3368</td>\n",
       "    </tr>\n",
       "  </tbody>\n",
       "</table>\n",
       "</div>"
      ],
      "text/plain": [
       "         time    signal  open_channels  local_time  batch  mini_batch group  \\\n",
       "0  250.000107  2.880314              5    0.000107      6           1   6_1   \n",
       "1  250.000198  3.114359              5    0.000198      6           1   6_1   \n",
       "2  250.000305  3.550181              5    0.000305      6           1   6_1   \n",
       "3  250.000397  4.003481              5    0.000397      6           1   6_1   \n",
       "4  250.000504  3.356860              5    0.000504      6           1   6_1   \n",
       "\n",
       "   signal_original  \n",
       "0           2.8555  \n",
       "1           3.0907  \n",
       "2           3.5277  \n",
       "3           3.9822  \n",
       "4           3.3368  "
      ]
     },
     "execution_count": 5,
     "metadata": {},
     "output_type": "execute_result"
    }
   ],
   "source": [
    "print(df_train.shape)\n",
    "df_train.head()"
   ]
  },
  {
   "cell_type": "code",
   "execution_count": 6,
   "metadata": {
    "ExecuteTime": {
     "end_time": "2020-05-16T14:49:35.694672Z",
     "start_time": "2020-05-16T14:49:35.688041Z"
    }
   },
   "outputs": [
    {
     "name": "stdout",
     "output_type": "stream",
     "text": [
      "(1000000,) (1000000,)\n"
     ]
    }
   ],
   "source": [
    "signals = df_train.signal.values\n",
    "channels = df_train.open_channels.values\n",
    "\n",
    "print(signals.shape, channels.shape)"
   ]
  },
  {
   "cell_type": "code",
   "execution_count": 70,
   "metadata": {
    "ExecuteTime": {
     "end_time": "2020-05-16T20:04:20.099477Z",
     "start_time": "2020-05-16T20:04:20.084391Z"
    }
   },
   "outputs": [],
   "source": [
    "class GaussHMM:\n",
    "    def __init__(self, init):\n",
    "        self.init = init\n",
    "\n",
    "    def fit(self, signals, channels):\n",
    "\n",
    "        self.hmm = GaussianHMM(n_components=len(self.init), covariance_type=\"full\", n_iter=100)\n",
    "        self.hmm.fit(signals.reshape([-1, 1])[:100])\n",
    "        self.hmm.means_ = self.get_mean(signals, channels)\n",
    "        self.hmm.covars_ = self.get_cov(signals, channels)\n",
    "        self.hmm.startprob_ = [0, 0, 0, 0, 0, 1]\n",
    "        self.hmm.transmat_ = self.markov_p_trans(channels)\n",
    "        \n",
    "    def predict(self, signals):\n",
    "        pred = self.model.hmm.predict(signals.reshape([-1, 1]))\n",
    "        return pred\n",
    "    \n",
    "    def predict_proba(self, signals):\n",
    "        prob = self.model.hmm.predict_proba(signals.reshape([-1, 1])).round(3)\n",
    "        return prob\n",
    "        \n",
    "    def get_mean(self, signals, channels):\n",
    "\n",
    "        sig_mean = []\n",
    "        for chan_i in range(len(np.unique(channels))):\n",
    "            sig_mean.append(signals[channels == chan_i].mean())\n",
    "\n",
    "        return np.array(sig_mean).reshape([-1, 1])\n",
    "\n",
    "    def get_cov(self, signals, channels):\n",
    "\n",
    "        sig_cov = []\n",
    "        for chan_i in range(len(np.unique(channels))):\n",
    "            sig_cov.append(np.cov(signals[channels == chan_i]))\n",
    "\n",
    "        return np.array(sig_cov).reshape([-1, 1, 1])\n",
    "    \n",
    "    def markov_p_trans(self, states):\n",
    "        max_state = np.max(states)\n",
    "        states_next = np.roll(states, -1)\n",
    "        matrix = []\n",
    "        for i in range(max_state + 1):\n",
    "            current_row = np.histogram(states_next[states == i], bins=np.arange(max_state + 2))[0]\n",
    "            if np.sum(current_row) == 0: # if a state doesn't appear in states...\n",
    "                current_row = np.ones(max_state + 1) / (max_state + 1) # ...use uniform probability\n",
    "            else:\n",
    "                current_row = current_row / np.sum(current_row) # normalize to 1\n",
    "            matrix.append(current_row)\n",
    "        return np.array(matrix)"
   ]
  },
  {
   "cell_type": "code",
   "execution_count": 79,
   "metadata": {
    "ExecuteTime": {
     "end_time": "2020-05-16T20:05:28.905991Z",
     "start_time": "2020-05-16T20:05:28.903997Z"
    }
   },
   "outputs": [],
   "source": [
    "init_prob = [0,0,0,0,0,1]\n",
    "ghmm = GaussHMM(init_prob)"
   ]
  },
  {
   "cell_type": "code",
   "execution_count": 80,
   "metadata": {
    "ExecuteTime": {
     "end_time": "2020-05-16T20:05:29.395034Z",
     "start_time": "2020-05-16T20:05:29.197527Z"
    }
   },
   "outputs": [],
   "source": [
    "ghmm.fit(signals, channels)"
   ]
  },
  {
   "cell_type": "code",
   "execution_count": 81,
   "metadata": {
    "ExecuteTime": {
     "end_time": "2020-05-16T20:05:29.613079Z",
     "start_time": "2020-05-16T20:05:29.497582Z"
    }
   },
   "outputs": [],
   "source": [
    "pred= ghmm.hmm.predict(signals.reshape([-1, 1]))"
   ]
  },
  {
   "cell_type": "code",
   "execution_count": 82,
   "metadata": {
    "ExecuteTime": {
     "end_time": "2020-05-16T20:05:33.198163Z",
     "start_time": "2020-05-16T20:05:29.739547Z"
    }
   },
   "outputs": [],
   "source": [
    "prob= ghmm.hmm.predict_proba(signals.reshape([-1, 1])).round(3)"
   ]
  },
  {
   "cell_type": "code",
   "execution_count": 83,
   "metadata": {
    "ExecuteTime": {
     "end_time": "2020-05-16T20:05:33.202226Z",
     "start_time": "2020-05-16T20:05:33.199128Z"
    }
   },
   "outputs": [
    {
     "data": {
      "text/plain": [
       "array([[0.   , 0.   , 0.   , 0.   , 0.   , 1.   ],\n",
       "       [0.   , 0.   , 0.   , 0.   , 0.001, 0.999],\n",
       "       [0.   , 0.   , 0.   , 0.   , 0.   , 1.   ],\n",
       "       ...,\n",
       "       [0.   , 0.   , 0.   , 0.007, 0.993, 0.   ],\n",
       "       [0.   , 0.   , 0.   , 0.2  , 0.8  , 0.   ],\n",
       "       [0.   , 0.   , 0.001, 0.999, 0.   , 0.   ]])"
      ]
     },
     "execution_count": 83,
     "metadata": {},
     "output_type": "execute_result"
    }
   ],
   "source": [
    "prob"
   ]
  },
  {
   "cell_type": "code",
   "execution_count": null,
   "metadata": {},
   "outputs": [],
   "source": []
  },
  {
   "cell_type": "code",
   "execution_count": null,
   "metadata": {},
   "outputs": [],
   "source": []
  },
  {
   "cell_type": "code",
   "execution_count": null,
   "metadata": {},
   "outputs": [],
   "source": []
  },
  {
   "cell_type": "code",
   "execution_count": null,
   "metadata": {},
   "outputs": [],
   "source": []
  },
  {
   "cell_type": "code",
   "execution_count": null,
   "metadata": {},
   "outputs": [],
   "source": []
  },
  {
   "cell_type": "code",
   "execution_count": null,
   "metadata": {},
   "outputs": [],
   "source": []
  },
  {
   "cell_type": "code",
   "execution_count": null,
   "metadata": {},
   "outputs": [],
   "source": []
  },
  {
   "cell_type": "code",
   "execution_count": null,
   "metadata": {},
   "outputs": [],
   "source": []
  },
  {
   "cell_type": "code",
   "execution_count": null,
   "metadata": {},
   "outputs": [],
   "source": []
  },
  {
   "cell_type": "code",
   "execution_count": null,
   "metadata": {},
   "outputs": [],
   "source": []
  },
  {
   "cell_type": "code",
   "execution_count": null,
   "metadata": {},
   "outputs": [],
   "source": []
  }
 ],
 "metadata": {
  "kernelspec": {
   "display_name": "Python 3",
   "language": "python",
   "name": "python3"
  },
  "language_info": {
   "codemirror_mode": {
    "name": "ipython",
    "version": 3
   },
   "file_extension": ".py",
   "mimetype": "text/x-python",
   "name": "python",
   "nbconvert_exporter": "python",
   "pygments_lexer": "ipython3",
   "version": "3.7.5"
  }
 },
 "nbformat": 4,
 "nbformat_minor": 2
}
