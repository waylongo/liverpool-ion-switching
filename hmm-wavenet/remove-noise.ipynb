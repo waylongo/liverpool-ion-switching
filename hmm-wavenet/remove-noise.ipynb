{
 "cells": [
  {
   "cell_type": "code",
   "execution_count": 1,
   "metadata": {
    "ExecuteTime": {
     "end_time": "2020-05-19T22:30:05.587506Z",
     "start_time": "2020-05-19T22:30:05.136404Z"
    }
   },
   "outputs": [],
   "source": [
    "import numpy as np\n",
    "import pandas as pd\n",
    "import matplotlib.pyplot as plt\n",
    "\n",
    "import numpy.fft as fft\n",
    "from scipy import signal as scisig\n",
    "from viterbi_utils import *\n",
    "import warnings\n",
    "warnings.simplefilter('ignore')\n",
    "warnings.filterwarnings('ignore')\n",
    "pd.set_option('display.max_columns', 1000)\n",
    "pd.set_option('display.max_rows', 500)"
   ]
  },
  {
   "cell_type": "code",
   "execution_count": 2,
   "metadata": {
    "ExecuteTime": {
     "end_time": "2020-05-19T22:30:05.691181Z",
     "start_time": "2020-05-19T22:30:05.588536Z"
    }
   },
   "outputs": [
    {
     "name": "stdout",
     "output_type": "stream",
     "text": [
      "train size:(4500000, 6), test size:(2000000, 7)\n"
     ]
    },
    {
     "data": {
      "text/html": [
       "<div>\n",
       "<style scoped>\n",
       "    .dataframe tbody tr th:only-of-type {\n",
       "        vertical-align: middle;\n",
       "    }\n",
       "\n",
       "    .dataframe tbody tr th {\n",
       "        vertical-align: top;\n",
       "    }\n",
       "\n",
       "    .dataframe thead th {\n",
       "        text-align: right;\n",
       "    }\n",
       "</style>\n",
       "<table border=\"1\" class=\"dataframe\">\n",
       "  <thead>\n",
       "    <tr style=\"text-align: right;\">\n",
       "      <th></th>\n",
       "      <th>time</th>\n",
       "      <th>signal</th>\n",
       "      <th>open_channels</th>\n",
       "      <th>local_time</th>\n",
       "      <th>batch</th>\n",
       "      <th>mini_batch</th>\n",
       "    </tr>\n",
       "  </thead>\n",
       "  <tbody>\n",
       "    <tr>\n",
       "      <th>0</th>\n",
       "      <td>0.0001</td>\n",
       "      <td>-2.7600</td>\n",
       "      <td>0</td>\n",
       "      <td>0.0001</td>\n",
       "      <td>1</td>\n",
       "      <td>1</td>\n",
       "    </tr>\n",
       "    <tr>\n",
       "      <th>1</th>\n",
       "      <td>0.0002</td>\n",
       "      <td>-2.8557</td>\n",
       "      <td>0</td>\n",
       "      <td>0.0002</td>\n",
       "      <td>1</td>\n",
       "      <td>1</td>\n",
       "    </tr>\n",
       "    <tr>\n",
       "      <th>2</th>\n",
       "      <td>0.0003</td>\n",
       "      <td>-2.4074</td>\n",
       "      <td>0</td>\n",
       "      <td>0.0003</td>\n",
       "      <td>1</td>\n",
       "      <td>1</td>\n",
       "    </tr>\n",
       "    <tr>\n",
       "      <th>3</th>\n",
       "      <td>0.0004</td>\n",
       "      <td>-3.1404</td>\n",
       "      <td>0</td>\n",
       "      <td>0.0004</td>\n",
       "      <td>1</td>\n",
       "      <td>1</td>\n",
       "    </tr>\n",
       "    <tr>\n",
       "      <th>4</th>\n",
       "      <td>0.0005</td>\n",
       "      <td>-3.1525</td>\n",
       "      <td>0</td>\n",
       "      <td>0.0005</td>\n",
       "      <td>1</td>\n",
       "      <td>1</td>\n",
       "    </tr>\n",
       "  </tbody>\n",
       "</table>\n",
       "</div>"
      ],
      "text/plain": [
       "     time  signal  open_channels  local_time  batch  mini_batch\n",
       "0  0.0001 -2.7600              0      0.0001      1           1\n",
       "1  0.0002 -2.8557              0      0.0002      1           1\n",
       "2  0.0003 -2.4074              0      0.0003      1           1\n",
       "3  0.0004 -3.1404              0      0.0004      1           1\n",
       "4  0.0005 -3.1525              0      0.0005      1           1"
      ]
     },
     "execution_count": 2,
     "metadata": {},
     "output_type": "execute_result"
    }
   ],
   "source": [
    "df_train = pd.read_pickle('../features/train_clean.pkl')\n",
    "df_test = pd.read_pickle('../features/test_clean.pkl')\n",
    "TARGET = \"open_channels\"\n",
    "df_test[TARGET] = 0\n",
    "\n",
    "print(f\"train size:{df_train.shape}, test size:{df_test.shape}\")\n",
    "df_train.head()"
   ]
  },
  {
   "cell_type": "code",
   "execution_count": 3,
   "metadata": {
    "ExecuteTime": {
     "end_time": "2020-05-19T22:30:05.751563Z",
     "start_time": "2020-05-19T22:30:05.692279Z"
    }
   },
   "outputs": [],
   "source": [
    "BATCH_GROUP = [6]\n",
    "df_train = df_train[df_train.batch.isin(BATCH_GROUP)].reset_index(drop=True)"
   ]
  },
  {
   "cell_type": "code",
   "execution_count": 4,
   "metadata": {
    "ExecuteTime": {
     "end_time": "2020-05-19T22:30:05.758959Z",
     "start_time": "2020-05-19T22:30:05.752647Z"
    }
   },
   "outputs": [],
   "source": [
    "# remove pink noise\n",
    "import numpy.fft as fft\n",
    "from scipy import signal as scisig\n",
    "\n",
    "def bandstop(x, samplerate = 1000000, fp = np.array([4925, 5075]), fs = np.array([4800, 5200])):\n",
    "    fn = samplerate / 2   # Nyquist frequency\n",
    "    wp = fp / fn\n",
    "    ws = fs / fn\n",
    "    gpass = 1\n",
    "    gstop = 10.0\n",
    "\n",
    "    N, Wn = scisig.buttord(wp, ws, gpass, gstop)\n",
    "    b, a = scisig.butter(N, Wn, \"bandstop\")\n",
    "    y = scisig.filtfilt(b, a, x)\n",
    "    return y\n",
    "\n",
    "def bandpass(x, samplerate = 1000000, fp = np.array([4925, 5075]), fs = np.array([4800, 5200])):\n",
    "    fn = samplerate / 2   # Nyquist frequency\n",
    "    wp = fp / fn\n",
    "    ws = fs / fn\n",
    "    gpass = 1\n",
    "    gstop = 10.0\n",
    "\n",
    "    N, Wn = scisig.buttord(wp, ws, gpass, gstop)\n",
    "    b, a = scisig.butter(N, Wn, \"bandpass\")\n",
    "    y = scisig.filtfilt(b, a, x)\n",
    "    return y\n",
    "\n",
    "def Arrange_mean(signal, channels, sig_mean, channel_range):\n",
    "    signal_out = signal.copy()\n",
    "    for i in range(channel_range):\n",
    "        signal_out[channels == i] -= sig_mean[i]\n",
    "    return signal_out\n",
    "\n",
    "def Recover_mean(signal, channels, sig_mean, channel_range):\n",
    "    signal_out = signal.copy()\n",
    "    for i in range(channel_range):\n",
    "        signal_out[channels == i] += sig_mean[i]\n",
    "    return signal_out"
   ]
  },
  {
   "cell_type": "code",
   "execution_count": 5,
   "metadata": {
    "ExecuteTime": {
     "end_time": "2020-05-19T22:30:06.753217Z",
     "start_time": "2020-05-19T22:30:05.759924Z"
    }
   },
   "outputs": [],
   "source": [
    "# feature engineering here\n",
    "def fe(df, is_train):\n",
    "\n",
    "    df[\"group\"] = df[\"batch\"].astype(\"str\") + \"_\" + df[\"mini_batch\"].astype(\"str\")\n",
    "\n",
    "    return df\n",
    "\n",
    "\n",
    "df_train = fe(df_train, is_train=1)\n",
    "df_train = fe(df_train, is_train=0)"
   ]
  },
  {
   "cell_type": "code",
   "execution_count": 6,
   "metadata": {
    "ExecuteTime": {
     "end_time": "2020-05-19T22:30:06.756735Z",
     "start_time": "2020-05-19T22:30:06.754193Z"
    }
   },
   "outputs": [
    {
     "name": "stdout",
     "output_type": "stream",
     "text": [
      "Used columns is ['signal']\n"
     ]
    }
   ],
   "source": [
    "use_cols = [\n",
    "    col for col in df_train.columns if col not in\n",
    "    [\"time\", \"local_time\", \"open_channels\", \"batch\", \"mini_batch\", \"group\"]\n",
    "]\n",
    "print(\"Used columns is\", use_cols)"
   ]
  },
  {
   "cell_type": "code",
   "execution_count": 7,
   "metadata": {
    "ExecuteTime": {
     "end_time": "2020-05-19T22:30:06.789078Z",
     "start_time": "2020-05-19T22:30:06.757723Z"
    }
   },
   "outputs": [
    {
     "name": "stdout",
     "output_type": "stream",
     "text": [
      "[-2.7282226, -1.4891213, -0.26735625, 0.9667369, 2.2038143, 3.4331856]\n"
     ]
    }
   ],
   "source": [
    "batch = df_train[df_train.batch.isin(BATCH_GROUP) & (df_train.mini_batch==1)]\n",
    "\n",
    "def get_mean(batch, col=TARGET):\n",
    "\n",
    "    sig_mean = []\n",
    "    for chan_i in range(batch[col].nunique()):\n",
    "        sig_mean.append(batch[batch[col] == chan_i].signal.mean())\n",
    "\n",
    "    return sig_mean\n",
    "sig_mean = get_mean(batch)\n",
    "print(sig_mean)\n",
    "signal = batch.signal.values\n",
    "channel = batch.open_channels.values\n",
    "# sig_mean = [-2.749, -1.517, -0.282, 0.952, 2.19, 3.429]\n",
    "sig_noise = Arrange_mean(signal, channel, sig_mean, 6)\n",
    "\n",
    "sig_filter = bandstop(sig_noise)\n",
    "sig_noise_pink = bandpass(sig_noise)\n",
    "\n",
    "sig_recover = Recover_mean(sig_filter, channel, sig_mean, 6)"
   ]
  },
  {
   "cell_type": "code",
   "execution_count": 8,
   "metadata": {
    "ExecuteTime": {
     "end_time": "2020-05-19T22:30:06.927901Z",
     "start_time": "2020-05-19T22:30:06.791203Z"
    }
   },
   "outputs": [
    {
     "data": {
      "image/png": "[encoded data removed]",
      "text/plain": [
       "<Figure size 432x288 with 1 Axes>"
      ]
     },
     "metadata": {
      "needs_background": "light"
     },
     "output_type": "display_data"
    }
   ],
   "source": [
    "plt.plot(sig_noise_pink[:500000])\n",
    "plt.grid()"
   ]
  },
  {
   "cell_type": "code",
   "execution_count": 9,
   "metadata": {
    "ExecuteTime": {
     "end_time": "2020-05-19T22:30:06.930612Z",
     "start_time": "2020-05-19T22:30:06.929203Z"
    }
   },
   "outputs": [],
   "source": [
    "# from scipy.signal import find_peaks\n",
    "# peaks, _ = find_peaks(sig_noise_pink)\n",
    "# peaks[0]"
   ]
  },
  {
   "cell_type": "code",
   "execution_count": 10,
   "metadata": {
    "ExecuteTime": {
     "end_time": "2020-05-19T22:30:06.950180Z",
     "start_time": "2020-05-19T22:30:06.931710Z"
    }
   },
   "outputs": [],
   "source": [
    "f = 50 / 10000\n",
    "t = np.array([i for i in range(len(sig_noise_pink))])"
   ]
  },
  {
   "cell_type": "code",
   "execution_count": 11,
   "metadata": {
    "ExecuteTime": {
     "end_time": "2020-05-19T22:30:15.720284Z",
     "start_time": "2020-05-19T22:30:06.951078Z"
    }
   },
   "outputs": [
    {
     "name": "stdout",
     "output_type": "stream",
     "text": [
      "F1 macro = 0.970012\n"
     ]
    }
   ],
   "source": [
    "# original\n",
    "signal_manual_filter = signal\n",
    "state = batch[TARGET].values\n",
    "viterbi = PosteriorDecoder().fit(signal_manual_filter, state)\n",
    "_, oof = viterbi.predict(signal_manual_filter)\n",
    "\n",
    "print(\"F1 macro =\", f1_score(y_pred=oof, y_true=state, average='macro').round(6))"
   ]
  },
  {
   "cell_type": "code",
   "execution_count": 12,
   "metadata": {
    "ExecuteTime": {
     "end_time": "2020-05-19T22:30:24.513290Z",
     "start_time": "2020-05-19T22:30:15.721218Z"
    }
   },
   "outputs": [
    {
     "name": "stdout",
     "output_type": "stream",
     "text": [
      "F1 macro = 0.972098\n"
     ]
    }
   ],
   "source": [
    "# recover\n",
    "signal_manual_filter = sig_recover\n",
    "state = batch[TARGET].values\n",
    "viterbi = PosteriorDecoder().fit(signal_manual_filter, state)\n",
    "_, oof = viterbi.predict(signal_manual_filter)\n",
    "\n",
    "print(\"F1 macro =\", f1_score(y_pred=oof, y_true=state, average='macro').round(6))"
   ]
  },
  {
   "cell_type": "code",
   "execution_count": 13,
   "metadata": {
    "ExecuteTime": {
     "end_time": "2020-05-19T22:30:24.515627Z",
     "start_time": "2020-05-19T22:30:24.514166Z"
    }
   },
   "outputs": [],
   "source": [
    "# b = 1.1\n",
    "# manual_noise = np.sin(2 * np.pi * f * t + b) * 0.06\n",
    "# signal_manual_filter = signal - manual_noise\n",
    "# state = batch[TARGET].values\n",
    "# viterbi = PosteriorDecoder().fit(signal_manual_filter, state)\n",
    "# _, oof = viterbi.predict(signal_manual_filter)\n",
    "\n",
    "# print(b, \"F1 macro =\", f1_score(y_pred=oof, y_true=state, average='macro').round(6))\n",
    "# # 0.973"
   ]
  },
  {
   "cell_type": "code",
   "execution_count": null,
   "metadata": {
    "ExecuteTime": {
     "end_time": "2020-05-19T22:41:00.928721Z",
     "start_time": "2020-05-19T22:41:00.925825Z"
    }
   },
   "outputs": [],
   "source": []
  },
  {
   "cell_type": "code",
   "execution_count": 31,
   "metadata": {
    "ExecuteTime": {
     "end_time": "2020-05-19T23:24:17.579897Z",
     "start_time": "2020-05-19T23:19:41.134578Z"
    }
   },
   "outputs": [
    {
     "name": "stdout",
     "output_type": "stream",
     "text": [
      "0.0 F1 macro = 0.968999\n",
      "0.1 F1 macro = 0.969009\n",
      "0.2 F1 macro = 0.968945\n",
      "0.3 F1 macro = 0.968764\n",
      "0.4 F1 macro = 0.968844\n",
      "0.5 F1 macro = 0.968379\n",
      "0.6 F1 macro = 0.96833\n",
      "0.7 F1 macro = 0.968933\n",
      "0.8 F1 macro = 0.969005\n",
      "0.9 F1 macro = 0.968588\n",
      "1.0 F1 macro = 0.968679\n",
      "1.1 F1 macro = 0.96896\n",
      "1.2 F1 macro = 0.968535\n",
      "1.3 F1 macro = 0.968552\n",
      "1.4 F1 macro = 0.96855\n",
      "1.5 F1 macro = 0.968621\n",
      "1.6 F1 macro = 0.968654\n",
      "1.7 F1 macro = 0.96871\n",
      "1.8 F1 macro = 0.968672\n",
      "1.9 F1 macro = 0.968831\n",
      "2.0 F1 macro = 0.969295\n",
      "2.1 F1 macro = 0.969818\n",
      "2.2 F1 macro = 0.969732\n",
      "2.3 F1 macro = 0.969758\n",
      "2.4 F1 macro = 0.97031\n",
      "2.5 F1 macro = 0.970345\n",
      "2.6 F1 macro = 0.970287\n",
      "2.7 F1 macro = 0.969957\n",
      "2.8 F1 macro = 0.969892\n",
      "2.9 F1 macro = 0.969915\n",
      "3.0 F1 macro = 0.969908\n",
      "3.1 F1 macro = 0.970094\n"
     ]
    }
   ],
   "source": [
    "for i in range(0,32):\n",
    "    \n",
    "    b = 0.1 * i\n",
    "    manual_noise = np.sin(2 * np.pi * f * t + b) * 0.04\n",
    "    signal_manual_filter = signal - manual_noise\n",
    "    state = batch[TARGET].values\n",
    "    viterbi = PosteriorDecoder().fit(signal_manual_filter, state)\n",
    "    _, oof = viterbi.predict(signal_manual_filter)\n",
    "\n",
    "    print(np.round(b, 2), \"F1 macro =\", f1_score(y_pred=oof, y_true=state, average='macro').round(6))"
   ]
  },
  {
   "cell_type": "code",
   "execution_count": 15,
   "metadata": {
    "ExecuteTime": {
     "end_time": "2020-05-19T22:35:02.271721Z",
     "start_time": "2020-05-19T22:35:02.180804Z"
    }
   },
   "outputs": [
    {
     "data": {
      "image/png": "[encoded data removed]",
      "text/plain": [
       "<Figure size 432x288 with 1 Axes>"
      ]
     },
     "metadata": {
      "needs_background": "light"
     },
     "output_type": "display_data"
    }
   ],
   "source": [
    "plt.plot(manual_noise[:5000])\n",
    "plt.grid()"
   ]
  },
  {
   "cell_type": "code",
   "execution_count": null,
   "metadata": {},
   "outputs": [],
   "source": []
  },
  {
   "cell_type": "code",
   "execution_count": null,
   "metadata": {},
   "outputs": [],
   "source": []
  },
  {
   "cell_type": "code",
   "execution_count": 16,
   "metadata": {
    "ExecuteTime": {
     "end_time": "2020-05-19T22:35:02.274290Z",
     "start_time": "2020-05-19T22:35:02.272604Z"
    }
   },
   "outputs": [],
   "source": [
    "# df_train.loc[df_train.batch.isin(BATCH_GROUP), \"signal\"] = sig_recover\n",
    "\n",
    "# viterbi_cols = [\"viterbi_\" + str(i) for i in range(6)]\n",
    "# for col in viterbi_cols:\n",
    "#     df_train[col] = 0\n",
    "#     df_train[col] = 0\n",
    "\n",
    "# signal = df_train[\"signal\"].values\n",
    "# state = df_train[TARGET].values\n",
    "# viterbi = PosteriorDecoder().fit(signal, state)\n",
    "\n",
    "# kf = GroupKFold(n_splits=5)\n",
    "# for index, (tr_idx, val_idx) in enumerate(kf.split(df_train[use_cols], df_train[TARGET], df_train[\"group\"])):\n",
    "#     print(\"Running folder\", index , \": Evaluate on\", np.unique(df_train[\"group\"][val_idx]))\n",
    "\n",
    "#     signal_valid = df_train.loc[val_idx][\"signal\"].values\n",
    "#     df_train.loc[val_idx, viterbi_cols], df_train.loc[val_idx, \"oof\"] = viterbi.predict(signal_valid)\n",
    "#     print(\"F1 macro =\", f1_score(y_pred=df_train.loc[val_idx, \"oof\"], y_true=df_train.loc[val_idx, TARGET], average='macro').round(4))\n",
    "\n",
    "# use_cols = viterbi_cols + use_cols\n",
    "# # original: 0.9703\n",
    "# print(\"oof F1 score is:\", f1_score(df_train[\"oof\"].values, df_train[TARGET].values,\n",
    "#          average='macro').round(4))"
   ]
  },
  {
   "cell_type": "code",
   "execution_count": null,
   "metadata": {},
   "outputs": [],
   "source": []
  },
  {
   "cell_type": "code",
   "execution_count": null,
   "metadata": {},
   "outputs": [],
   "source": []
  },
  {
   "cell_type": "code",
   "execution_count": null,
   "metadata": {},
   "outputs": [],
   "source": []
  },
  {
   "cell_type": "code",
   "execution_count": null,
   "metadata": {},
   "outputs": [],
   "source": []
  },
  {
   "cell_type": "code",
   "execution_count": null,
   "metadata": {},
   "outputs": [],
   "source": []
  },
  {
   "cell_type": "code",
   "execution_count": null,
   "metadata": {},
   "outputs": [],
   "source": []
  },
  {
   "cell_type": "code",
   "execution_count": null,
   "metadata": {},
   "outputs": [],
   "source": []
  }
 ],
 "metadata": {
  "kernelspec": {
   "display_name": "Python 3",
   "language": "python",
   "name": "python3"
  },
  "language_info": {
   "codemirror_mode": {
    "name": "ipython",
    "version": 3
   },
   "file_extension": ".py",
   "mimetype": "text/x-python",
   "name": "python",
   "nbconvert_exporter": "python",
   "pygments_lexer": "ipython3",
   "version": "3.7.5"
  }
 },
 "nbformat": 4,
 "nbformat_minor": 2
}
