{
 "cells": [
  {
   "cell_type": "code",
   "execution_count": 1,
   "metadata": {
    "ExecuteTime": {
     "end_time": "2020-05-07T03:12:08.768793Z",
     "start_time": "2020-05-07T03:12:08.364034Z"
    }
   },
   "outputs": [],
   "source": [
    "import numpy as np\n",
    "import pandas as pd\n",
    "\n",
    "import warnings\n",
    "warnings.simplefilter('ignore')\n",
    "warnings.filterwarnings('ignore')\n",
    "pd.set_option('display.max_columns', 1000)\n",
    "pd.set_option('display.max_rows', 500)\n",
    "\n",
    "from sklearn.model_selection import GroupKFold\n",
    "from sklearn.metrics import f1_score\n",
    "from sklearn.ensemble import RandomForestClassifier"
   ]
  },
  {
   "cell_type": "code",
   "execution_count": 2,
   "metadata": {
    "ExecuteTime": {
     "end_time": "2020-05-07T03:12:10.598699Z",
     "start_time": "2020-05-07T03:12:08.769761Z"
    }
   },
   "outputs": [
    {
     "name": "stdout",
     "output_type": "stream",
     "text": [
      "(4500000, 6) (2000000, 8)\n"
     ]
    },
    {
     "data": {
      "text/html": [
       "<div>\n",
       "<style scoped>\n",
       "    .dataframe tbody tr th:only-of-type {\n",
       "        vertical-align: middle;\n",
       "    }\n",
       "\n",
       "    .dataframe tbody tr th {\n",
       "        vertical-align: top;\n",
       "    }\n",
       "\n",
       "    .dataframe thead th {\n",
       "        text-align: right;\n",
       "    }\n",
       "</style>\n",
       "<table border=\"1\" class=\"dataframe\">\n",
       "  <thead>\n",
       "    <tr style=\"text-align: right;\">\n",
       "      <th></th>\n",
       "      <th>time</th>\n",
       "      <th>signal</th>\n",
       "      <th>local_time</th>\n",
       "      <th>mini_local_time</th>\n",
       "      <th>batch</th>\n",
       "      <th>mini_batch</th>\n",
       "      <th>open_channels</th>\n",
       "      <th>group</th>\n",
       "    </tr>\n",
       "  </thead>\n",
       "  <tbody>\n",
       "    <tr>\n",
       "      <th>0</th>\n",
       "      <td>500.000092</td>\n",
       "      <td>-2.649832</td>\n",
       "      <td>0.000092</td>\n",
       "      <td>0.000092</td>\n",
       "      <td>1</td>\n",
       "      <td>1</td>\n",
       "      <td>0</td>\n",
       "      <td>1_1</td>\n",
       "    </tr>\n",
       "    <tr>\n",
       "      <th>1</th>\n",
       "      <td>500.000214</td>\n",
       "      <td>-2.849463</td>\n",
       "      <td>0.000214</td>\n",
       "      <td>0.000214</td>\n",
       "      <td>1</td>\n",
       "      <td>1</td>\n",
       "      <td>0</td>\n",
       "      <td>1_1</td>\n",
       "    </tr>\n",
       "    <tr>\n",
       "      <th>2</th>\n",
       "      <td>500.000305</td>\n",
       "      <td>-2.860094</td>\n",
       "      <td>0.000305</td>\n",
       "      <td>0.000305</td>\n",
       "      <td>1</td>\n",
       "      <td>1</td>\n",
       "      <td>0</td>\n",
       "      <td>1_1</td>\n",
       "    </tr>\n",
       "    <tr>\n",
       "      <th>3</th>\n",
       "      <td>500.000397</td>\n",
       "      <td>-2.435126</td>\n",
       "      <td>0.000397</td>\n",
       "      <td>0.000397</td>\n",
       "      <td>1</td>\n",
       "      <td>1</td>\n",
       "      <td>0</td>\n",
       "      <td>1_1</td>\n",
       "    </tr>\n",
       "    <tr>\n",
       "      <th>4</th>\n",
       "      <td>500.000488</td>\n",
       "      <td>-2.615657</td>\n",
       "      <td>0.000488</td>\n",
       "      <td>0.000488</td>\n",
       "      <td>1</td>\n",
       "      <td>1</td>\n",
       "      <td>0</td>\n",
       "      <td>1_1</td>\n",
       "    </tr>\n",
       "  </tbody>\n",
       "</table>\n",
       "</div>"
      ],
      "text/plain": [
       "         time    signal  local_time  mini_local_time  batch  mini_batch  \\\n",
       "0  500.000092 -2.649832    0.000092         0.000092      1           1   \n",
       "1  500.000214 -2.849463    0.000214         0.000214      1           1   \n",
       "2  500.000305 -2.860094    0.000305         0.000305      1           1   \n",
       "3  500.000397 -2.435126    0.000397         0.000397      1           1   \n",
       "4  500.000488 -2.615657    0.000488         0.000488      1           1   \n",
       "\n",
       "   open_channels group  \n",
       "0              0   1_1  \n",
       "1              0   1_1  \n",
       "2              0   1_1  \n",
       "3              0   1_1  \n",
       "4              0   1_1  "
      ]
     },
     "execution_count": 2,
     "metadata": {},
     "output_type": "execute_result"
    }
   ],
   "source": [
    "df_train = pd.read_pickle('../features/train_clean.pkl')\n",
    "df_test = pd.read_pickle('../features/test_clean.pkl')\n",
    "\n",
    "TARGET = \"open_channels\"\n",
    "df_test[TARGET] = 0\n",
    "df_test[\"group\"] = df_test[\"batch\"].astype(\"str\") + \"_\" + df_test[\"mini_batch\"].astype(\"str\")\n",
    "print(df_train.shape, df_test.shape)\n",
    "df_test.head()"
   ]
  },
  {
   "cell_type": "code",
   "execution_count": 3,
   "metadata": {
    "ExecuteTime": {
     "end_time": "2020-05-07T03:12:10.669973Z",
     "start_time": "2020-05-07T03:12:10.599853Z"
    }
   },
   "outputs": [
    {
     "name": "stdout",
     "output_type": "stream",
     "text": [
      "(1000000, 6)\n"
     ]
    },
    {
     "data": {
      "text/html": [
       "<div>\n",
       "<style scoped>\n",
       "    .dataframe tbody tr th:only-of-type {\n",
       "        vertical-align: middle;\n",
       "    }\n",
       "\n",
       "    .dataframe tbody tr th {\n",
       "        vertical-align: top;\n",
       "    }\n",
       "\n",
       "    .dataframe thead th {\n",
       "        text-align: right;\n",
       "    }\n",
       "</style>\n",
       "<table border=\"1\" class=\"dataframe\">\n",
       "  <thead>\n",
       "    <tr style=\"text-align: right;\">\n",
       "      <th></th>\n",
       "      <th>time</th>\n",
       "      <th>signal</th>\n",
       "      <th>open_channels</th>\n",
       "      <th>local_time</th>\n",
       "      <th>batch</th>\n",
       "      <th>mini_batch</th>\n",
       "    </tr>\n",
       "  </thead>\n",
       "  <tbody>\n",
       "    <tr>\n",
       "      <th>0</th>\n",
       "      <td>250.000107</td>\n",
       "      <td>2.8555</td>\n",
       "      <td>5</td>\n",
       "      <td>0.000107</td>\n",
       "      <td>6</td>\n",
       "      <td>1</td>\n",
       "    </tr>\n",
       "    <tr>\n",
       "      <th>1</th>\n",
       "      <td>250.000198</td>\n",
       "      <td>3.0907</td>\n",
       "      <td>5</td>\n",
       "      <td>0.000198</td>\n",
       "      <td>6</td>\n",
       "      <td>1</td>\n",
       "    </tr>\n",
       "    <tr>\n",
       "      <th>2</th>\n",
       "      <td>250.000305</td>\n",
       "      <td>3.5277</td>\n",
       "      <td>5</td>\n",
       "      <td>0.000305</td>\n",
       "      <td>6</td>\n",
       "      <td>1</td>\n",
       "    </tr>\n",
       "    <tr>\n",
       "      <th>3</th>\n",
       "      <td>250.000397</td>\n",
       "      <td>3.9822</td>\n",
       "      <td>5</td>\n",
       "      <td>0.000397</td>\n",
       "      <td>6</td>\n",
       "      <td>1</td>\n",
       "    </tr>\n",
       "    <tr>\n",
       "      <th>4</th>\n",
       "      <td>250.000504</td>\n",
       "      <td>3.3368</td>\n",
       "      <td>5</td>\n",
       "      <td>0.000504</td>\n",
       "      <td>6</td>\n",
       "      <td>1</td>\n",
       "    </tr>\n",
       "  </tbody>\n",
       "</table>\n",
       "</div>"
      ],
      "text/plain": [
       "         time  signal  open_channels  local_time  batch  mini_batch\n",
       "0  250.000107  2.8555              5    0.000107      6           1\n",
       "1  250.000198  3.0907              5    0.000198      6           1\n",
       "2  250.000305  3.5277              5    0.000305      6           1\n",
       "3  250.000397  3.9822              5    0.000397      6           1\n",
       "4  250.000504  3.3368              5    0.000504      6           1"
      ]
     },
     "execution_count": 3,
     "metadata": {},
     "output_type": "execute_result"
    }
   ],
   "source": [
    "df_model_4 = df_train[df_train.batch.isin([6,9])].reset_index(drop=True)\n",
    "\n",
    "print(df_model_4.shape)\n",
    "df_model_4.head()"
   ]
  },
  {
   "cell_type": "code",
   "execution_count": 4,
   "metadata": {
    "ExecuteTime": {
     "end_time": "2020-05-07T03:12:10.756369Z",
     "start_time": "2020-05-07T03:12:10.670894Z"
    }
   },
   "outputs": [
    {
     "name": "stdout",
     "output_type": "stream",
     "text": [
      "(200000, 8)\n"
     ]
    },
    {
     "data": {
      "text/html": [
       "<div>\n",
       "<style scoped>\n",
       "    .dataframe tbody tr th:only-of-type {\n",
       "        vertical-align: middle;\n",
       "    }\n",
       "\n",
       "    .dataframe tbody tr th {\n",
       "        vertical-align: top;\n",
       "    }\n",
       "\n",
       "    .dataframe thead th {\n",
       "        text-align: right;\n",
       "    }\n",
       "</style>\n",
       "<table border=\"1\" class=\"dataframe\">\n",
       "  <thead>\n",
       "    <tr style=\"text-align: right;\">\n",
       "      <th></th>\n",
       "      <th>time</th>\n",
       "      <th>signal</th>\n",
       "      <th>local_time</th>\n",
       "      <th>mini_local_time</th>\n",
       "      <th>batch</th>\n",
       "      <th>mini_batch</th>\n",
       "      <th>open_channels</th>\n",
       "      <th>group</th>\n",
       "    </tr>\n",
       "  </thead>\n",
       "  <tbody>\n",
       "    <tr>\n",
       "      <th>0</th>\n",
       "      <td>520.000122</td>\n",
       "      <td>3.5205</td>\n",
       "      <td>20.000122</td>\n",
       "      <td>0.000122</td>\n",
       "      <td>1</td>\n",
       "      <td>3</td>\n",
       "      <td>0</td>\n",
       "      <td>1_3</td>\n",
       "    </tr>\n",
       "    <tr>\n",
       "      <th>1</th>\n",
       "      <td>520.000183</td>\n",
       "      <td>3.0014</td>\n",
       "      <td>20.000183</td>\n",
       "      <td>0.000183</td>\n",
       "      <td>1</td>\n",
       "      <td>3</td>\n",
       "      <td>0</td>\n",
       "      <td>1_3</td>\n",
       "    </tr>\n",
       "    <tr>\n",
       "      <th>2</th>\n",
       "      <td>520.000305</td>\n",
       "      <td>3.2230</td>\n",
       "      <td>20.000305</td>\n",
       "      <td>0.000305</td>\n",
       "      <td>1</td>\n",
       "      <td>3</td>\n",
       "      <td>0</td>\n",
       "      <td>1_3</td>\n",
       "    </tr>\n",
       "    <tr>\n",
       "      <th>3</th>\n",
       "      <td>520.000427</td>\n",
       "      <td>3.3751</td>\n",
       "      <td>20.000427</td>\n",
       "      <td>0.000427</td>\n",
       "      <td>1</td>\n",
       "      <td>3</td>\n",
       "      <td>0</td>\n",
       "      <td>1_3</td>\n",
       "    </tr>\n",
       "    <tr>\n",
       "      <th>4</th>\n",
       "      <td>520.000488</td>\n",
       "      <td>3.5275</td>\n",
       "      <td>20.000488</td>\n",
       "      <td>0.000488</td>\n",
       "      <td>1</td>\n",
       "      <td>3</td>\n",
       "      <td>0</td>\n",
       "      <td>1_3</td>\n",
       "    </tr>\n",
       "  </tbody>\n",
       "</table>\n",
       "</div>"
      ],
      "text/plain": [
       "         time  signal  local_time  mini_local_time  batch  mini_batch  \\\n",
       "0  520.000122  3.5205   20.000122         0.000122      1           3   \n",
       "1  520.000183  3.0014   20.000183         0.000183      1           3   \n",
       "2  520.000305  3.2230   20.000305         0.000305      1           3   \n",
       "3  520.000427  3.3751   20.000427         0.000427      1           3   \n",
       "4  520.000488  3.5275   20.000488         0.000488      1           3   \n",
       "\n",
       "   open_channels group  \n",
       "0              0   1_3  \n",
       "1              0   1_3  \n",
       "2              0   1_3  \n",
       "3              0   1_3  \n",
       "4              0   1_3  "
      ]
     },
     "execution_count": 4,
     "metadata": {},
     "output_type": "execute_result"
    }
   ],
   "source": [
    "df_test_model_4 = df_test[df_test.group.isin([\"1_3\", \"2_2\"])].reset_index(drop=True)\n",
    "\n",
    "print(df_test_model_4.shape)\n",
    "df_test_model_4.head()"
   ]
  },
  {
   "cell_type": "code",
   "execution_count": 5,
   "metadata": {
    "ExecuteTime": {
     "end_time": "2020-05-07T03:12:12.538441Z",
     "start_time": "2020-05-07T03:12:10.757350Z"
    }
   },
   "outputs": [],
   "source": [
    "# feature engineering here\n",
    "def fe(df, is_train):\n",
    "\n",
    "    df[\"group\"] = df[\"batch\"].astype(\"str\") + \"_\" + df[\"mini_batch\"].astype(\"str\")\n",
    "    \n",
    "    # shift features\n",
    "    for shift_val in range(1, 11):\n",
    "        group_on = \"batch\" if is_train else \"group\"\n",
    "        df[f'shift+{shift_val}'] = df.groupby([group_on])['signal'].shift(shift_val).fillna(0)\n",
    "        df[f'shift_{shift_val}'] = df.groupby([group_on])['signal'].shift(-shift_val).fillna(0)\n",
    "    \n",
    "    return df\n",
    "\n",
    "\n",
    "df_model_4 = fe(df_model_4, is_train=1)\n",
    "df_test_model_4 = fe(df_test_model_4, is_train=0)"
   ]
  },
  {
   "cell_type": "code",
   "execution_count": 6,
   "metadata": {
    "ExecuteTime": {
     "end_time": "2020-05-07T03:12:12.554428Z",
     "start_time": "2020-05-07T03:12:12.539345Z"
    }
   },
   "outputs": [
    {
     "name": "stdout",
     "output_type": "stream",
     "text": [
      "(1000000, 27) (200000, 28)\n"
     ]
    },
    {
     "data": {
      "text/html": [
       "<div>\n",
       "<style scoped>\n",
       "    .dataframe tbody tr th:only-of-type {\n",
       "        vertical-align: middle;\n",
       "    }\n",
       "\n",
       "    .dataframe tbody tr th {\n",
       "        vertical-align: top;\n",
       "    }\n",
       "\n",
       "    .dataframe thead th {\n",
       "        text-align: right;\n",
       "    }\n",
       "</style>\n",
       "<table border=\"1\" class=\"dataframe\">\n",
       "  <thead>\n",
       "    <tr style=\"text-align: right;\">\n",
       "      <th></th>\n",
       "      <th>time</th>\n",
       "      <th>signal</th>\n",
       "      <th>open_channels</th>\n",
       "      <th>local_time</th>\n",
       "      <th>batch</th>\n",
       "      <th>mini_batch</th>\n",
       "      <th>group</th>\n",
       "      <th>shift+1</th>\n",
       "      <th>shift_1</th>\n",
       "      <th>shift+2</th>\n",
       "      <th>shift_2</th>\n",
       "      <th>shift+3</th>\n",
       "      <th>shift_3</th>\n",
       "      <th>shift+4</th>\n",
       "      <th>shift_4</th>\n",
       "      <th>shift+5</th>\n",
       "      <th>shift_5</th>\n",
       "      <th>shift+6</th>\n",
       "      <th>shift_6</th>\n",
       "      <th>shift+7</th>\n",
       "      <th>shift_7</th>\n",
       "      <th>shift+8</th>\n",
       "      <th>shift_8</th>\n",
       "      <th>shift+9</th>\n",
       "      <th>shift_9</th>\n",
       "      <th>shift+10</th>\n",
       "      <th>shift_10</th>\n",
       "    </tr>\n",
       "  </thead>\n",
       "  <tbody>\n",
       "    <tr>\n",
       "      <th>0</th>\n",
       "      <td>250.000107</td>\n",
       "      <td>2.8555</td>\n",
       "      <td>5</td>\n",
       "      <td>0.000107</td>\n",
       "      <td>6</td>\n",
       "      <td>1</td>\n",
       "      <td>6_1</td>\n",
       "      <td>0.0000</td>\n",
       "      <td>3.0907</td>\n",
       "      <td>0.0000</td>\n",
       "      <td>3.5277</td>\n",
       "      <td>0.0000</td>\n",
       "      <td>3.9822</td>\n",
       "      <td>0.0000</td>\n",
       "      <td>3.3368</td>\n",
       "      <td>0.0</td>\n",
       "      <td>3.4273</td>\n",
       "      <td>0.0</td>\n",
       "      <td>3.2246</td>\n",
       "      <td>0.0</td>\n",
       "      <td>2.8491</td>\n",
       "      <td>0.0</td>\n",
       "      <td>3.4026</td>\n",
       "      <td>0.0</td>\n",
       "      <td>3.7222</td>\n",
       "      <td>0.0</td>\n",
       "      <td>3.4091</td>\n",
       "    </tr>\n",
       "    <tr>\n",
       "      <th>1</th>\n",
       "      <td>250.000198</td>\n",
       "      <td>3.0907</td>\n",
       "      <td>5</td>\n",
       "      <td>0.000198</td>\n",
       "      <td>6</td>\n",
       "      <td>1</td>\n",
       "      <td>6_1</td>\n",
       "      <td>2.8555</td>\n",
       "      <td>3.5277</td>\n",
       "      <td>0.0000</td>\n",
       "      <td>3.9822</td>\n",
       "      <td>0.0000</td>\n",
       "      <td>3.3368</td>\n",
       "      <td>0.0000</td>\n",
       "      <td>3.4273</td>\n",
       "      <td>0.0</td>\n",
       "      <td>3.2246</td>\n",
       "      <td>0.0</td>\n",
       "      <td>2.8491</td>\n",
       "      <td>0.0</td>\n",
       "      <td>3.4026</td>\n",
       "      <td>0.0</td>\n",
       "      <td>3.7222</td>\n",
       "      <td>0.0</td>\n",
       "      <td>3.4091</td>\n",
       "      <td>0.0</td>\n",
       "      <td>3.2980</td>\n",
       "    </tr>\n",
       "    <tr>\n",
       "      <th>2</th>\n",
       "      <td>250.000305</td>\n",
       "      <td>3.5277</td>\n",
       "      <td>5</td>\n",
       "      <td>0.000305</td>\n",
       "      <td>6</td>\n",
       "      <td>1</td>\n",
       "      <td>6_1</td>\n",
       "      <td>3.0907</td>\n",
       "      <td>3.9822</td>\n",
       "      <td>2.8555</td>\n",
       "      <td>3.3368</td>\n",
       "      <td>0.0000</td>\n",
       "      <td>3.4273</td>\n",
       "      <td>0.0000</td>\n",
       "      <td>3.2246</td>\n",
       "      <td>0.0</td>\n",
       "      <td>2.8491</td>\n",
       "      <td>0.0</td>\n",
       "      <td>3.4026</td>\n",
       "      <td>0.0</td>\n",
       "      <td>3.7222</td>\n",
       "      <td>0.0</td>\n",
       "      <td>3.4091</td>\n",
       "      <td>0.0</td>\n",
       "      <td>3.2980</td>\n",
       "      <td>0.0</td>\n",
       "      <td>3.1906</td>\n",
       "    </tr>\n",
       "    <tr>\n",
       "      <th>3</th>\n",
       "      <td>250.000397</td>\n",
       "      <td>3.9822</td>\n",
       "      <td>5</td>\n",
       "      <td>0.000397</td>\n",
       "      <td>6</td>\n",
       "      <td>1</td>\n",
       "      <td>6_1</td>\n",
       "      <td>3.5277</td>\n",
       "      <td>3.3368</td>\n",
       "      <td>3.0907</td>\n",
       "      <td>3.4273</td>\n",
       "      <td>2.8555</td>\n",
       "      <td>3.2246</td>\n",
       "      <td>0.0000</td>\n",
       "      <td>2.8491</td>\n",
       "      <td>0.0</td>\n",
       "      <td>3.4026</td>\n",
       "      <td>0.0</td>\n",
       "      <td>3.7222</td>\n",
       "      <td>0.0</td>\n",
       "      <td>3.4091</td>\n",
       "      <td>0.0</td>\n",
       "      <td>3.2980</td>\n",
       "      <td>0.0</td>\n",
       "      <td>3.1906</td>\n",
       "      <td>0.0</td>\n",
       "      <td>3.3192</td>\n",
       "    </tr>\n",
       "    <tr>\n",
       "      <th>4</th>\n",
       "      <td>250.000504</td>\n",
       "      <td>3.3368</td>\n",
       "      <td>5</td>\n",
       "      <td>0.000504</td>\n",
       "      <td>6</td>\n",
       "      <td>1</td>\n",
       "      <td>6_1</td>\n",
       "      <td>3.9822</td>\n",
       "      <td>3.4273</td>\n",
       "      <td>3.5277</td>\n",
       "      <td>3.2246</td>\n",
       "      <td>3.0907</td>\n",
       "      <td>2.8491</td>\n",
       "      <td>2.8555</td>\n",
       "      <td>3.4026</td>\n",
       "      <td>0.0</td>\n",
       "      <td>3.7222</td>\n",
       "      <td>0.0</td>\n",
       "      <td>3.4091</td>\n",
       "      <td>0.0</td>\n",
       "      <td>3.2980</td>\n",
       "      <td>0.0</td>\n",
       "      <td>3.1906</td>\n",
       "      <td>0.0</td>\n",
       "      <td>3.3192</td>\n",
       "      <td>0.0</td>\n",
       "      <td>4.0096</td>\n",
       "    </tr>\n",
       "  </tbody>\n",
       "</table>\n",
       "</div>"
      ],
      "text/plain": [
       "         time  signal  open_channels  local_time  batch  mini_batch group  \\\n",
       "0  250.000107  2.8555              5    0.000107      6           1   6_1   \n",
       "1  250.000198  3.0907              5    0.000198      6           1   6_1   \n",
       "2  250.000305  3.5277              5    0.000305      6           1   6_1   \n",
       "3  250.000397  3.9822              5    0.000397      6           1   6_1   \n",
       "4  250.000504  3.3368              5    0.000504      6           1   6_1   \n",
       "\n",
       "   shift+1  shift_1  shift+2  shift_2  shift+3  shift_3  shift+4  shift_4  \\\n",
       "0   0.0000   3.0907   0.0000   3.5277   0.0000   3.9822   0.0000   3.3368   \n",
       "1   2.8555   3.5277   0.0000   3.9822   0.0000   3.3368   0.0000   3.4273   \n",
       "2   3.0907   3.9822   2.8555   3.3368   0.0000   3.4273   0.0000   3.2246   \n",
       "3   3.5277   3.3368   3.0907   3.4273   2.8555   3.2246   0.0000   2.8491   \n",
       "4   3.9822   3.4273   3.5277   3.2246   3.0907   2.8491   2.8555   3.4026   \n",
       "\n",
       "   shift+5  shift_5  shift+6  shift_6  shift+7  shift_7  shift+8  shift_8  \\\n",
       "0      0.0   3.4273      0.0   3.2246      0.0   2.8491      0.0   3.4026   \n",
       "1      0.0   3.2246      0.0   2.8491      0.0   3.4026      0.0   3.7222   \n",
       "2      0.0   2.8491      0.0   3.4026      0.0   3.7222      0.0   3.4091   \n",
       "3      0.0   3.4026      0.0   3.7222      0.0   3.4091      0.0   3.2980   \n",
       "4      0.0   3.7222      0.0   3.4091      0.0   3.2980      0.0   3.1906   \n",
       "\n",
       "   shift+9  shift_9  shift+10  shift_10  \n",
       "0      0.0   3.7222       0.0    3.4091  \n",
       "1      0.0   3.4091       0.0    3.2980  \n",
       "2      0.0   3.2980       0.0    3.1906  \n",
       "3      0.0   3.1906       0.0    3.3192  \n",
       "4      0.0   3.3192       0.0    4.0096  "
      ]
     },
     "execution_count": 6,
     "metadata": {},
     "output_type": "execute_result"
    }
   ],
   "source": [
    "print(df_model_4.shape, df_test_model_4.shape)\n",
    "df_model_4.head()"
   ]
  },
  {
   "cell_type": "code",
   "execution_count": 7,
   "metadata": {
    "ExecuteTime": {
     "end_time": "2020-05-07T03:12:12.563790Z",
     "start_time": "2020-05-07T03:12:12.555297Z"
    }
   },
   "outputs": [
    {
     "name": "stdout",
     "output_type": "stream",
     "text": [
      "Used columns is ['signal', 'shift+1', 'shift_1', 'shift+2', 'shift_2', 'shift+3', 'shift_3', 'shift+4', 'shift_4', 'shift+5', 'shift_5', 'shift+6', 'shift_6', 'shift+7', 'shift_7', 'shift+8', 'shift_8', 'shift+9', 'shift_9', 'shift+10', 'shift_10']\n"
     ]
    }
   ],
   "source": [
    "use_cols = [\n",
    "    col for col in df_model_4.columns if col not in\n",
    "    [\"time\", \"local_time\", \"open_channels\", \"batch\", \"mini_batch\", \"group\"]\n",
    "]\n",
    "print(\"Used columns is\", use_cols)"
   ]
  },
  {
   "cell_type": "code",
   "execution_count": 8,
   "metadata": {
    "ExecuteTime": {
     "end_time": "2020-05-07T03:12:12.578783Z",
     "start_time": "2020-05-07T03:12:12.564980Z"
    }
   },
   "outputs": [],
   "source": [
    "proba_cols = [\"proba_\" + str(i) for i in range(6)]\n",
    "for col in proba_cols:\n",
    "    df_model_4[col] = 0"
   ]
  },
  {
   "cell_type": "code",
   "execution_count": 9,
   "metadata": {
    "ExecuteTime": {
     "end_time": "2020-05-07T03:31:26.814105Z",
     "start_time": "2020-05-07T03:12:12.579781Z"
    }
   },
   "outputs": [
    {
     "name": "stdout",
     "output_type": "stream",
     "text": [
      "(800000, 21)\n",
      "Running folder 0 : Evaluate on ['6_5' '9_5']\n",
      "(800000, 21)\n",
      "Running folder 1 : Evaluate on ['6_4' '9_4']\n",
      "(800000, 21)\n",
      "Running folder 2 : Evaluate on ['6_3' '9_3']\n",
      "(800000, 21)\n",
      "Running folder 3 : Evaluate on ['6_2' '9_2']\n",
      "(800000, 21)\n",
      "Running folder 4 : Evaluate on ['6_1' '9_1']\n"
     ]
    }
   ],
   "source": [
    "gkf = GroupKFold(n_splits=5)\n",
    "df_model_4[\"oof\"] = 0\n",
    "\n",
    "for index, (tr_idx, val_idx) in enumerate(\n",
    "        gkf.split(df_model_4[use_cols], df_model_4[TARGET],\n",
    "                  df_model_4[\"group\"])):\n",
    "    print(df_model_4.loc[tr_idx][use_cols].shape)\n",
    "    print(\"Running folder\", index , \": Evaluate on\", np.unique(df_model_4[\"group\"][val_idx]))\n",
    "    clf = RandomForestClassifier(n_estimators=200,\n",
    "                                 max_depth=19,\n",
    "                                 max_features=10,\n",
    "                                 random_state=42,\n",
    "                                 n_jobs=-1,\n",
    "                                 verbose=0)\n",
    "    clf.fit(df_model_4.loc[tr_idx][use_cols], df_model_4.loc[tr_idx][TARGET])\n",
    "    df_model_4.loc[val_idx, proba_cols] = clf.predict_proba(df_model_4.loc[val_idx][use_cols])\n",
    "    df_model_4.loc[val_idx, \"oof\"] = clf.predict(df_model_4.loc[val_idx][use_cols])"
   ]
  },
  {
   "cell_type": "code",
   "execution_count": 10,
   "metadata": {
    "ExecuteTime": {
     "end_time": "2020-05-07T03:31:27.023541Z",
     "start_time": "2020-05-07T03:31:26.815134Z"
    }
   },
   "outputs": [
    {
     "name": "stdout",
     "output_type": "stream",
     "text": [
      "oof F1 score is 0.9725057408759262\n"
     ]
    }
   ],
   "source": [
    "print(\"oof F1 score is\", f1_score(df_model_4[\"oof\"], df_model_4[TARGET], average = 'macro'))"
   ]
  },
  {
   "cell_type": "code",
   "execution_count": 11,
   "metadata": {
    "ExecuteTime": {
     "end_time": "2020-05-07T03:31:27.026379Z",
     "start_time": "2020-05-07T03:31:27.024681Z"
    }
   },
   "outputs": [],
   "source": [
    "# shift3:  0.9683\n",
    "# shift5:  0.9708(max_features=10), 0.9668\n",
    "# shift10: 0.9715(max_features=10), 0.8957, 0.9712(max_features=16), 0.9717(max_depth=19)\n",
    "# shift15: 0.9708(max_features=10),0.9715 \n",
    "# shift20: 0.9508(depth=10), 0.9698(depth=20)"
   ]
  },
  {
   "cell_type": "code",
   "execution_count": null,
   "metadata": {},
   "outputs": [],
   "source": []
  },
  {
   "cell_type": "code",
   "execution_count": null,
   "metadata": {},
   "outputs": [],
   "source": []
  },
  {
   "cell_type": "code",
   "execution_count": null,
   "metadata": {},
   "outputs": [],
   "source": []
  },
  {
   "cell_type": "code",
   "execution_count": null,
   "metadata": {},
   "outputs": [],
   "source": []
  },
  {
   "cell_type": "code",
   "execution_count": null,
   "metadata": {},
   "outputs": [],
   "source": []
  },
  {
   "cell_type": "code",
   "execution_count": null,
   "metadata": {},
   "outputs": [],
   "source": []
  }
 ],
 "metadata": {
  "kernelspec": {
   "display_name": "Python 3",
   "language": "python",
   "name": "python3"
  },
  "language_info": {
   "codemirror_mode": {
    "name": "ipython",
    "version": 3
   },
   "file_extension": ".py",
   "mimetype": "text/x-python",
   "name": "python",
   "nbconvert_exporter": "python",
   "pygments_lexer": "ipython3",
   "version": "3.7.5"
  }
 },
 "nbformat": 4,
 "nbformat_minor": 2
}
