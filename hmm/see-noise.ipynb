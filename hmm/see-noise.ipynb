{
 "cells": [
  {
   "cell_type": "code",
   "execution_count": 1,
   "metadata": {
    "ExecuteTime": {
     "end_time": "2020-05-20T06:00:55.900805Z",
     "start_time": "2020-05-20T06:00:55.443385Z"
    }
   },
   "outputs": [],
   "source": [
    "import numpy as np\n",
    "import pandas as pd\n",
    "import matplotlib.pyplot as plt\n",
    "\n",
    "import numpy.fft as fft\n",
    "from scipy import signal as scisig\n",
    "from viterbi_utils import *\n",
    "import warnings\n",
    "warnings.simplefilter('ignore')\n",
    "warnings.filterwarnings('ignore')\n",
    "pd.set_option('display.max_columns', 1000)\n",
    "pd.set_option('display.max_rows', 500)"
   ]
  },
  {
   "cell_type": "code",
   "execution_count": 2,
   "metadata": {
    "ExecuteTime": {
     "end_time": "2020-05-20T06:01:01.542032Z",
     "start_time": "2020-05-20T06:00:55.901840Z"
    }
   },
   "outputs": [
    {
     "name": "stdout",
     "output_type": "stream",
     "text": [
      "train size:(4500000, 8), test size:(2000000, 9)\n"
     ]
    },
    {
     "data": {
      "text/html": [
       "<div>\n",
       "<style scoped>\n",
       "    .dataframe tbody tr th:only-of-type {\n",
       "        vertical-align: middle;\n",
       "    }\n",
       "\n",
       "    .dataframe tbody tr th {\n",
       "        vertical-align: top;\n",
       "    }\n",
       "\n",
       "    .dataframe thead th {\n",
       "        text-align: right;\n",
       "    }\n",
       "</style>\n",
       "<table border=\"1\" class=\"dataframe\">\n",
       "  <thead>\n",
       "    <tr style=\"text-align: right;\">\n",
       "      <th></th>\n",
       "      <th>time</th>\n",
       "      <th>signal</th>\n",
       "      <th>open_channels</th>\n",
       "      <th>local_time</th>\n",
       "      <th>batch</th>\n",
       "      <th>mini_batch</th>\n",
       "      <th>group</th>\n",
       "      <th>signal_original</th>\n",
       "    </tr>\n",
       "  </thead>\n",
       "  <tbody>\n",
       "    <tr>\n",
       "      <th>0</th>\n",
       "      <td>0.0001</td>\n",
       "      <td>-2.7600</td>\n",
       "      <td>0</td>\n",
       "      <td>0.0001</td>\n",
       "      <td>1</td>\n",
       "      <td>1</td>\n",
       "      <td>1_1</td>\n",
       "      <td>-2.7600</td>\n",
       "    </tr>\n",
       "    <tr>\n",
       "      <th>1</th>\n",
       "      <td>0.0002</td>\n",
       "      <td>-2.8557</td>\n",
       "      <td>0</td>\n",
       "      <td>0.0002</td>\n",
       "      <td>1</td>\n",
       "      <td>1</td>\n",
       "      <td>1_1</td>\n",
       "      <td>-2.8557</td>\n",
       "    </tr>\n",
       "    <tr>\n",
       "      <th>2</th>\n",
       "      <td>0.0003</td>\n",
       "      <td>-2.4074</td>\n",
       "      <td>0</td>\n",
       "      <td>0.0003</td>\n",
       "      <td>1</td>\n",
       "      <td>1</td>\n",
       "      <td>1_1</td>\n",
       "      <td>-2.4074</td>\n",
       "    </tr>\n",
       "    <tr>\n",
       "      <th>3</th>\n",
       "      <td>0.0004</td>\n",
       "      <td>-3.1404</td>\n",
       "      <td>0</td>\n",
       "      <td>0.0004</td>\n",
       "      <td>1</td>\n",
       "      <td>1</td>\n",
       "      <td>1_1</td>\n",
       "      <td>-3.1404</td>\n",
       "    </tr>\n",
       "    <tr>\n",
       "      <th>4</th>\n",
       "      <td>0.0005</td>\n",
       "      <td>-3.1525</td>\n",
       "      <td>0</td>\n",
       "      <td>0.0005</td>\n",
       "      <td>1</td>\n",
       "      <td>1</td>\n",
       "      <td>1_1</td>\n",
       "      <td>-3.1525</td>\n",
       "    </tr>\n",
       "  </tbody>\n",
       "</table>\n",
       "</div>"
      ],
      "text/plain": [
       "     time  signal  open_channels  local_time  batch  mini_batch group  \\\n",
       "0  0.0001 -2.7600              0      0.0001      1           1   1_1   \n",
       "1  0.0002 -2.8557              0      0.0002      1           1   1_1   \n",
       "2  0.0003 -2.4074              0      0.0003      1           1   1_1   \n",
       "3  0.0004 -3.1404              0      0.0004      1           1   1_1   \n",
       "4  0.0005 -3.1525              0      0.0005      1           1   1_1   \n",
       "\n",
       "   signal_original  \n",
       "0          -2.7600  \n",
       "1          -2.8557  \n",
       "2          -2.4074  \n",
       "3          -3.1404  \n",
       "4          -3.1525  "
      ]
     },
     "execution_count": 2,
     "metadata": {},
     "output_type": "execute_result"
    }
   ],
   "source": [
    "df_train = pd.read_pickle('../features/train_clean.pkl')\n",
    "df_test = pd.read_pickle('../features/test_clean.pkl')\n",
    "TARGET = \"open_channels\"\n",
    "df_test[TARGET] = 0\n",
    "\n",
    "df_train[\"group\"] = df_train[\"batch\"].astype(\"str\") + \"_\" + df_train[\"mini_batch\"].astype(\"str\")\n",
    "df_test[\"group\"] = df_test[\"batch\"].astype(\"str\") + \"_\" + df_test[\"mini_batch\"].astype(\"str\")\n",
    "\n",
    "df_train[\"signal_original\"] = df_train[\"signal\"].copy()\n",
    "df_test[\"signal_original\"] = df_test[\"signal\"].copy()\n",
    "\n",
    "print(f\"train size:{df_train.shape}, test size:{df_test.shape}\")\n",
    "df_train.head()"
   ]
  },
  {
   "cell_type": "code",
   "execution_count": 3,
   "metadata": {
    "ExecuteTime": {
     "end_time": "2020-05-20T06:01:01.699149Z",
     "start_time": "2020-05-20T06:01:01.543227Z"
    }
   },
   "outputs": [],
   "source": [
    "df_train.loc[df_train[TARGET] == 0, TARGET] = 1\n",
    "df_train[TARGET] = df_train[TARGET] - 1"
   ]
  },
  {
   "cell_type": "code",
   "execution_count": 4,
   "metadata": {
    "ExecuteTime": {
     "end_time": "2020-05-20T06:01:01.836431Z",
     "start_time": "2020-05-20T06:01:01.700209Z"
    }
   },
   "outputs": [
    {
     "name": "stdout",
     "output_type": "stream",
     "text": [
      "train size:(500000, 8), test size:(200000, 9)\n"
     ]
    }
   ],
   "source": [
    "# mini model\n",
    "BATCH_GROUP = [5]\n",
    "df_train = df_train[df_train.batch.isin(BATCH_GROUP)].reset_index(drop=True)\n",
    "TEST_GROUP = [\"1_3\", \"2_2\"]\n",
    "df_test = df_test[df_test.group.isin(TEST_GROUP)].reset_index(drop=True)\n",
    "\n",
    "print(f\"train size:{df_train.shape}, test size:{df_test.shape}\")"
   ]
  },
  {
   "cell_type": "code",
   "execution_count": 5,
   "metadata": {
    "ExecuteTime": {
     "end_time": "2020-05-20T06:01:01.839944Z",
     "start_time": "2020-05-20T06:01:01.837364Z"
    }
   },
   "outputs": [],
   "source": [
    "def get_noise(batch, col=TARGET, Q=30):\n",
    "    \"\"\"\n",
    "    input: batch df\n",
    "    output: recovered signal\n",
    "    \"\"\"\n",
    "    signal = batch.signal_original.values\n",
    "    channels = batch[col].values\n",
    "    sig_mean = get_mean(batch)\n",
    "    sig_noise = Arrange_mean(signal, channels, sig_mean, len(sig_mean))\n",
    "    \n",
    "    return sig_noise"
   ]
  },
  {
   "cell_type": "code",
   "execution_count": null,
   "metadata": {
    "ExecuteTime": {
     "end_time": "2020-05-18T21:59:42.961684Z",
     "start_time": "2020-05-18T21:59:42.951963Z"
    }
   },
   "outputs": [],
   "source": []
  },
  {
   "cell_type": "code",
   "execution_count": 6,
   "metadata": {
    "ExecuteTime": {
     "end_time": "2020-05-20T06:01:01.850133Z",
     "start_time": "2020-05-20T06:01:01.840837Z"
    }
   },
   "outputs": [],
   "source": [
    "def get_noise_after_notch(batch, col=TARGET, Q=30):\n",
    "    \"\"\"\n",
    "    input: batch df\n",
    "    output: recovered signal\n",
    "    \"\"\"\n",
    "    signal = batch.signal_original.values\n",
    "    channels = batch[col].values\n",
    "    sig_mean = get_mean(batch)\n",
    "    sig_noise = Arrange_mean(signal, channels, sig_mean, len(sig_mean))\n",
    "    sig_noise_notch_recovered = bandstop(sig_noise)\n",
    "#     sig_noise_notch_recovered = bandstop(sig_noise)\n",
    "\n",
    "    return sig_noise_notch_recovered"
   ]
  },
  {
   "cell_type": "code",
   "execution_count": 7,
   "metadata": {
    "ExecuteTime": {
     "end_time": "2020-05-20T06:01:02.235403Z",
     "start_time": "2020-05-20T06:01:01.851352Z"
    }
   },
   "outputs": [],
   "source": [
    "df_train[\"noise\"] = 0\n",
    "df_train[\"noise_notch\"] = 0\n",
    "df_train[\"minus\"] = 0\n",
    "Q_val = 90\n",
    "# remove the 50 hz noise using notch filter\n",
    "for group_i in df_train.group.unique():\n",
    "    \n",
    "    batch_i = df_train[df_train.group.isin([group_i])]\n",
    "    signal_recovered = get_noise(batch_i, Q=Q_val)\n",
    "    signal_recovered_notch = get_noise_after_notch(batch_i, Q=Q_val)\n",
    "    df_train.loc[df_train.group.isin([group_i]), \"noise\"] = signal_recovered\n",
    "    df_train.loc[df_train.group.isin([group_i]), \"noise_notch\"] = signal_recovered_notch\n",
    "    df_train.loc[df_train.group.isin([group_i]), \"minus\"] = signal_recovered - signal_recovered_notch"
   ]
  },
  {
   "cell_type": "code",
   "execution_count": 8,
   "metadata": {
    "ExecuteTime": {
     "end_time": "2020-05-20T06:01:02.537953Z",
     "start_time": "2020-05-20T06:01:02.236793Z"
    }
   },
   "outputs": [
    {
     "data": {
      "text/plain": [
       "[<matplotlib.lines.Line2D at 0x7f67a4589050>]"
      ]
     },
     "execution_count": 8,
     "metadata": {},
     "output_type": "execute_result"
    },
    {
     "data": {
      "image/png": "[encoded data removed]",
      "text/plain": [
       "<Figure size 1080x360 with 1 Axes>"
      ]
     },
     "metadata": {
      "needs_background": "light"
     },
     "output_type": "display_data"
    }
   ],
   "source": [
    "fig = plt.figure(figsize=(15,5))\n",
    "plt.plot(df_train.minus)\n",
    "# plt.ylim([-0.3, 0.3])"
   ]
  },
  {
   "cell_type": "code",
   "execution_count": 1,
   "metadata": {
    "ExecuteTime": {
     "end_time": "2020-05-21T04:57:58.470518Z",
     "start_time": "2020-05-21T04:57:58.439886Z"
    },
    "scrolled": true
   },
   "outputs": [
    {
     "ename": "NameError",
     "evalue": "name 'plt' is not defined",
     "output_type": "error",
     "traceback": [
      "\u001b[0;31m---------------------------------------------------------------------------\u001b[0m",
      "\u001b[0;31mNameError\u001b[0m                                 Traceback (most recent call last)",
      "\u001b[0;32m<ipython-input-1-5b3e2b940f9f>\u001b[0m in \u001b[0;36m<module>\u001b[0;34m\u001b[0m\n\u001b[0;32m----> 1\u001b[0;31m \u001b[0mfig\u001b[0m \u001b[0;34m=\u001b[0m \u001b[0mplt\u001b[0m\u001b[0;34m.\u001b[0m\u001b[0mfigure\u001b[0m\u001b[0;34m(\u001b[0m\u001b[0mfigsize\u001b[0m\u001b[0;34m=\u001b[0m\u001b[0;34m(\u001b[0m\u001b[0;36m15\u001b[0m\u001b[0;34m,\u001b[0m\u001b[0;36m5\u001b[0m\u001b[0;34m)\u001b[0m\u001b[0;34m)\u001b[0m\u001b[0;34m\u001b[0m\u001b[0;34m\u001b[0m\u001b[0m\n\u001b[0m\u001b[1;32m      2\u001b[0m \u001b[0;34m\u001b[0m\u001b[0m\n\u001b[1;32m      3\u001b[0m \u001b[0mfs\u001b[0m\u001b[0;34m=\u001b[0m\u001b[0;36m10000\u001b[0m\u001b[0;34m\u001b[0m\u001b[0;34m\u001b[0m\u001b[0m\n\u001b[1;32m      4\u001b[0m \u001b[0mfft\u001b[0m \u001b[0;34m=\u001b[0m \u001b[0mnp\u001b[0m\u001b[0;34m.\u001b[0m\u001b[0mfft\u001b[0m\u001b[0;34m.\u001b[0m\u001b[0mfft\u001b[0m\u001b[0;34m(\u001b[0m\u001b[0mdf_train\u001b[0m\u001b[0;34m[\u001b[0m\u001b[0mdf_train\u001b[0m\u001b[0;34m.\u001b[0m\u001b[0mgroup\u001b[0m\u001b[0;34m==\u001b[0m\u001b[0;34m'5_3'\u001b[0m\u001b[0;34m]\u001b[0m\u001b[0;34m.\u001b[0m\u001b[0mnoise_notch\u001b[0m\u001b[0;34m)\u001b[0m\u001b[0;34m\u001b[0m\u001b[0;34m\u001b[0m\u001b[0m\n\u001b[1;32m      5\u001b[0m \u001b[0mpsd\u001b[0m \u001b[0;34m=\u001b[0m \u001b[0mnp\u001b[0m\u001b[0;34m.\u001b[0m\u001b[0mabs\u001b[0m\u001b[0;34m(\u001b[0m\u001b[0mfft\u001b[0m\u001b[0;34m)\u001b[0m \u001b[0;34m**\u001b[0m \u001b[0;36m2\u001b[0m\u001b[0;34m\u001b[0m\u001b[0;34m\u001b[0m\u001b[0m\n",
      "\u001b[0;31mNameError\u001b[0m: name 'plt' is not defined"
     ]
    }
   ],
   "source": [
    "fig = plt.figure(figsize=(15,5))\n",
    "\n",
    "fs=10000\n",
    "fft = np.fft.fft(df_train[df_train.group=='5_3'].noise_notch)\n",
    "psd = np.abs(fft) ** 2\n",
    "fftfreq = np.fft.fftfreq(len(psd),1/fs)\n",
    "\n",
    "i = abs(fftfreq) < 200\n",
    "plt.grid()\n",
    "plt.plot(fftfreq[i], 20*np.log10(psd[i]), linewidth=.5)\n",
    "\n",
    "plt.show()\n"
   ]
  },
  {
   "cell_type": "code",
   "execution_count": 10,
   "metadata": {
    "ExecuteTime": {
     "end_time": "2020-05-20T06:01:02.901298Z",
     "start_time": "2020-05-20T06:01:02.702601Z"
    }
   },
   "outputs": [
    {
     "data": {
      "text/plain": [
       "[<matplotlib.lines.Line2D at 0x7f678ff15e90>]"
      ]
     },
     "execution_count": 10,
     "metadata": {},
     "output_type": "execute_result"
    },
    {
     "data": {
      "image/png": "[encoded data removed]",
      "text/plain": [
       "<Figure size 1080x360 with 1 Axes>"
      ]
     },
     "metadata": {
      "needs_background": "light"
     },
     "output_type": "display_data"
    }
   ],
   "source": [
    "fig = plt.figure(figsize=(15,5))\n",
    "plt.plot(df_train.noise_notch[:10000])"
   ]
  },
  {
   "cell_type": "code",
   "execution_count": 11,
   "metadata": {
    "ExecuteTime": {
     "end_time": "2020-05-20T06:01:03.210583Z",
     "start_time": "2020-05-20T06:01:02.902201Z"
    }
   },
   "outputs": [
    {
     "data": {
      "image/png": "[encoded data removed]",
      "text/plain": [
       "<Figure size 1080x360 with 1 Axes>"
      ]
     },
     "metadata": {
      "needs_background": "light"
     },
     "output_type": "display_data"
    }
   ],
   "source": [
    "fig = plt.figure(figsize=(15,5))\n",
    "\n",
    "fs=10000\n",
    "fft = np.fft.fft(df_train.noise_notch)\n",
    "psd = np.abs(fft) ** 2\n",
    "fftfreq = np.fft.fftfreq(len(psd),1/fs)\n",
    "\n",
    "i = abs(fftfreq) < 400\n",
    "plt.grid()\n",
    "plt.plot(fftfreq[i], 20*np.log10(psd[i]), linewidth=.5)\n",
    "\n",
    "plt.show()\n"
   ]
  },
  {
   "cell_type": "code",
   "execution_count": 12,
   "metadata": {
    "ExecuteTime": {
     "end_time": "2020-05-20T06:01:03.319604Z",
     "start_time": "2020-05-20T06:01:03.211739Z"
    }
   },
   "outputs": [
    {
     "data": {
      "image/png": "[encoded data removed]",
      "text/plain": [
       "<Figure size 1080x360 with 1 Axes>"
      ]
     },
     "metadata": {
      "needs_background": "light"
     },
     "output_type": "display_data"
    }
   ],
   "source": [
    "x = 10000\n",
    "tmp = df_train[x:x+5000].signal.values\n",
    "fig = plt.figure(figsize=(15,5))\n",
    "\n",
    "fs=50000\n",
    "fft = np.fft.fft(tmp)\n",
    "psd = np.abs(fft) ** 2\n",
    "fftfreq = np.fft.fftfreq(len(psd),1/fs)\n",
    "\n",
    "i = abs(fftfreq) < 400\n",
    "plt.grid()\n",
    "plt.plot(fftfreq[i], 20*np.log10(psd[i]), linewidth=.5)\n",
    "\n",
    "plt.show()\n"
   ]
  },
  {
   "cell_type": "code",
   "execution_count": null,
   "metadata": {
    "ExecuteTime": {
     "end_time": "2020-05-18T07:33:54.884122Z",
     "start_time": "2020-05-18T07:33:54.877898Z"
    }
   },
   "outputs": [],
   "source": []
  },
  {
   "cell_type": "code",
   "execution_count": null,
   "metadata": {},
   "outputs": [],
   "source": []
  },
  {
   "cell_type": "code",
   "execution_count": null,
   "metadata": {},
   "outputs": [],
   "source": []
  },
  {
   "cell_type": "code",
   "execution_count": null,
   "metadata": {},
   "outputs": [],
   "source": []
  },
  {
   "cell_type": "code",
   "execution_count": 13,
   "metadata": {
    "ExecuteTime": {
     "end_time": "2020-05-20T06:01:03.381541Z",
     "start_time": "2020-05-20T06:01:03.320426Z"
    }
   },
   "outputs": [
    {
     "ename": "NameError",
     "evalue": "name 'stop' is not defined",
     "output_type": "error",
     "traceback": [
      "\u001b[0;31m---------------------------------------------------------------------------\u001b[0m",
      "\u001b[0;31mNameError\u001b[0m                                 Traceback (most recent call last)",
      "\u001b[0;32m<ipython-input-13-4f76a9dad686>\u001b[0m in \u001b[0;36m<module>\u001b[0;34m\u001b[0m\n\u001b[0;32m----> 1\u001b[0;31m \u001b[0mstop\u001b[0m\u001b[0;34m\u001b[0m\u001b[0;34m\u001b[0m\u001b[0m\n\u001b[0m",
      "\u001b[0;31mNameError\u001b[0m: name 'stop' is not defined"
     ]
    }
   ],
   "source": [
    "stop"
   ]
  },
  {
   "cell_type": "code",
   "execution_count": null,
   "metadata": {
    "ExecuteTime": {
     "end_time": "2020-05-20T06:01:03.382399Z",
     "start_time": "2020-05-20T06:00:55.472Z"
    }
   },
   "outputs": [],
   "source": [
    "# remove the 50 hz noise using notch filter\n",
    "for group_i in df_train.group.unique():\n",
    "\n",
    "    batch_i = df_train[df_train.group.isin([group_i])]\n",
    "    signal_recovered = rm_noise(batch_i, Q=70)\n",
    "    df_train.loc[df_train.group.isin([group_i]), \"signal\"] = signal_recovered"
   ]
  },
  {
   "cell_type": "code",
   "execution_count": null,
   "metadata": {
    "ExecuteTime": {
     "end_time": "2020-05-20T06:01:03.382900Z",
     "start_time": "2020-05-20T06:00:55.474Z"
    }
   },
   "outputs": [],
   "source": [
    "viterbi_cols = [\"viterbi_\" + str(i) for i in range(df_train[TARGET].nunique())]\n",
    "for col in viterbi_cols:\n",
    "    df_train[col] = 0\n",
    "    df_test[col] = 0"
   ]
  },
  {
   "cell_type": "code",
   "execution_count": null,
   "metadata": {
    "ExecuteTime": {
     "end_time": "2020-05-20T06:01:03.383738Z",
     "start_time": "2020-05-20T06:00:55.476Z"
    }
   },
   "outputs": [],
   "source": [
    "# see performance in each group\n",
    "signal = df_train.loc[df_train.batch.isin(BATCH_GROUP), \"signal\"]\n",
    "state = df_train.loc[df_train.batch.isin(BATCH_GROUP), TARGET]\n",
    "viterbi = PosteriorDecoder().fit(signal, state)\n",
    "for group_i in df_train.group.unique():\n",
    "    batch_i = df_train[df_train.group.isin([group_i])]\n",
    "    signal_i = df_train.loc[df_train.group.isin([group_i]), \"signal\"]\n",
    "    state_i = df_train.loc[df_train.group.isin([group_i]), TARGET]\n",
    "    df_train.loc[df_train.group.isin([group_i]), viterbi_cols], df_train.loc[df_train.group.isin([group_i]), \"oof\"] = viterbi.predict(signal_i)\n",
    "    print(group_i, \"F1 macro =\", f1_score(y_pred=df_train.loc[df_train.group.isin([group_i]), \"oof\"], y_true=state_i, average='macro').round(6))\n",
    "\n",
    "print(\"==> OOF F1 macro =\", f1_score(y_pred=df_train[\"oof\"].values, y_true=df_train[TARGET].values, average='macro').round(4))"
   ]
  },
  {
   "cell_type": "code",
   "execution_count": null,
   "metadata": {
    "ExecuteTime": {
     "end_time": "2020-05-20T06:01:03.384303Z",
     "start_time": "2020-05-20T06:00:55.477Z"
    }
   },
   "outputs": [],
   "source": [
    "# predict the test\n",
    "for col in TEST_GROUP:\n",
    "    df_test.loc[df_test.group == col, viterbi_cols], df_test.loc[df_test.group == col, \"oof\"] = viterbi.predict(df_test.loc[df_test.group == col, \"signal\"].values)\n",
    "\n",
    "# remove test signal noise here using oof\n",
    "df_test[\"noise\"] = 0\n",
    "df_test[\"noise_notch\"] = 0\n",
    "Q_val = 70\n",
    "# remove the 50 hz noise using notch filter\n",
    "for group_i in TEST_GROUP:\n",
    "    batch_test_i = df_test[df_test.group.isin([group_i])].copy()\n",
    "    signal_test_recovered = rm_noise(batch_test_i, col=\"oof\", Q=60)\n",
    "    df_test.loc[df_test.group.isin([group_i]), \"signal\"] = signal_test_recovered\n",
    "\n",
    "    signal_recovered = get_noise(batch_test_i, col=\"oof\", Q=Q_val)\n",
    "    signal_recovered_notch = get_noise_after_notch(batch_test_i, col=\"oof\", Q=Q_val)\n",
    "    df_test.loc[df_test.group.isin([group_i]), \"noise\"] = signal_recovered\n",
    "    df_test.loc[df_test.group.isin([group_i]), \"noise_notch\"] = signal_recovered_notch\n",
    "\n",
    "# re-predict test \n",
    "for group_i in TEST_GROUP:\n",
    "    df_test.loc[df_test.group == group_i, viterbi_cols], df_test.loc[df_test.group == group_i, TARGET] = viterbi.predict(df_test.loc[df_test.group == group_i, \"signal\"].values)"
   ]
  },
  {
   "cell_type": "code",
   "execution_count": null,
   "metadata": {
    "ExecuteTime": {
     "end_time": "2020-05-20T06:01:03.384842Z",
     "start_time": "2020-05-20T06:00:55.478Z"
    }
   },
   "outputs": [],
   "source": [
    "fig = plt.figure(figsize=(15,5))\n",
    "\n",
    "fs=10000\n",
    "fft = np.fft.fft(df_test.noise)\n",
    "psd = np.abs(fft) ** 2\n",
    "fftfreq = np.fft.fftfreq(len(psd),1/fs)\n",
    "\n",
    "i = abs(fftfreq) < 200\n",
    "plt.grid()\n",
    "plt.plot(fftfreq[i], 20*np.log10(psd[i]), linewidth=.5)\n",
    "\n",
    "plt.show()\n"
   ]
  },
  {
   "cell_type": "code",
   "execution_count": null,
   "metadata": {},
   "outputs": [],
   "source": []
  },
  {
   "cell_type": "code",
   "execution_count": 14,
   "metadata": {
    "ExecuteTime": {
     "end_time": "2020-05-20T06:02:31.608277Z",
     "start_time": "2020-05-20T06:02:31.598139Z"
    }
   },
   "outputs": [
    {
     "data": {
      "text/html": [
       "<div>\n",
       "<style scoped>\n",
       "    .dataframe tbody tr th:only-of-type {\n",
       "        vertical-align: middle;\n",
       "    }\n",
       "\n",
       "    .dataframe tbody tr th {\n",
       "        vertical-align: top;\n",
       "    }\n",
       "\n",
       "    .dataframe thead th {\n",
       "        text-align: right;\n",
       "    }\n",
       "</style>\n",
       "<table border=\"1\" class=\"dataframe\">\n",
       "  <thead>\n",
       "    <tr style=\"text-align: right;\">\n",
       "      <th></th>\n",
       "      <th>time</th>\n",
       "      <th>signal</th>\n",
       "      <th>open_channels</th>\n",
       "      <th>local_time</th>\n",
       "      <th>batch</th>\n",
       "      <th>mini_batch</th>\n",
       "      <th>group</th>\n",
       "      <th>signal_original</th>\n",
       "      <th>noise</th>\n",
       "      <th>noise_notch</th>\n",
       "      <th>minus</th>\n",
       "    </tr>\n",
       "  </thead>\n",
       "  <tbody>\n",
       "    <tr>\n",
       "      <th>0</th>\n",
       "      <td>200.000107</td>\n",
       "      <td>7.1191</td>\n",
       "      <td>9</td>\n",
       "      <td>0.000107</td>\n",
       "      <td>5</td>\n",
       "      <td>1</td>\n",
       "      <td>5_1</td>\n",
       "      <td>7.1191</td>\n",
       "      <td>0.252583</td>\n",
       "      <td>0.321165</td>\n",
       "      <td>-0.068582</td>\n",
       "    </tr>\n",
       "    <tr>\n",
       "      <th>1</th>\n",
       "      <td>200.000198</td>\n",
       "      <td>6.7712</td>\n",
       "      <td>9</td>\n",
       "      <td>0.000198</td>\n",
       "      <td>5</td>\n",
       "      <td>1</td>\n",
       "      <td>5_1</td>\n",
       "      <td>6.7712</td>\n",
       "      <td>-0.095317</td>\n",
       "      <td>-0.026261</td>\n",
       "      <td>-0.069056</td>\n",
       "    </tr>\n",
       "    <tr>\n",
       "      <th>2</th>\n",
       "      <td>200.000305</td>\n",
       "      <td>6.9278</td>\n",
       "      <td>9</td>\n",
       "      <td>0.000305</td>\n",
       "      <td>5</td>\n",
       "      <td>1</td>\n",
       "      <td>5_1</td>\n",
       "      <td>6.9278</td>\n",
       "      <td>0.061283</td>\n",
       "      <td>0.130746</td>\n",
       "      <td>-0.069463</td>\n",
       "    </tr>\n",
       "    <tr>\n",
       "      <th>3</th>\n",
       "      <td>200.000397</td>\n",
       "      <td>7.3541</td>\n",
       "      <td>9</td>\n",
       "      <td>0.000397</td>\n",
       "      <td>5</td>\n",
       "      <td>1</td>\n",
       "      <td>5_1</td>\n",
       "      <td>7.3541</td>\n",
       "      <td>0.487583</td>\n",
       "      <td>0.557384</td>\n",
       "      <td>-0.069800</td>\n",
       "    </tr>\n",
       "    <tr>\n",
       "      <th>4</th>\n",
       "      <td>200.000504</td>\n",
       "      <td>7.4194</td>\n",
       "      <td>9</td>\n",
       "      <td>0.000504</td>\n",
       "      <td>5</td>\n",
       "      <td>1</td>\n",
       "      <td>5_1</td>\n",
       "      <td>7.4194</td>\n",
       "      <td>0.552883</td>\n",
       "      <td>0.622953</td>\n",
       "      <td>-0.070069</td>\n",
       "    </tr>\n",
       "  </tbody>\n",
       "</table>\n",
       "</div>"
      ],
      "text/plain": [
       "         time  signal  open_channels  local_time  batch  mini_batch group  \\\n",
       "0  200.000107  7.1191              9    0.000107      5           1   5_1   \n",
       "1  200.000198  6.7712              9    0.000198      5           1   5_1   \n",
       "2  200.000305  6.9278              9    0.000305      5           1   5_1   \n",
       "3  200.000397  7.3541              9    0.000397      5           1   5_1   \n",
       "4  200.000504  7.4194              9    0.000504      5           1   5_1   \n",
       "\n",
       "   signal_original     noise  noise_notch     minus  \n",
       "0           7.1191  0.252583     0.321165 -0.068582  \n",
       "1           6.7712 -0.095317    -0.026261 -0.069056  \n",
       "2           6.9278  0.061283     0.130746 -0.069463  \n",
       "3           7.3541  0.487583     0.557384 -0.069800  \n",
       "4           7.4194  0.552883     0.622953 -0.070069  "
      ]
     },
     "execution_count": 14,
     "metadata": {},
     "output_type": "execute_result"
    }
   ],
   "source": [
    "df_train.head()"
   ]
  },
  {
   "cell_type": "code",
   "execution_count": 16,
   "metadata": {
    "ExecuteTime": {
     "end_time": "2020-05-20T06:03:46.684833Z",
     "start_time": "2020-05-20T06:03:46.381387Z"
    }
   },
   "outputs": [
    {
     "data": {
      "text/plain": [
       "[<matplotlib.lines.Line2D at 0x7f67b8bd3790>]"
      ]
     },
     "execution_count": 16,
     "metadata": {},
     "output_type": "execute_result"
    },
    {
     "data": {
      "image/png": "[encoded data removed]",
      "text/plain": [
       "<Figure size 432x288 with 1 Axes>"
      ]
     },
     "metadata": {
      "needs_background": "light"
     },
     "output_type": "display_data"
    }
   ],
   "source": [
    "plt.plot(df_train.noise)"
   ]
  },
  {
   "cell_type": "code",
   "execution_count": 26,
   "metadata": {
    "ExecuteTime": {
     "end_time": "2020-05-20T06:10:33.522627Z",
     "start_time": "2020-05-20T06:10:32.298289Z"
    }
   },
   "outputs": [
    {
     "name": "stdout",
     "output_type": "stream",
     "text": [
      "[ 0.0107 -2.9732  0.    ]\n"
     ]
    }
   ],
   "source": [
    "import math\n",
    "def parabolic_drift_fit(data):\n",
    "    x = data['local_time']\n",
    "    y = data['minus']\n",
    "\n",
    "    frequency = 50\n",
    "    omega = 2 * np.pi * frequency\n",
    "    M = np.array([[np.sin(omega * t), np.cos(omega * t), 1] for t in x])\n",
    "    y = np.array(y).reshape(len(y), 1)\n",
    "\n",
    "    (theta, _, _, _) = np.linalg.lstsq(M, y)\n",
    "    \n",
    "    A = np.sqrt(theta[0,0]**2 + theta[1,0]**2)\n",
    "    ph = math.atan2(theta[1,0], theta[0,0])\n",
    "    d = theta[2,0]\n",
    "\n",
    "    popt = [A, ph, d]\n",
    "    print(np.array(popt).round(5))\n",
    "    return popt\n",
    "sin_w = parabolic_drift_fit(df_train)"
   ]
  },
  {
   "cell_type": "code",
   "execution_count": 27,
   "metadata": {
    "ExecuteTime": {
     "end_time": "2020-05-20T06:10:34.821912Z",
     "start_time": "2020-05-20T06:10:33.523766Z"
    }
   },
   "outputs": [
    {
     "name": "stdout",
     "output_type": "stream",
     "text": [
      "[ 6.20100e-02 -2.78526e+00  1.00000e-05]\n",
      "[ 4.95100e-02 -2.31334e+00  5.00000e-05]\n",
      "[ 2.95000e-02  3.10819e+00 -1.00000e-05]\n",
      "[ 5.6540e-02  1.9065e-01 -2.0000e-05]\n",
      "[ 3.95900e-02  1.24039e+00 -1.00000e-05]\n"
     ]
    }
   ],
   "source": [
    "for group_i in df_train.group.unique():\n",
    "    parabolic_drift_fit(df_train[df_train.group == group_i])"
   ]
  },
  {
   "cell_type": "code",
   "execution_count": null,
   "metadata": {},
   "outputs": [],
   "source": []
  },
  {
   "cell_type": "code",
   "execution_count": null,
   "metadata": {},
   "outputs": [],
   "source": []
  },
  {
   "cell_type": "code",
   "execution_count": null,
   "metadata": {},
   "outputs": [],
   "source": []
  },
  {
   "cell_type": "code",
   "execution_count": null,
   "metadata": {},
   "outputs": [],
   "source": []
  },
  {
   "cell_type": "code",
   "execution_count": null,
   "metadata": {},
   "outputs": [],
   "source": []
  },
  {
   "cell_type": "code",
   "execution_count": null,
   "metadata": {},
   "outputs": [],
   "source": []
  },
  {
   "cell_type": "code",
   "execution_count": null,
   "metadata": {},
   "outputs": [],
   "source": []
  },
  {
   "cell_type": "code",
   "execution_count": null,
   "metadata": {},
   "outputs": [],
   "source": []
  }
 ],
 "metadata": {
  "kernelspec": {
   "display_name": "Python 3",
   "language": "python",
   "name": "python3"
  },
  "language_info": {
   "codemirror_mode": {
    "name": "ipython",
    "version": 3
   },
   "file_extension": ".py",
   "mimetype": "text/x-python",
   "name": "python",
   "nbconvert_exporter": "python",
   "pygments_lexer": "ipython3",
   "version": "3.7.5"
  }
 },
 "nbformat": 4,
 "nbformat_minor": 2
}
