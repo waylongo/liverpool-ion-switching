{
 "cells": [
  {
   "cell_type": "code",
   "execution_count": 1,
   "metadata": {
    "ExecuteTime": {
     "end_time": "2020-05-25T00:47:38.180794Z",
     "start_time": "2020-05-25T00:47:37.130771Z"
    }
   },
   "outputs": [],
   "source": [
    "import numpy as np\n",
    "import pandas as pd\n",
    "import matplotlib.pyplot as plt\n",
    "\n",
    "import os, gc, random\n",
    "from sklearn.model_selection import GroupKFold\n",
    "from sklearn.metrics import f1_score\n",
    "from viterbi_utils import *\n",
    "from sklearn.preprocessing import MinMaxScaler\n",
    "from tqdm.notebook import tqdm\n",
    "\n",
    "import numpy.fft as fft\n",
    "from scipy import signal as scisig\n",
    "from viterbi_utils import *\n",
    "from utils_mini import *\n",
    "from fast_macro_f1_func import *\n",
    "import lightgbm as lgb\n",
    "\n",
    "import warnings\n",
    "warnings.simplefilter('ignore')\n",
    "warnings.filterwarnings('ignore')\n",
    "pd.set_option('display.max_columns', 1000)\n",
    "pd.set_option('display.max_rows', 500)\n",
    "\n",
    "os.environ['TF_DETERMINISTIC_OPS'] = '1'"
   ]
  },
  {
   "cell_type": "code",
   "execution_count": 2,
   "metadata": {
    "ExecuteTime": {
     "end_time": "2020-05-25T00:47:43.945581Z",
     "start_time": "2020-05-25T00:47:38.181926Z"
    }
   },
   "outputs": [
    {
     "name": "stdout",
     "output_type": "stream",
     "text": [
      "train size:(4500000, 8), test size:(2000000, 9)\n"
     ]
    },
    {
     "data": {
      "text/html": [
       "<div>\n",
       "<style scoped>\n",
       "    .dataframe tbody tr th:only-of-type {\n",
       "        vertical-align: middle;\n",
       "    }\n",
       "\n",
       "    .dataframe tbody tr th {\n",
       "        vertical-align: top;\n",
       "    }\n",
       "\n",
       "    .dataframe thead th {\n",
       "        text-align: right;\n",
       "    }\n",
       "</style>\n",
       "<table border=\"1\" class=\"dataframe\">\n",
       "  <thead>\n",
       "    <tr style=\"text-align: right;\">\n",
       "      <th></th>\n",
       "      <th>time</th>\n",
       "      <th>signal</th>\n",
       "      <th>open_channels</th>\n",
       "      <th>local_time</th>\n",
       "      <th>batch</th>\n",
       "      <th>mini_batch</th>\n",
       "      <th>group</th>\n",
       "      <th>signal_original</th>\n",
       "    </tr>\n",
       "  </thead>\n",
       "  <tbody>\n",
       "    <tr>\n",
       "      <th>0</th>\n",
       "      <td>0.0001</td>\n",
       "      <td>-2.7600</td>\n",
       "      <td>0</td>\n",
       "      <td>0.0001</td>\n",
       "      <td>1</td>\n",
       "      <td>1</td>\n",
       "      <td>1_1</td>\n",
       "      <td>-2.7600</td>\n",
       "    </tr>\n",
       "    <tr>\n",
       "      <th>1</th>\n",
       "      <td>0.0002</td>\n",
       "      <td>-2.8557</td>\n",
       "      <td>0</td>\n",
       "      <td>0.0002</td>\n",
       "      <td>1</td>\n",
       "      <td>1</td>\n",
       "      <td>1_1</td>\n",
       "      <td>-2.8557</td>\n",
       "    </tr>\n",
       "    <tr>\n",
       "      <th>2</th>\n",
       "      <td>0.0003</td>\n",
       "      <td>-2.4074</td>\n",
       "      <td>0</td>\n",
       "      <td>0.0003</td>\n",
       "      <td>1</td>\n",
       "      <td>1</td>\n",
       "      <td>1_1</td>\n",
       "      <td>-2.4074</td>\n",
       "    </tr>\n",
       "    <tr>\n",
       "      <th>3</th>\n",
       "      <td>0.0004</td>\n",
       "      <td>-3.1404</td>\n",
       "      <td>0</td>\n",
       "      <td>0.0004</td>\n",
       "      <td>1</td>\n",
       "      <td>1</td>\n",
       "      <td>1_1</td>\n",
       "      <td>-3.1404</td>\n",
       "    </tr>\n",
       "    <tr>\n",
       "      <th>4</th>\n",
       "      <td>0.0005</td>\n",
       "      <td>-3.1525</td>\n",
       "      <td>0</td>\n",
       "      <td>0.0005</td>\n",
       "      <td>1</td>\n",
       "      <td>1</td>\n",
       "      <td>1_1</td>\n",
       "      <td>-3.1525</td>\n",
       "    </tr>\n",
       "  </tbody>\n",
       "</table>\n",
       "</div>"
      ],
      "text/plain": [
       "     time  signal  open_channels  local_time  batch  mini_batch group  \\\n",
       "0  0.0001 -2.7600              0      0.0001      1           1   1_1   \n",
       "1  0.0002 -2.8557              0      0.0002      1           1   1_1   \n",
       "2  0.0003 -2.4074              0      0.0003      1           1   1_1   \n",
       "3  0.0004 -3.1404              0      0.0004      1           1   1_1   \n",
       "4  0.0005 -3.1525              0      0.0005      1           1   1_1   \n",
       "\n",
       "   signal_original  \n",
       "0          -2.7600  \n",
       "1          -2.8557  \n",
       "2          -2.4074  \n",
       "3          -3.1404  \n",
       "4          -3.1525  "
      ]
     },
     "execution_count": 2,
     "metadata": {},
     "output_type": "execute_result"
    }
   ],
   "source": [
    "df_train = pd.read_pickle('../features/train_clean.pkl')\n",
    "df_test = pd.read_pickle('../features/test_clean.pkl')\n",
    "TARGET = \"open_channels\"\n",
    "df_test[TARGET] = 0\n",
    "\n",
    "df_train[\"group\"] = df_train[\"batch\"].astype(\"str\") + \"_\" + df_train[\"mini_batch\"].astype(\"str\")\n",
    "df_test[\"group\"] = df_test[\"batch\"].astype(\"str\") + \"_\" + df_test[\"mini_batch\"].astype(\"str\")\n",
    "\n",
    "df_train[\"signal_original\"] = df_train[\"signal\"].copy()\n",
    "df_test[\"signal_original\"] = df_test[\"signal\"].copy()\n",
    "\n",
    "print(f\"train size:{df_train.shape}, test size:{df_test.shape}\")\n",
    "df_train.head()"
   ]
  },
  {
   "cell_type": "code",
   "execution_count": 3,
   "metadata": {
    "ExecuteTime": {
     "end_time": "2020-05-25T00:47:43.949940Z",
     "start_time": "2020-05-25T00:47:43.947077Z"
    }
   },
   "outputs": [],
   "source": [
    "# configurations and main hyperparammeters\n",
    "shft = 1\n",
    "nn_epochs = 100\n",
    "nn_batch_size = 16\n",
    "class_num = 11 - shft\n",
    "LR = 0.001"
   ]
  },
  {
   "cell_type": "code",
   "execution_count": 4,
   "metadata": {
    "ExecuteTime": {
     "end_time": "2020-05-25T00:47:44.289125Z",
     "start_time": "2020-05-25T00:47:43.951106Z"
    }
   },
   "outputs": [
    {
     "name": "stdout",
     "output_type": "stream",
     "text": [
      "train size:(1000000, 8), test size:(200000, 9)\n"
     ]
    }
   ],
   "source": [
    "# reduce batch 5&10 open_channels from 11 to 10 (class 1-10)\n",
    "df_train.loc[df_train.batch.isin([5,10]) & (df_train.open_channels < shft), \"open_channels\"] = shft\n",
    "df_train[TARGET] = df_train[TARGET] - shft\n",
    "\n",
    "# mini model\n",
    "BATCH_GROUP = [5, 10]\n",
    "df_train = df_train[df_train.batch.isin(BATCH_GROUP)].reset_index(drop=True)\n",
    "TEST_GROUP = [\"2_1\", \"2_3\"]\n",
    "df_test = df_test[df_test.group.isin(TEST_GROUP)].reset_index(drop=True)\n",
    "\n",
    "print(f\"train size:{df_train.shape}, test size:{df_test.shape}\")"
   ]
  },
  {
   "cell_type": "code",
   "execution_count": 5,
   "metadata": {
    "ExecuteTime": {
     "end_time": "2020-05-25T00:47:44.367313Z",
     "start_time": "2020-05-25T00:47:44.290008Z"
    }
   },
   "outputs": [
    {
     "name": "stdout",
     "output_type": "stream",
     "text": [
      "[-4.218 -2.969 -1.768 -0.526  0.71   1.941  3.175  4.409  5.641  6.875]\n"
     ]
    }
   ],
   "source": [
    "sig_mean = get_mean(df_train)\n",
    "print(np.array(sig_mean).round(3))\n",
    "# sig_mean = [-4.255, -3.017, -1.779, -0.541, 0.697, 1.935, 3.173, 4.411, 5.649, 6.887]"
   ]
  },
  {
   "cell_type": "code",
   "execution_count": 6,
   "metadata": {
    "ExecuteTime": {
     "end_time": "2020-05-25T00:47:44.830295Z",
     "start_time": "2020-05-25T00:47:44.368840Z"
    }
   },
   "outputs": [],
   "source": [
    "# remove the 50 hz noise using bandstop filter (group)\n",
    "for group_i in df_train.group.unique():\n",
    "\n",
    "    batch_i = df_train[df_train.group.isin([group_i])]\n",
    "    signal_recovered = rm_noise(batch_i, sig_mean=sig_mean)\n",
    "    df_train.loc[df_train.group.isin([group_i]), \"signal\"] = signal_recovered"
   ]
  },
  {
   "cell_type": "code",
   "execution_count": 7,
   "metadata": {
    "ExecuteTime": {
     "end_time": "2020-05-25T00:47:44.909048Z",
     "start_time": "2020-05-25T00:47:44.831389Z"
    }
   },
   "outputs": [
    {
     "name": "stdout",
     "output_type": "stream",
     "text": [
      "[-4.212 -2.959 -1.766 -0.523  0.71   1.941  3.175  4.409  5.641  6.875]\n"
     ]
    }
   ],
   "source": [
    "sig_mean = get_mean(df_train)\n",
    "print(np.array(sig_mean).round(3))"
   ]
  },
  {
   "cell_type": "code",
   "execution_count": 8,
   "metadata": {
    "ExecuteTime": {
     "end_time": "2020-05-25T00:47:45.500966Z",
     "start_time": "2020-05-25T00:47:44.910124Z"
    }
   },
   "outputs": [
    {
     "name": "stdout",
     "output_type": "stream",
     "text": [
      "Used columns is ['signal', 'shift+1', 'shift_1', 'shift+2', 'shift_2', 'shift+3', 'shift_3', 'shift+4', 'shift_4', 'shift+5', 'shift_5']\n"
     ]
    },
    {
     "data": {
      "text/html": [
       "<div>\n",
       "<style scoped>\n",
       "    .dataframe tbody tr th:only-of-type {\n",
       "        vertical-align: middle;\n",
       "    }\n",
       "\n",
       "    .dataframe tbody tr th {\n",
       "        vertical-align: top;\n",
       "    }\n",
       "\n",
       "    .dataframe thead th {\n",
       "        text-align: right;\n",
       "    }\n",
       "</style>\n",
       "<table border=\"1\" class=\"dataframe\">\n",
       "  <thead>\n",
       "    <tr style=\"text-align: right;\">\n",
       "      <th></th>\n",
       "      <th>time</th>\n",
       "      <th>signal</th>\n",
       "      <th>open_channels</th>\n",
       "      <th>local_time</th>\n",
       "      <th>batch</th>\n",
       "      <th>mini_batch</th>\n",
       "      <th>group</th>\n",
       "      <th>signal_original</th>\n",
       "      <th>shift+1</th>\n",
       "      <th>shift_1</th>\n",
       "      <th>shift+2</th>\n",
       "      <th>shift_2</th>\n",
       "      <th>shift+3</th>\n",
       "      <th>shift_3</th>\n",
       "      <th>shift+4</th>\n",
       "      <th>shift_4</th>\n",
       "      <th>shift+5</th>\n",
       "      <th>shift_5</th>\n",
       "    </tr>\n",
       "  </thead>\n",
       "  <tbody>\n",
       "    <tr>\n",
       "      <th>0</th>\n",
       "      <td>200.000107</td>\n",
       "      <td>7.184300</td>\n",
       "      <td>9</td>\n",
       "      <td>0.000107</td>\n",
       "      <td>5</td>\n",
       "      <td>1</td>\n",
       "      <td>5_1</td>\n",
       "      <td>7.1191</td>\n",
       "      <td>0.000000</td>\n",
       "      <td>6.836219</td>\n",
       "      <td>0.000000</td>\n",
       "      <td>6.992574</td>\n",
       "      <td>0.000000</td>\n",
       "      <td>7.418564</td>\n",
       "      <td>0.0000</td>\n",
       "      <td>7.483490</td>\n",
       "      <td>0.0</td>\n",
       "      <td>7.724653</td>\n",
       "    </tr>\n",
       "    <tr>\n",
       "      <th>1</th>\n",
       "      <td>200.000198</td>\n",
       "      <td>6.836219</td>\n",
       "      <td>9</td>\n",
       "      <td>0.000198</td>\n",
       "      <td>5</td>\n",
       "      <td>1</td>\n",
       "      <td>5_1</td>\n",
       "      <td>6.7712</td>\n",
       "      <td>7.184300</td>\n",
       "      <td>6.992574</td>\n",
       "      <td>0.000000</td>\n",
       "      <td>7.418564</td>\n",
       "      <td>0.000000</td>\n",
       "      <td>7.483490</td>\n",
       "      <td>0.0000</td>\n",
       "      <td>7.724653</td>\n",
       "      <td>0.0</td>\n",
       "      <td>6.612053</td>\n",
       "    </tr>\n",
       "    <tr>\n",
       "      <th>2</th>\n",
       "      <td>200.000305</td>\n",
       "      <td>6.992574</td>\n",
       "      <td>9</td>\n",
       "      <td>0.000305</td>\n",
       "      <td>5</td>\n",
       "      <td>1</td>\n",
       "      <td>5_1</td>\n",
       "      <td>6.9278</td>\n",
       "      <td>6.836219</td>\n",
       "      <td>7.418564</td>\n",
       "      <td>7.184300</td>\n",
       "      <td>7.483490</td>\n",
       "      <td>0.000000</td>\n",
       "      <td>7.724653</td>\n",
       "      <td>0.0000</td>\n",
       "      <td>6.612053</td>\n",
       "      <td>0.0</td>\n",
       "      <td>6.161490</td>\n",
       "    </tr>\n",
       "    <tr>\n",
       "      <th>3</th>\n",
       "      <td>200.000397</td>\n",
       "      <td>7.418564</td>\n",
       "      <td>9</td>\n",
       "      <td>0.000397</td>\n",
       "      <td>5</td>\n",
       "      <td>1</td>\n",
       "      <td>5_1</td>\n",
       "      <td>7.3541</td>\n",
       "      <td>6.992574</td>\n",
       "      <td>7.483490</td>\n",
       "      <td>6.836219</td>\n",
       "      <td>7.724653</td>\n",
       "      <td>7.184300</td>\n",
       "      <td>6.612053</td>\n",
       "      <td>0.0000</td>\n",
       "      <td>6.161490</td>\n",
       "      <td>0.0</td>\n",
       "      <td>6.702865</td>\n",
       "    </tr>\n",
       "    <tr>\n",
       "      <th>4</th>\n",
       "      <td>200.000504</td>\n",
       "      <td>7.483490</td>\n",
       "      <td>9</td>\n",
       "      <td>0.000504</td>\n",
       "      <td>5</td>\n",
       "      <td>1</td>\n",
       "      <td>5_1</td>\n",
       "      <td>7.4194</td>\n",
       "      <td>7.418564</td>\n",
       "      <td>7.724653</td>\n",
       "      <td>6.992574</td>\n",
       "      <td>6.612053</td>\n",
       "      <td>6.836219</td>\n",
       "      <td>6.161490</td>\n",
       "      <td>7.1843</td>\n",
       "      <td>6.702865</td>\n",
       "      <td>0.0</td>\n",
       "      <td>6.819578</td>\n",
       "    </tr>\n",
       "  </tbody>\n",
       "</table>\n",
       "</div>"
      ],
      "text/plain": [
       "         time    signal  open_channels  local_time  batch  mini_batch group  \\\n",
       "0  200.000107  7.184300              9    0.000107      5           1   5_1   \n",
       "1  200.000198  6.836219              9    0.000198      5           1   5_1   \n",
       "2  200.000305  6.992574              9    0.000305      5           1   5_1   \n",
       "3  200.000397  7.418564              9    0.000397      5           1   5_1   \n",
       "4  200.000504  7.483490              9    0.000504      5           1   5_1   \n",
       "\n",
       "   signal_original   shift+1   shift_1   shift+2   shift_2   shift+3  \\\n",
       "0           7.1191  0.000000  6.836219  0.000000  6.992574  0.000000   \n",
       "1           6.7712  7.184300  6.992574  0.000000  7.418564  0.000000   \n",
       "2           6.9278  6.836219  7.418564  7.184300  7.483490  0.000000   \n",
       "3           7.3541  6.992574  7.483490  6.836219  7.724653  7.184300   \n",
       "4           7.4194  7.418564  7.724653  6.992574  6.612053  6.836219   \n",
       "\n",
       "    shift_3  shift+4   shift_4  shift+5   shift_5  \n",
       "0  7.418564   0.0000  7.483490      0.0  7.724653  \n",
       "1  7.483490   0.0000  7.724653      0.0  6.612053  \n",
       "2  7.724653   0.0000  6.612053      0.0  6.161490  \n",
       "3  6.612053   0.0000  6.161490      0.0  6.702865  \n",
       "4  6.161490   7.1843  6.702865      0.0  6.819578  "
      ]
     },
     "execution_count": 8,
     "metadata": {},
     "output_type": "execute_result"
    }
   ],
   "source": [
    "# feature engineering here\n",
    "def fe(df, is_train):\n",
    "\n",
    "    # shift features\n",
    "    for shift_val in range(1, 6):\n",
    "        group_on = \"group\"\n",
    "        df[f'shift+{shift_val}'] = df.groupby([group_on])['signal'].shift(shift_val).fillna(0)\n",
    "        df[f'shift_{shift_val}'] = df.groupby([group_on])['signal'].shift(-shift_val).fillna(0)\n",
    "    \n",
    "    return df\n",
    "\n",
    "df_train = fe(df_train, is_train=1)\n",
    "df_test = fe(df_test, is_train=0)\n",
    "\n",
    "use_cols = [\n",
    "    col for col in df_train.columns if col not in\n",
    "    [\"time\", \"local_time\", \"open_channels\", \"batch\", \"mini_batch\", \"group\", \"oof\", \"signal_original\"]\n",
    "]\n",
    "print(\"Used columns is\", use_cols)\n",
    "df_train.head()"
   ]
  },
  {
   "cell_type": "code",
   "execution_count": 9,
   "metadata": {
    "ExecuteTime": {
     "end_time": "2020-05-25T00:47:45.504934Z",
     "start_time": "2020-05-25T00:47:45.501911Z"
    }
   },
   "outputs": [],
   "source": [
    "rng=42\n",
    "param_5 = {\n",
    "    \"objective\": \"regression\",\n",
    "    'metric': 'rmse',\n",
    "    'num_leaves': 128,\n",
    "    'learning_rate': 0.1,\n",
    "    'n_estimators': 5000,\n",
    "    'subsample': 0.65,\n",
    "    \"feature_fraction\": 1,\n",
    "    \"lambda_l1\": 0.85,\n",
    "    \"lambda_l2\": 0.78,\n",
    "    \"max_depth\": 8,\n",
    "    \"min_child_weight\": 0.06,\n",
    "    \"min_split_gain\": 0.06,\n",
    "    'seed': rng,\n",
    "    'n_jobs': -1\n",
    "}\n",
    "BATCH_GROUP_5 = [5,10]\n",
    "# param_5 = param\n",
    "gkf = GroupKFold(n_splits=5)\n",
    "all_features = use_cols"
   ]
  },
  {
   "cell_type": "code",
   "execution_count": 10,
   "metadata": {
    "ExecuteTime": {
     "end_time": "2020-05-25T00:47:45.516966Z",
     "start_time": "2020-05-25T00:47:45.505779Z"
    }
   },
   "outputs": [],
   "source": [
    "groups = df_train[\"group\"].values\n",
    "oof_pred = np.zeros(df_train.shape[0])\n",
    "adjust_num = 1"
   ]
  },
  {
   "cell_type": "code",
   "execution_count": null,
   "metadata": {
    "ExecuteTime": {
     "end_time": "2020-05-25T00:47:21.710955Z",
     "start_time": "2020-05-25T00:47:21.697002Z"
    }
   },
   "outputs": [],
   "source": []
  },
  {
   "cell_type": "code",
   "execution_count": 11,
   "metadata": {
    "ExecuteTime": {
     "end_time": "2020-05-25T00:47:55.516956Z",
     "start_time": "2020-05-25T00:47:45.517925Z"
    },
    "collapsed": true
   },
   "outputs": [
    {
     "name": "stdout",
     "output_type": "stream",
     "text": [
      "Traning on folder 0 ...\n",
      "Training until validation scores don't improve for 200 rounds\n",
      "[200]\ttraining's rmse: 0.276117\tvalid_1's rmse: 0.280589\n",
      "Early stopping, best iteration is:\n",
      "[63]\ttraining's rmse: 0.277218\tvalid_1's rmse: 0.28052\n",
      "--- Vilid F1 score is 0.744\n",
      "\n",
      "Traning on folder 1 ...\n",
      "Training until validation scores don't improve for 200 rounds\n",
      "[200]\ttraining's rmse: 0.275916\tvalid_1's rmse: 0.280405\n",
      "Early stopping, best iteration is:\n",
      "[66]\ttraining's rmse: 0.277188\tvalid_1's rmse: 0.280334\n",
      "--- Vilid F1 score is 0.7474\n",
      "\n",
      "Traning on folder 2 ...\n",
      "Training until validation scores don't improve for 200 rounds\n",
      "[200]\ttraining's rmse: 0.275644\tvalid_1's rmse: 0.281986\n",
      "Early stopping, best iteration is:\n",
      "[62]\ttraining's rmse: 0.276874\tvalid_1's rmse: 0.281925\n",
      "--- Vilid F1 score is 0.7426\n",
      "\n",
      "Traning on folder 3 ...\n",
      "Training until validation scores don't improve for 200 rounds\n"
     ]
    },
    {
     "ename": "KeyboardInterrupt",
     "evalue": "",
     "output_type": "error",
     "traceback": [
      "\u001b[0;31m---------------------------------------------------------------------------\u001b[0m",
      "\u001b[0;31mKeyboardInterrupt\u001b[0m                         Traceback (most recent call last)",
      "\u001b[0;32m<ipython-input-11-bed9bae1e27d>\u001b[0m in \u001b[0;36m<module>\u001b[0;34m\u001b[0m\n\u001b[1;32m     10\u001b[0m                     \u001b[0meval_set\u001b[0m\u001b[0;34m=\u001b[0m\u001b[0;34m[\u001b[0m\u001b[0;34m(\u001b[0m\u001b[0mX_train\u001b[0m\u001b[0;34m,\u001b[0m \u001b[0my_train\u001b[0m\u001b[0;34m)\u001b[0m\u001b[0;34m,\u001b[0m \u001b[0;34m(\u001b[0m\u001b[0mX_valid\u001b[0m\u001b[0;34m,\u001b[0m \u001b[0my_valid\u001b[0m\u001b[0;34m)\u001b[0m\u001b[0;34m]\u001b[0m\u001b[0;34m,\u001b[0m\u001b[0;34m\u001b[0m\u001b[0;34m\u001b[0m\u001b[0m\n\u001b[1;32m     11\u001b[0m                     \u001b[0mearly_stopping_rounds\u001b[0m\u001b[0;34m=\u001b[0m\u001b[0;36m200\u001b[0m\u001b[0;34m,\u001b[0m\u001b[0;34m\u001b[0m\u001b[0;34m\u001b[0m\u001b[0m\n\u001b[0;32m---> 12\u001b[0;31m                     verbose=200)\n\u001b[0m\u001b[1;32m     13\u001b[0m \u001b[0;31m#     fi_df[f'importance_folder_{fold}'] = model_lgb.feature_importances_\u001b[0m\u001b[0;34m\u001b[0m\u001b[0;34m\u001b[0m\u001b[0;34m\u001b[0m\u001b[0m\n\u001b[1;32m     14\u001b[0m     \u001b[0my_pred_valid\u001b[0m \u001b[0;34m=\u001b[0m \u001b[0mmodel_lgb\u001b[0m\u001b[0;34m.\u001b[0m\u001b[0mpredict\u001b[0m\u001b[0;34m(\u001b[0m\u001b[0mX_valid\u001b[0m\u001b[0;34m,\u001b[0m \u001b[0mnum_iteration\u001b[0m\u001b[0;34m=\u001b[0m\u001b[0mmodel_lgb\u001b[0m\u001b[0;34m.\u001b[0m\u001b[0mbest_iteration_\u001b[0m\u001b[0;34m)\u001b[0m\u001b[0;34m\u001b[0m\u001b[0;34m\u001b[0m\u001b[0m\n",
      "\u001b[0;32m~/anaconda3/lib/python3.7/site-packages/lightgbm/sklearn.py\u001b[0m in \u001b[0;36mfit\u001b[0;34m(self, X, y, sample_weight, init_score, eval_set, eval_names, eval_sample_weight, eval_init_score, eval_metric, early_stopping_rounds, verbose, feature_name, categorical_feature, callbacks)\u001b[0m\n\u001b[1;32m    741\u001b[0m                                        \u001b[0mverbose\u001b[0m\u001b[0;34m=\u001b[0m\u001b[0mverbose\u001b[0m\u001b[0;34m,\u001b[0m \u001b[0mfeature_name\u001b[0m\u001b[0;34m=\u001b[0m\u001b[0mfeature_name\u001b[0m\u001b[0;34m,\u001b[0m\u001b[0;34m\u001b[0m\u001b[0;34m\u001b[0m\u001b[0m\n\u001b[1;32m    742\u001b[0m                                        \u001b[0mcategorical_feature\u001b[0m\u001b[0;34m=\u001b[0m\u001b[0mcategorical_feature\u001b[0m\u001b[0;34m,\u001b[0m\u001b[0;34m\u001b[0m\u001b[0;34m\u001b[0m\u001b[0m\n\u001b[0;32m--> 743\u001b[0;31m                                        callbacks=callbacks)\n\u001b[0m\u001b[1;32m    744\u001b[0m         \u001b[0;32mreturn\u001b[0m \u001b[0mself\u001b[0m\u001b[0;34m\u001b[0m\u001b[0;34m\u001b[0m\u001b[0m\n\u001b[1;32m    745\u001b[0m \u001b[0;34m\u001b[0m\u001b[0m\n",
      "\u001b[0;32m~/anaconda3/lib/python3.7/site-packages/lightgbm/sklearn.py\u001b[0m in \u001b[0;36mfit\u001b[0;34m(self, X, y, sample_weight, init_score, group, eval_set, eval_names, eval_sample_weight, eval_class_weight, eval_init_score, eval_group, eval_metric, early_stopping_rounds, verbose, feature_name, categorical_feature, callbacks)\u001b[0m\n\u001b[1;32m    598\u001b[0m                               \u001b[0mverbose_eval\u001b[0m\u001b[0;34m=\u001b[0m\u001b[0mverbose\u001b[0m\u001b[0;34m,\u001b[0m \u001b[0mfeature_name\u001b[0m\u001b[0;34m=\u001b[0m\u001b[0mfeature_name\u001b[0m\u001b[0;34m,\u001b[0m\u001b[0;34m\u001b[0m\u001b[0;34m\u001b[0m\u001b[0m\n\u001b[1;32m    599\u001b[0m                               \u001b[0mcategorical_feature\u001b[0m\u001b[0;34m=\u001b[0m\u001b[0mcategorical_feature\u001b[0m\u001b[0;34m,\u001b[0m\u001b[0;34m\u001b[0m\u001b[0;34m\u001b[0m\u001b[0m\n\u001b[0;32m--> 600\u001b[0;31m                               callbacks=callbacks)\n\u001b[0m\u001b[1;32m    601\u001b[0m \u001b[0;34m\u001b[0m\u001b[0m\n\u001b[1;32m    602\u001b[0m         \u001b[0;32mif\u001b[0m \u001b[0mevals_result\u001b[0m\u001b[0;34m:\u001b[0m\u001b[0;34m\u001b[0m\u001b[0;34m\u001b[0m\u001b[0m\n",
      "\u001b[0;32m~/anaconda3/lib/python3.7/site-packages/lightgbm/engine.py\u001b[0m in \u001b[0;36mtrain\u001b[0;34m(params, train_set, num_boost_round, valid_sets, valid_names, fobj, feval, init_model, feature_name, categorical_feature, early_stopping_rounds, evals_result, verbose_eval, learning_rates, keep_training_booster, callbacks)\u001b[0m\n\u001b[1;32m    247\u001b[0m                                     evaluation_result_list=None))\n\u001b[1;32m    248\u001b[0m \u001b[0;34m\u001b[0m\u001b[0m\n\u001b[0;32m--> 249\u001b[0;31m         \u001b[0mbooster\u001b[0m\u001b[0;34m.\u001b[0m\u001b[0mupdate\u001b[0m\u001b[0;34m(\u001b[0m\u001b[0mfobj\u001b[0m\u001b[0;34m=\u001b[0m\u001b[0mfobj\u001b[0m\u001b[0;34m)\u001b[0m\u001b[0;34m\u001b[0m\u001b[0;34m\u001b[0m\u001b[0m\n\u001b[0m\u001b[1;32m    250\u001b[0m \u001b[0;34m\u001b[0m\u001b[0m\n\u001b[1;32m    251\u001b[0m         \u001b[0mevaluation_result_list\u001b[0m \u001b[0;34m=\u001b[0m \u001b[0;34m[\u001b[0m\u001b[0;34m]\u001b[0m\u001b[0;34m\u001b[0m\u001b[0;34m\u001b[0m\u001b[0m\n",
      "\u001b[0;32m~/anaconda3/lib/python3.7/site-packages/lightgbm/basic.py\u001b[0m in \u001b[0;36mupdate\u001b[0;34m(self, train_set, fobj)\u001b[0m\n\u001b[1;32m   1974\u001b[0m             _safe_call(_LIB.LGBM_BoosterUpdateOneIter(\n\u001b[1;32m   1975\u001b[0m                 \u001b[0mself\u001b[0m\u001b[0;34m.\u001b[0m\u001b[0mhandle\u001b[0m\u001b[0;34m,\u001b[0m\u001b[0;34m\u001b[0m\u001b[0;34m\u001b[0m\u001b[0m\n\u001b[0;32m-> 1976\u001b[0;31m                 ctypes.byref(is_finished)))\n\u001b[0m\u001b[1;32m   1977\u001b[0m             \u001b[0mself\u001b[0m\u001b[0;34m.\u001b[0m\u001b[0m__is_predicted_cur_iter\u001b[0m \u001b[0;34m=\u001b[0m \u001b[0;34m[\u001b[0m\u001b[0;32mFalse\u001b[0m \u001b[0;32mfor\u001b[0m \u001b[0m_\u001b[0m \u001b[0;32min\u001b[0m \u001b[0mrange_\u001b[0m\u001b[0;34m(\u001b[0m\u001b[0mself\u001b[0m\u001b[0;34m.\u001b[0m\u001b[0m__num_dataset\u001b[0m\u001b[0;34m)\u001b[0m\u001b[0;34m]\u001b[0m\u001b[0;34m\u001b[0m\u001b[0;34m\u001b[0m\u001b[0m\n\u001b[1;32m   1978\u001b[0m             \u001b[0;32mreturn\u001b[0m \u001b[0mis_finished\u001b[0m\u001b[0;34m.\u001b[0m\u001b[0mvalue\u001b[0m \u001b[0;34m==\u001b[0m \u001b[0;36m1\u001b[0m\u001b[0;34m\u001b[0m\u001b[0;34m\u001b[0m\u001b[0m\n",
      "\u001b[0;31mKeyboardInterrupt\u001b[0m: "
     ]
    }
   ],
   "source": [
    "for fold, (train_index, valid_index) in enumerate(gkf.split(df_train, df_train[TARGET], groups)):\n",
    "\n",
    "    print(\"Traning on folder\", fold, \"...\")\n",
    "    X_train, X_valid = df_train.iloc[train_index][all_features], df_train.iloc[valid_index][all_features]\n",
    "    y_train, y_valid = df_train.iloc[train_index][TARGET], df_train.iloc[valid_index][TARGET]\n",
    "\n",
    "    model_lgb = lgb.LGBMRegressor(**param_5)\n",
    "\n",
    "    model_lgb.fit(X_train, y_train,\n",
    "                    eval_set=[(X_train, y_train), (X_valid, y_valid)],\n",
    "                    early_stopping_rounds=200,\n",
    "                    verbose=200)\n",
    "#     fi_df[f'importance_folder_{fold}'] = model_lgb.feature_importances_\n",
    "    y_pred_valid = model_lgb.predict(X_valid, num_iteration=model_lgb.best_iteration_)\n",
    "    oof_pred[valid_index] = y_pred_valid\n",
    "\n",
    "#     df_test.loc[(df_test.batch == 2) & (df_test.mini_batch == 1),TARGET] += model_lgb.predict(df_test_2_1[all_features], num_iteration=model_lgb.best_iteration_) / cv\n",
    "#     df_test.loc[(df_test.batch == 2) & (df_test.mini_batch == 3),TARGET] += model_lgb.predict(df_test_2_3[all_features], num_iteration=model_lgb.best_iteration_) / cv\n",
    "\n",
    "    print(\"--- Vilid F1 score is\", np.round(macro_f1_score_nb(df_train.iloc[valid_index][TARGET].astype(np.int32).values - adjust_num, y_pred_valid.round().astype(np.int32) - adjust_num, 11 - adjust_num), 4))\n",
    "    print(\"\")\n",
    "\n",
    "# optimize the round prediction\n",
    "df_train.loc[df_train.batch.isin(BATCH_GROUP_5), \"oof\"] = oof_pred\n",
    "optRf = OptimizedRounderF1_model5()\n",
    "optRf.fit(df_train.loc[df_train.batch.isin(BATCH_GROUP_5), \"oof\"], df_train.loc[df_train.batch.isin(BATCH_GROUP_5), TARGET])\n",
    "coefficientsf = optRf.coefficients()\n",
    "print(coefficientsf)\n",
    "df_train.loc[df_train.batch.isin(BATCH_GROUP_5), \"oof\"] = optRf.predict(df_train.loc[df_train.batch.isin(BATCH_GROUP_5), \"oof\"], coefficientsf)\n",
    "df_test.loc[(df_test.batch == 2) & (df_test.mini_batch == 1),TARGET] = optRf.predict(df_test.loc[(df_test.batch == 2) & (df_test.mini_batch == 1),TARGET], coefficientsf)\n",
    "df_test.loc[(df_test.batch == 2) & (df_test.mini_batch == 3),TARGET] = optRf.predict(df_test.loc[(df_test.batch == 2) & (df_test.mini_batch == 3),TARGET], coefficientsf)\n",
    "\n",
    "# print(\"-------------------------------------\")\n",
    "\n",
    "print(\"Overall F1 score is\", np.round(macro_f1_score_nb(df_train.loc[df_train.batch.isin(BATCH_GROUP_5), TARGET].astype(np.int32).values - adjust_num, df_train.loc[df_train.batch.isin(BATCH_GROUP_5), \"oof\"].astype(np.int32).values - adjust_num, 11- adjust_num), 5))\n",
    "\n",
    "fi_df['importance'] = fi_df.sum(axis=1)\n",
    "fi_df.sort_values('importance')['importance'][-30:].plot(\n",
    "    kind='barh',\n",
    "    figsize=(12, 5),\n",
    "    title='- Feature Importance',\n",
    ")\n",
    "plt.show()\n",
    "\n",
    "# 0.875 (9 classes)"
   ]
  },
  {
   "cell_type": "code",
   "execution_count": 15,
   "metadata": {
    "ExecuteTime": {
     "end_time": "2020-05-25T00:48:31.767948Z",
     "start_time": "2020-05-25T00:48:31.761772Z"
    }
   },
   "outputs": [
    {
     "data": {
      "text/plain": [
       "array([1., 2., 3., 4., 5., 6., 7., 8., 9.])"
      ]
     },
     "execution_count": 15,
     "metadata": {},
     "output_type": "execute_result"
    }
   ],
   "source": [
    "np.unique(y_pred_valid.round()\n",
    ")"
   ]
  },
  {
   "cell_type": "code",
   "execution_count": null,
   "metadata": {},
   "outputs": [],
   "source": []
  },
  {
   "cell_type": "code",
   "execution_count": null,
   "metadata": {},
   "outputs": [],
   "source": []
  },
  {
   "cell_type": "code",
   "execution_count": null,
   "metadata": {},
   "outputs": [],
   "source": []
  },
  {
   "cell_type": "code",
   "execution_count": null,
   "metadata": {},
   "outputs": [],
   "source": []
  },
  {
   "cell_type": "code",
   "execution_count": null,
   "metadata": {},
   "outputs": [],
   "source": []
  },
  {
   "cell_type": "code",
   "execution_count": null,
   "metadata": {},
   "outputs": [],
   "source": []
  },
  {
   "cell_type": "code",
   "execution_count": null,
   "metadata": {},
   "outputs": [],
   "source": []
  },
  {
   "cell_type": "code",
   "execution_count": null,
   "metadata": {},
   "outputs": [],
   "source": []
  },
  {
   "cell_type": "code",
   "execution_count": null,
   "metadata": {},
   "outputs": [],
   "source": []
  },
  {
   "cell_type": "code",
   "execution_count": null,
   "metadata": {},
   "outputs": [],
   "source": []
  },
  {
   "cell_type": "code",
   "execution_count": null,
   "metadata": {},
   "outputs": [],
   "source": []
  },
  {
   "cell_type": "code",
   "execution_count": null,
   "metadata": {},
   "outputs": [],
   "source": []
  },
  {
   "cell_type": "code",
   "execution_count": null,
   "metadata": {},
   "outputs": [],
   "source": []
  },
  {
   "cell_type": "code",
   "execution_count": null,
   "metadata": {},
   "outputs": [],
   "source": []
  },
  {
   "cell_type": "code",
   "execution_count": null,
   "metadata": {},
   "outputs": [],
   "source": []
  },
  {
   "cell_type": "code",
   "execution_count": null,
   "metadata": {},
   "outputs": [],
   "source": []
  },
  {
   "cell_type": "code",
   "execution_count": null,
   "metadata": {},
   "outputs": [],
   "source": []
  },
  {
   "cell_type": "code",
   "execution_count": null,
   "metadata": {},
   "outputs": [],
   "source": []
  },
  {
   "cell_type": "code",
   "execution_count": null,
   "metadata": {},
   "outputs": [],
   "source": []
  },
  {
   "cell_type": "code",
   "execution_count": null,
   "metadata": {},
   "outputs": [],
   "source": []
  },
  {
   "cell_type": "code",
   "execution_count": null,
   "metadata": {},
   "outputs": [],
   "source": []
  },
  {
   "cell_type": "code",
   "execution_count": null,
   "metadata": {},
   "outputs": [],
   "source": []
  },
  {
   "cell_type": "code",
   "execution_count": null,
   "metadata": {},
   "outputs": [],
   "source": []
  },
  {
   "cell_type": "code",
   "execution_count": null,
   "metadata": {},
   "outputs": [],
   "source": []
  },
  {
   "cell_type": "code",
   "execution_count": null,
   "metadata": {},
   "outputs": [],
   "source": []
  },
  {
   "cell_type": "code",
   "execution_count": null,
   "metadata": {},
   "outputs": [],
   "source": []
  }
 ],
 "metadata": {
  "kernelspec": {
   "display_name": "Python 3",
   "language": "python",
   "name": "python3"
  },
  "language_info": {
   "codemirror_mode": {
    "name": "ipython",
    "version": 3
   },
   "file_extension": ".py",
   "mimetype": "text/x-python",
   "name": "python",
   "nbconvert_exporter": "python",
   "pygments_lexer": "ipython3",
   "version": "3.7.5"
  }
 },
 "nbformat": 4,
 "nbformat_minor": 2
}
